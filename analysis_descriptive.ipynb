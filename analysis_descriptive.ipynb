{
 "cells": [
  {
   "cell_type": "markdown",
   "id": "e3642e59-8794-4357-b043-1874eade3553",
   "metadata": {},
   "source": [
    "# Descriptive Analysis of the papers\n",
    "\n",
    "This is a descriptive approach to extract insights on the review in form of quantitative meta analysis and visualization.\n",
    "\n",
    "Steps for a clean xlsx-File:\n",
    "1. Download the [spreadsheet](https://docs.google.com/spreadsheets/d/1uM_VpRDk2YLPrqe4KiA_20HWBWmcSw_f9orz6cuOieQ/edit?pli=1#gid=1960060281) as xlsx.\n",
    "1. "
   ]
  },
  {
   "cell_type": "code",
   "execution_count": 1,
   "id": "5298e0cb-88d4-44d3-9ea9-e61bd422b29c",
   "metadata": {},
   "outputs": [],
   "source": [
    "# %pip install -r requirements.txt"
   ]
  },
  {
   "cell_type": "code",
   "execution_count": 2,
   "id": "d146ade6-f440-4e18-9c33-c19614973d2f",
   "metadata": {},
   "outputs": [],
   "source": [
    "import os\n",
    "os.chdir(\"/home/jovyan/work/BCI/SLR_EEG_motion_artifact_correction_methods/\")\n",
    "\n",
    "import sys\n",
    "import time\n",
    "from datetime import datetime\n",
    "\n",
    "import math\n",
    "import numpy as np\n",
    "import pandas as pd\n",
    "pd.set_option('display.max_rows', 500)\n",
    "pd.set_option('display.max_columns', 500)\n",
    "pd.set_option('display.width', 1000)\n",
    "import matplotlib.pyplot as plt\n",
    "import seaborn as sns"
   ]
  },
  {
   "cell_type": "code",
   "execution_count": 3,
   "id": "d6aae1a2-b6c4-454f-a888-4b9ffcc4a8a8",
   "metadata": {},
   "outputs": [],
   "source": [
    "PRISMA_RESULT_PATH = \"Passed_papers/papers_passed.csv\"\n",
    "TABLE_NAME = \"Systematic Literature Review on Motion Artifact Removal of EEG Signals.xlsx\""
   ]
  },
  {
   "cell_type": "markdown",
   "id": "6f7d9578-52fe-49a6-92c7-8af92596d1a5",
   "metadata": {},
   "source": [
    "## Load the Search Results"
   ]
  },
  {
   "cell_type": "code",
   "execution_count": 4,
   "id": "76fe1534-5c52-42e0-8598-2f1a4be616d9",
   "metadata": {},
   "outputs": [
    {
     "data": {
      "text/html": [
       "<div>\n",
       "<style scoped>\n",
       "    .dataframe tbody tr th:only-of-type {\n",
       "        vertical-align: middle;\n",
       "    }\n",
       "\n",
       "    .dataframe tbody tr th {\n",
       "        vertical-align: top;\n",
       "    }\n",
       "\n",
       "    .dataframe thead th {\n",
       "        text-align: right;\n",
       "    }\n",
       "</style>\n",
       "<table border=\"1\" class=\"dataframe\">\n",
       "  <thead>\n",
       "    <tr style=\"text-align: right;\">\n",
       "      <th></th>\n",
       "      <th>PMID</th>\n",
       "      <th>Title</th>\n",
       "      <th>Authors</th>\n",
       "      <th>Citation</th>\n",
       "      <th>First Author</th>\n",
       "      <th>Journal/Book</th>\n",
       "      <th>Publication Year</th>\n",
       "      <th>Create Date</th>\n",
       "      <th>PMCID</th>\n",
       "      <th>NIHMS ID</th>\n",
       "      <th>DOI</th>\n",
       "      <th>Ref</th>\n",
       "    </tr>\n",
       "  </thead>\n",
       "  <tbody>\n",
       "    <tr>\n",
       "      <th>1</th>\n",
       "      <td>35590859</td>\n",
       "      <td>Motion Artifacts Correction from Single-Channe...</td>\n",
       "      <td>Hossain MS, Chowdhury MEH, Reaz MBI, Ali SHM, ...</td>\n",
       "      <td>Sensors (Basel). 2022 Apr 21;22(9):3169. doi: ...</td>\n",
       "      <td>Hossain MS</td>\n",
       "      <td>Sensors (Basel)</td>\n",
       "      <td>2022</td>\n",
       "      <td>2022/05/20</td>\n",
       "      <td>PMC9102309</td>\n",
       "      <td>NaN</td>\n",
       "      <td>10.3390/s22093169</td>\n",
       "      <td>Hossain22</td>\n",
       "    </tr>\n",
       "    <tr>\n",
       "      <th>2</th>\n",
       "      <td>35459033</td>\n",
       "      <td>Improved Cognitive Vigilance Assessment after ...</td>\n",
       "      <td>Abu Farha N, Al-Shargie F, Tariq U, Al-Nashash H.</td>\n",
       "      <td>Sensors (Basel). 2022 Apr 15;22(8):3051. doi: ...</td>\n",
       "      <td>Abu Farha N</td>\n",
       "      <td>Sensors (Basel)</td>\n",
       "      <td>2022</td>\n",
       "      <td>2022/04/23</td>\n",
       "      <td>PMC9033092</td>\n",
       "      <td>NaN</td>\n",
       "      <td>10.3390/s22083051</td>\n",
       "      <td>Farha22</td>\n",
       "    </tr>\n",
       "  </tbody>\n",
       "</table>\n",
       "</div>"
      ],
      "text/plain": [
       "       PMID                                              Title                                            Authors                                           Citation First Author     Journal/Book  Publication Year Create Date       PMCID NIHMS ID                DOI        Ref\n",
       "1  35590859  Motion Artifacts Correction from Single-Channe...  Hossain MS, Chowdhury MEH, Reaz MBI, Ali SHM, ...  Sensors (Basel). 2022 Apr 21;22(9):3169. doi: ...   Hossain MS  Sensors (Basel)              2022  2022/05/20  PMC9102309      NaN  10.3390/s22093169  Hossain22\n",
       "2  35459033  Improved Cognitive Vigilance Assessment after ...  Abu Farha N, Al-Shargie F, Tariq U, Al-Nashash H.  Sensors (Basel). 2022 Apr 15;22(8):3051. doi: ...  Abu Farha N  Sensors (Basel)              2022  2022/04/23  PMC9033092      NaN  10.3390/s22083051    Farha22"
      ]
     },
     "execution_count": 4,
     "metadata": {},
     "output_type": "execute_result"
    }
   ],
   "source": [
    "# this file is used as template on google docs\n",
    "df = pd.read_csv(PRISMA_RESULT_PATH)\n",
    "df.index += 1  # increment index such that it fits with the used indices\n",
    "df.head(2)"
   ]
  },
  {
   "cell_type": "code",
   "execution_count": null,
   "id": "1d50efa8-fab9-45bc-a658-fd37f0027db8",
   "metadata": {},
   "outputs": [],
   "source": []
  },
  {
   "cell_type": "markdown",
   "id": "cd8f07fb-c301-40e2-be46-ecbc1c72540a",
   "metadata": {},
   "source": [
    "## Load the Spreadsheets into separate DataFrames"
   ]
  },
  {
   "cell_type": "markdown",
   "id": "9c29b2f3-a23a-48ae-9bc4-dffbe254820b",
   "metadata": {},
   "source": [
    "### papers_passed"
   ]
  },
  {
   "cell_type": "code",
   "execution_count": 5,
   "id": "374f1229-6d56-47c1-9d7c-e7c07e1d589a",
   "metadata": {
    "tags": []
   },
   "outputs": [
    {
     "name": "stdout",
     "output_type": "stream",
     "text": [
      "<class 'pandas.core.frame.DataFrame'>\n",
      "Index: 78 entries, Hossain22 to Jung01\n",
      "Data columns (total 4 columns):\n",
      " #   Column            Non-Null Count  Dtype         \n",
      "---  ------            --------------  -----         \n",
      " 0   Title             78 non-null     object        \n",
      " 1   Authors           78 non-null     object        \n",
      " 2   Publication Year  78 non-null     Int64         \n",
      " 3   Create Date       78 non-null     datetime64[ns]\n",
      "dtypes: Int64(1), datetime64[ns](1), object(2)\n",
      "memory usage: 3.1+ KB\n"
     ]
    },
    {
     "data": {
      "text/html": [
       "<div>\n",
       "<style scoped>\n",
       "    .dataframe tbody tr th:only-of-type {\n",
       "        vertical-align: middle;\n",
       "    }\n",
       "\n",
       "    .dataframe tbody tr th {\n",
       "        vertical-align: top;\n",
       "    }\n",
       "\n",
       "    .dataframe thead th {\n",
       "        text-align: right;\n",
       "    }\n",
       "</style>\n",
       "<table border=\"1\" class=\"dataframe\">\n",
       "  <thead>\n",
       "    <tr style=\"text-align: right;\">\n",
       "      <th></th>\n",
       "      <th>Title</th>\n",
       "      <th>Authors</th>\n",
       "      <th>Publication Year</th>\n",
       "      <th>Create Date</th>\n",
       "    </tr>\n",
       "    <tr>\n",
       "      <th>Reference</th>\n",
       "      <th></th>\n",
       "      <th></th>\n",
       "      <th></th>\n",
       "      <th></th>\n",
       "    </tr>\n",
       "  </thead>\n",
       "  <tbody>\n",
       "    <tr>\n",
       "      <th>Hossain22</th>\n",
       "      <td>Motion Artifacts Correction from Single-Channe...</td>\n",
       "      <td>Hossain MS, Chowdhury MEH, Reaz MBI, Ali SHM, ...</td>\n",
       "      <td>2022</td>\n",
       "      <td>2022-05-20</td>\n",
       "    </tr>\n",
       "    <tr>\n",
       "      <th>Abu22</th>\n",
       "      <td>Improved Cognitive Vigilance Assessment after ...</td>\n",
       "      <td>Abu Farha N, Al-Shargie F, Tariq U, Al-Nashash H.</td>\n",
       "      <td>2022</td>\n",
       "      <td>2022-04-23</td>\n",
       "    </tr>\n",
       "  </tbody>\n",
       "</table>\n",
       "</div>"
      ],
      "text/plain": [
       "                                                       Title                                            Authors  Publication Year Create Date\n",
       "Reference                                                                                                                                    \n",
       "Hossain22  Motion Artifacts Correction from Single-Channe...  Hossain MS, Chowdhury MEH, Reaz MBI, Ali SHM, ...              2022  2022-05-20\n",
       "Abu22      Improved Cognitive Vigilance Assessment after ...  Abu Farha N, Al-Shargie F, Tariq U, Al-Nashash H.              2022  2022-04-23"
      ]
     },
     "execution_count": 5,
     "metadata": {},
     "output_type": "execute_result"
    }
   ],
   "source": [
    "dtypes = {\n",
    "     'Publication Year': pd.Int64Dtype(),\n",
    "     'Create Date': pd.DatetimeIndex\n",
    "}\n",
    "papers_passed_df = pd.read_excel(TABLE_NAME, engine='openpyxl', sheet_name=\"papers_passed\", dtype=dtypes, \n",
    "                                  usecols=['Reference', 'Title', 'Authors', 'Publication Year', 'Create Date'])\n",
    "papers_passed_df.set_index(\"Reference\", inplace=True)\n",
    "papers_passed_df.info()\n",
    "papers_passed_df.head(2)"
   ]
  },
  {
   "cell_type": "code",
   "execution_count": null,
   "id": "07c7a3fa-12ba-44f9-a858-1796ed9c81c8",
   "metadata": {},
   "outputs": [],
   "source": []
  },
  {
   "cell_type": "markdown",
   "id": "7d43555b-139b-4ac0-b2c0-caecd4c3b6bc",
   "metadata": {},
   "source": [
    "### Authors"
   ]
  },
  {
   "cell_type": "code",
   "execution_count": 6,
   "id": "deef1df7-4dff-4110-aa9e-aa481dfc9f87",
   "metadata": {
    "tags": []
   },
   "outputs": [
    {
     "name": "stdout",
     "output_type": "stream",
     "text": [
      "WARNING: 0 null values\n",
      "<class 'pandas.core.frame.DataFrame'>\n",
      "Index: 471 entries, Hossain22 to Jung01\n",
      "Data columns (total 2 columns):\n",
      " #   Column                         Non-Null Count  Dtype \n",
      "---  ------                         --------------  ----- \n",
      " 0   Author (alle Autoren angeben)  471 non-null    object\n",
      " 1   Institution                    471 non-null    object\n",
      "dtypes: object(2)\n",
      "memory usage: 11.0+ KB\n"
     ]
    },
    {
     "data": {
      "text/html": [
       "<div>\n",
       "<style scoped>\n",
       "    .dataframe tbody tr th:only-of-type {\n",
       "        vertical-align: middle;\n",
       "    }\n",
       "\n",
       "    .dataframe tbody tr th {\n",
       "        vertical-align: top;\n",
       "    }\n",
       "\n",
       "    .dataframe thead th {\n",
       "        text-align: right;\n",
       "    }\n",
       "</style>\n",
       "<table border=\"1\" class=\"dataframe\">\n",
       "  <thead>\n",
       "    <tr style=\"text-align: right;\">\n",
       "      <th></th>\n",
       "      <th>Author (alle Autoren angeben)</th>\n",
       "      <th>Institution</th>\n",
       "    </tr>\n",
       "    <tr>\n",
       "      <th>Reference</th>\n",
       "      <th></th>\n",
       "      <th></th>\n",
       "    </tr>\n",
       "  </thead>\n",
       "  <tbody>\n",
       "    <tr>\n",
       "      <th>Hossain22</th>\n",
       "      <td>Hossain MS</td>\n",
       "      <td>University Kebangsaan Malaysia, Malaysia</td>\n",
       "    </tr>\n",
       "    <tr>\n",
       "      <th>Hossain22</th>\n",
       "      <td>Chowdhury MEH</td>\n",
       "      <td>Qatar University, Qatar</td>\n",
       "    </tr>\n",
       "  </tbody>\n",
       "</table>\n",
       "</div>"
      ],
      "text/plain": [
       "          Author (alle Autoren angeben)                               Institution\n",
       "Reference                                                                        \n",
       "Hossain22                    Hossain MS  University Kebangsaan Malaysia, Malaysia\n",
       "Hossain22                 Chowdhury MEH                   Qatar University, Qatar"
      ]
     },
     "execution_count": 6,
     "metadata": {},
     "output_type": "execute_result"
    }
   ],
   "source": [
    "authors_df = pd.read_excel(TABLE_NAME, engine='openpyxl', sheet_name=\"Authors\", dtype=dtypes)\n",
    "authors_df.set_index(\"Reference\", inplace=True)\n",
    "print(f'WARNING: {sum(authors_df[\"Institution\"].isnull())} null values')\n",
    "# assert sum(authors_df[\"Institution\"].isnull()) == 0  # TODO check this criteria\n",
    "authors_df = authors_df[~authors_df[\"Institution\"].isnull()]\n",
    "authors_df.info()\n",
    "authors_df.head(2)"
   ]
  },
  {
   "cell_type": "code",
   "execution_count": 7,
   "id": "c1c17729",
   "metadata": {},
   "outputs": [],
   "source": [
    "assert len(authors_df.index.unique()) == 77"
   ]
  },
  {
   "cell_type": "code",
   "execution_count": 8,
   "id": "3789de4c-50fe-4b3d-a52a-6859479e4b9f",
   "metadata": {},
   "outputs": [
    {
     "data": {
      "text/plain": [
       "'Hossain22, Abu-Farha22, Flo22, Kumaravel22, Soghoyan21, Karpiel21, Beach21, Dai21, Tost21, Kaur21, Rosanne21, Nahmias21, Saba-Sadiya21, Li21, Anders20, Zhang20, Leach20, Saini20, Mucarquer20, Nordin20, Liu19, Benda19, Val-Calvo19, Saavedra19, Mur19, Blum19, Nordin19, Grosselin19, Li18, Chu18, San-Martin18, Sebek18, Arad18, Symeonidou18, Stone18, Frolich18, Gabard-Durnam18, Tamburro18, Lin18, Delisle-Rodriguez17, Wang17, Jas17, Oliveira17, DelPozo-Banos17, Weiss17, Roy17, Melman16, Oliveira16, Cheveigne16, Costa16, Nathan16, Zou16, Gordon15, Snyder15, Kline15, Raduntz15, Mariani15, Zhang15, Bulea14, Chen14, Yilmaz14, Reis14, Boudet14, Li13, Lawhern13, Nottage13, Yong12, Lau12, Lawhern12, Winkler11, Gwin10, McMenamin10, Mosher09, McMenamin09, Delorme04, Iriarte03, Jung01'"
      ]
     },
     "execution_count": 8,
     "metadata": {},
     "output_type": "execute_result"
    }
   ],
   "source": [
    "\", \".join(authors_df.index.unique())"
   ]
  },
  {
   "cell_type": "markdown",
   "id": "f296677a-9b47-45b2-922c-5fe132b00eb4",
   "metadata": {},
   "source": [
    "### Papers_annotated"
   ]
  },
  {
   "cell_type": "code",
   "execution_count": 9,
   "id": "bb8c8f81-33f2-4de5-98ac-6d2c56d41b24",
   "metadata": {
    "tags": []
   },
   "outputs": [],
   "source": [
    "dtypes = {\n",
    "     'Journal/Book': 'category',\n",
    "     'reader': 'category',\n",
    "     'mental strategy': 'category',\n",
    "     'framework': 'category',\n",
    "     'open code': 'category',\n",
    "     'Index': 'int32'\n",
    "}\n",
    "\n",
    "papers_annotated_df = pd.read_excel(TABLE_NAME, engine='openpyxl', sheet_name=\"papers_annotated\", \n",
    "                                    dtype=dtypes, skipfooter=3)\n",
    "# papers_annotated_df = papers_annotated_df[~papers_annotated_df[\"reader\"].isnull()]\n",
    "papers_annotated_df.rename(columns={\n",
    "    \"sample (size, sex, age group, health status)\": \"sample\",\n",
    "    \"open code (yes, no, -)\": \"open code\"}, inplace=True)\n",
    "papers_annotated_df.set_index(\"Reference\", inplace=True)\n",
    "assert papers_annotated_df.shape[0] == 77  # assert 77 papers"
   ]
  },
  {
   "cell_type": "code",
   "execution_count": 10,
   "id": "29fbc6d3-68bb-4189-b658-ce5a10a7b525",
   "metadata": {},
   "outputs": [
    {
     "name": "stdout",
     "output_type": "stream",
     "text": [
      "<class 'pandas.core.frame.DataFrame'>\n",
      "Index: 77 entries, Hossain22 to Jung01\n",
      "Data columns (total 16 columns):\n",
      " #   Column                  Non-Null Count  Dtype   \n",
      "---  ------                  --------------  -----   \n",
      " 0   Index                   77 non-null     int32   \n",
      " 1   Title                   77 non-null     object  \n",
      " 2   Authors                 77 non-null     object  \n",
      " 3   Journal/Book            77 non-null     category\n",
      " 4   reader                  77 non-null     category\n",
      " 5   mental strategy         76 non-null     category\n",
      " 6   objective               77 non-null     object  \n",
      " 7   data acquisition        77 non-null     object  \n",
      " 8   sample                  77 non-null     object  \n",
      " 9   #sample                 73 non-null     object  \n",
      " 10  evaluation metrics      76 non-null     object  \n",
      " 11  framework               75 non-null     category\n",
      " 12  open code               76 non-null     object  \n",
      " 13  Innovation / Finding    75 non-null     object  \n",
      " 14  further work suggested  62 non-null     object  \n",
      " 15  Additional information  67 non-null     object  \n",
      "dtypes: category(4), int32(1), object(11)\n",
      "memory usage: 10.6+ KB\n"
     ]
    }
   ],
   "source": [
    "papers_annotated_df.info()  # int: Index. categories: journal, reader, mental strategy, framework"
   ]
  },
  {
   "cell_type": "code",
   "execution_count": 11,
   "id": "6dc6b19f-c616-4e91-9dd8-99718f18ab51",
   "metadata": {},
   "outputs": [
    {
     "data": {
      "text/html": [
       "<div>\n",
       "<style scoped>\n",
       "    .dataframe tbody tr th:only-of-type {\n",
       "        vertical-align: middle;\n",
       "    }\n",
       "\n",
       "    .dataframe tbody tr th {\n",
       "        vertical-align: top;\n",
       "    }\n",
       "\n",
       "    .dataframe thead th {\n",
       "        text-align: right;\n",
       "    }\n",
       "</style>\n",
       "<table border=\"1\" class=\"dataframe\">\n",
       "  <thead>\n",
       "    <tr style=\"text-align: right;\">\n",
       "      <th></th>\n",
       "      <th>Index</th>\n",
       "      <th>Title</th>\n",
       "      <th>Authors</th>\n",
       "      <th>Journal/Book</th>\n",
       "      <th>reader</th>\n",
       "      <th>mental strategy</th>\n",
       "      <th>objective</th>\n",
       "      <th>data acquisition</th>\n",
       "      <th>sample</th>\n",
       "      <th>#sample</th>\n",
       "      <th>evaluation metrics</th>\n",
       "      <th>framework</th>\n",
       "      <th>open code</th>\n",
       "      <th>Innovation / Finding</th>\n",
       "      <th>further work suggested</th>\n",
       "      <th>Additional information</th>\n",
       "    </tr>\n",
       "    <tr>\n",
       "      <th>Reference</th>\n",
       "      <th></th>\n",
       "      <th></th>\n",
       "      <th></th>\n",
       "      <th></th>\n",
       "      <th></th>\n",
       "      <th></th>\n",
       "      <th></th>\n",
       "      <th></th>\n",
       "      <th></th>\n",
       "      <th></th>\n",
       "      <th></th>\n",
       "      <th></th>\n",
       "      <th></th>\n",
       "      <th></th>\n",
       "      <th></th>\n",
       "      <th></th>\n",
       "    </tr>\n",
       "  </thead>\n",
       "  <tbody>\n",
       "    <tr>\n",
       "      <th>Iriarte03</th>\n",
       "      <td>713</td>\n",
       "      <td>Independent component analysis as a tool to el...</td>\n",
       "      <td>Iriarte J, Urrestarazu E, Valencia M, Alegre M...</td>\n",
       "      <td>J Clin Neurophysiol</td>\n",
       "      <td>mst</td>\n",
       "      <td>-</td>\n",
       "      <td>Objectively test the capability of ICA (JADE a...</td>\n",
       "      <td>64-channel digital EEG using LaMont amplifiers...</td>\n",
       "      <td>Two series of samples of interictal EEG (betwe...</td>\n",
       "      <td>2</td>\n",
       "      <td>Visual</td>\n",
       "      <td>Matlab</td>\n",
       "      <td>-</td>\n",
       "      <td>Demonstrated/Validated utility of ICA (JADE al...</td>\n",
       "      <td>-</td>\n",
       "      <td>Pretty basic ICA evaluation paper; JADE algori...</td>\n",
       "    </tr>\n",
       "    <tr>\n",
       "      <th>Jung01</th>\n",
       "      <td>725</td>\n",
       "      <td>Imaging Brain Dynamics Using Independent Compo...</td>\n",
       "      <td>Jung TP, Makeig S, McKeown MJ, Bell AJ, Lee TW...</td>\n",
       "      <td>Proc IEEE Inst Electr Electron Eng</td>\n",
       "      <td>cs</td>\n",
       "      <td>attention strategy</td>\n",
       "      <td>Outlining the assumptions underlying ICA in re...</td>\n",
       "      <td>29-channel EEG system (Electrocap, Inc.) 10-20...</td>\n",
       "      <td>10 subjects (8 males) right-handed with normal...</td>\n",
       "      <td>10</td>\n",
       "      <td>-</td>\n",
       "      <td>NaN</td>\n",
       "      <td>no</td>\n",
       "      <td>There are 4 assumptions underlying ICA, which ...</td>\n",
       "      <td>NaN</td>\n",
       "      <td>NaN</td>\n",
       "    </tr>\n",
       "  </tbody>\n",
       "</table>\n",
       "</div>"
      ],
      "text/plain": [
       "           Index                                              Title                                            Authors                        Journal/Book reader     mental strategy                                          objective                                   data acquisition                                             sample #sample evaluation metrics framework open code                               Innovation / Finding further work suggested                             Additional information\n",
       "Reference                                                                                                                                                                                                                                                                                                                                                                                                                                                                                                                 \n",
       "Iriarte03    713  Independent component analysis as a tool to el...  Iriarte J, Urrestarazu E, Valencia M, Alegre M...                 J Clin Neurophysiol    mst                   -  Objectively test the capability of ICA (JADE a...  64-channel digital EEG using LaMont amplifiers...  Two series of samples of interictal EEG (betwe...       2             Visual    Matlab         -  Demonstrated/Validated utility of ICA (JADE al...                      -  Pretty basic ICA evaluation paper; JADE algori...\n",
       "Jung01       725  Imaging Brain Dynamics Using Independent Compo...  Jung TP, Makeig S, McKeown MJ, Bell AJ, Lee TW...  Proc IEEE Inst Electr Electron Eng     cs  attention strategy  Outlining the assumptions underlying ICA in re...  29-channel EEG system (Electrocap, Inc.) 10-20...  10 subjects (8 males) right-handed with normal...      10                  -       NaN        no  There are 4 assumptions underlying ICA, which ...                    NaN                                                NaN"
      ]
     },
     "execution_count": 11,
     "metadata": {},
     "output_type": "execute_result"
    }
   ],
   "source": [
    "papers_annotated_df.tail(2)"
   ]
  },
  {
   "cell_type": "code",
   "execution_count": 12,
   "id": "56babf79-30fa-4929-b4a1-44d06e04c7cb",
   "metadata": {},
   "outputs": [],
   "source": [
    "# # Merge with papers_passed\n",
    "# papers_annotated_df = papers_annotated_df.merge(papers_passed_df, how='outer')\n",
    "# papers_annotated_df.tail(2)"
   ]
  },
  {
   "cell_type": "code",
   "execution_count": null,
   "id": "31bf9666-0f84-48ab-9771-d5afdea2bfe2",
   "metadata": {},
   "outputs": [],
   "source": []
  },
  {
   "cell_type": "markdown",
   "id": "9b913f78-a035-49ce-821d-2d0783067236",
   "metadata": {
    "tags": []
   },
   "source": [
    "### Pipelines"
   ]
  },
  {
   "cell_type": "code",
   "execution_count": 13,
   "id": "3524c483-90ec-437b-9445-0df773cd25eb",
   "metadata": {
    "tags": []
   },
   "outputs": [
    {
     "name": "stdout",
     "output_type": "stream",
     "text": [
      "(299, 59)\n"
     ]
    },
    {
     "data": {
      "text/html": [
       "<div>\n",
       "<style scoped>\n",
       "    .dataframe tbody tr th:only-of-type {\n",
       "        vertical-align: middle;\n",
       "    }\n",
       "\n",
       "    .dataframe tbody tr th {\n",
       "        vertical-align: top;\n",
       "    }\n",
       "\n",
       "    .dataframe thead th {\n",
       "        text-align: right;\n",
       "    }\n",
       "</style>\n",
       "<table border=\"1\" class=\"dataframe\">\n",
       "  <thead>\n",
       "    <tr style=\"text-align: right;\">\n",
       "      <th></th>\n",
       "      <th></th>\n",
       "      <th>is new</th>\n",
       "      <th>EEG (#ch)</th>\n",
       "      <th>electrode type (w,g,d)</th>\n",
       "      <th>MEG</th>\n",
       "      <th>ECG</th>\n",
       "      <th>EMG</th>\n",
       "      <th>Others</th>\n",
       "      <th>filter</th>\n",
       "      <th>MA</th>\n",
       "      <th>AF</th>\n",
       "      <th>Other</th>\n",
       "      <th>Epoch width (s)</th>\n",
       "      <th>Feature Extraction (#)</th>\n",
       "      <th>Fourier Transf.</th>\n",
       "      <th>Wavelet Transf.</th>\n",
       "      <th>Welch</th>\n",
       "      <th>LSP</th>\n",
       "      <th>PCC</th>\n",
       "      <th>CCA</th>\n",
       "      <th>ICA</th>\n",
       "      <th>NMF</th>\n",
       "      <th>PCA</th>\n",
       "      <th>t-SNE</th>\n",
       "      <th>EMD</th>\n",
       "      <th>IVA</th>\n",
       "      <th>CSP</th>\n",
       "      <th>Other.1</th>\n",
       "      <th>Linear Regression</th>\n",
       "      <th>DA</th>\n",
       "      <th>SVM</th>\n",
       "      <th>Spatial sph. spline</th>\n",
       "      <th>GMM</th>\n",
       "      <th>Other.2</th>\n",
       "      <th>Autoencoder</th>\n",
       "      <th>GAN</th>\n",
       "      <th>Other.3</th>\n",
       "      <th>MARA</th>\n",
       "      <th>DSS</th>\n",
       "      <th>DFA</th>\n",
       "      <th>FASTER</th>\n",
       "      <th>ADJUST</th>\n",
       "      <th>HAPPE</th>\n",
       "      <th>ERASE</th>\n",
       "      <th>Other.4</th>\n",
       "      <th>DA.1</th>\n",
       "      <th>KNN</th>\n",
       "      <th>KMC</th>\n",
       "      <th>ED</th>\n",
       "      <th>NB</th>\n",
       "      <th>DT</th>\n",
       "      <th>RF</th>\n",
       "      <th>SVM.1</th>\n",
       "      <th>NN</th>\n",
       "      <th>GMM.1</th>\n",
       "      <th>MEC</th>\n",
       "      <th>Other.5</th>\n",
       "      <th>fit score (0-2)</th>\n",
       "      <th>online score (0-2)</th>\n",
       "      <th>details</th>\n",
       "    </tr>\n",
       "    <tr>\n",
       "      <th>Reference</th>\n",
       "      <th>Pipeline</th>\n",
       "      <th></th>\n",
       "      <th></th>\n",
       "      <th></th>\n",
       "      <th></th>\n",
       "      <th></th>\n",
       "      <th></th>\n",
       "      <th></th>\n",
       "      <th></th>\n",
       "      <th></th>\n",
       "      <th></th>\n",
       "      <th></th>\n",
       "      <th></th>\n",
       "      <th></th>\n",
       "      <th></th>\n",
       "      <th></th>\n",
       "      <th></th>\n",
       "      <th></th>\n",
       "      <th></th>\n",
       "      <th></th>\n",
       "      <th></th>\n",
       "      <th></th>\n",
       "      <th></th>\n",
       "      <th></th>\n",
       "      <th></th>\n",
       "      <th></th>\n",
       "      <th></th>\n",
       "      <th></th>\n",
       "      <th></th>\n",
       "      <th></th>\n",
       "      <th></th>\n",
       "      <th></th>\n",
       "      <th></th>\n",
       "      <th></th>\n",
       "      <th></th>\n",
       "      <th></th>\n",
       "      <th></th>\n",
       "      <th></th>\n",
       "      <th></th>\n",
       "      <th></th>\n",
       "      <th></th>\n",
       "      <th></th>\n",
       "      <th></th>\n",
       "      <th></th>\n",
       "      <th></th>\n",
       "      <th></th>\n",
       "      <th></th>\n",
       "      <th></th>\n",
       "      <th></th>\n",
       "      <th></th>\n",
       "      <th></th>\n",
       "      <th></th>\n",
       "      <th></th>\n",
       "      <th></th>\n",
       "      <th></th>\n",
       "      <th></th>\n",
       "      <th></th>\n",
       "      <th></th>\n",
       "      <th></th>\n",
       "      <th></th>\n",
       "    </tr>\n",
       "  </thead>\n",
       "  <tbody>\n",
       "    <tr>\n",
       "      <th>Iriarte03</th>\n",
       "      <th>HF_LF_NOTCH</th>\n",
       "      <td>0</td>\n",
       "      <td>64</td>\n",
       "      <td>NaN</td>\n",
       "      <td>NaN</td>\n",
       "      <td>NaN</td>\n",
       "      <td>NaN</td>\n",
       "      <td>NaN</td>\n",
       "      <td>1: HF (35 Hz; IIR order 4) + LF (0.3 Hz; IIR o...</td>\n",
       "      <td>NaN</td>\n",
       "      <td>NaN</td>\n",
       "      <td>NaN</td>\n",
       "      <td>NaN</td>\n",
       "      <td>NaN</td>\n",
       "      <td>NaN</td>\n",
       "      <td>NaN</td>\n",
       "      <td>NaN</td>\n",
       "      <td>NaN</td>\n",
       "      <td>NaN</td>\n",
       "      <td>NaN</td>\n",
       "      <td>NaN</td>\n",
       "      <td>NaN</td>\n",
       "      <td>NaN</td>\n",
       "      <td>NaN</td>\n",
       "      <td>NaN</td>\n",
       "      <td>NaN</td>\n",
       "      <td>NaN</td>\n",
       "      <td>NaN</td>\n",
       "      <td>NaN</td>\n",
       "      <td>NaN</td>\n",
       "      <td>NaN</td>\n",
       "      <td>NaN</td>\n",
       "      <td>NaN</td>\n",
       "      <td>NaN</td>\n",
       "      <td>NaN</td>\n",
       "      <td>NaN</td>\n",
       "      <td>NaN</td>\n",
       "      <td>NaN</td>\n",
       "      <td>NaN</td>\n",
       "      <td>NaN</td>\n",
       "      <td>NaN</td>\n",
       "      <td>NaN</td>\n",
       "      <td>NaN</td>\n",
       "      <td>NaN</td>\n",
       "      <td>NaN</td>\n",
       "      <td>NaN</td>\n",
       "      <td>NaN</td>\n",
       "      <td>NaN</td>\n",
       "      <td>NaN</td>\n",
       "      <td>NaN</td>\n",
       "      <td>NaN</td>\n",
       "      <td>NaN</td>\n",
       "      <td>NaN</td>\n",
       "      <td>NaN</td>\n",
       "      <td>NaN</td>\n",
       "      <td>NaN</td>\n",
       "      <td>NaN</td>\n",
       "      <td>1</td>\n",
       "      <td>2</td>\n",
       "      <td>NaN</td>\n",
       "    </tr>\n",
       "    <tr>\n",
       "      <th>Jung01</th>\n",
       "      <th>ICA</th>\n",
       "      <td>0</td>\n",
       "      <td>29</td>\n",
       "      <td>NaN</td>\n",
       "      <td>NaN</td>\n",
       "      <td>NaN</td>\n",
       "      <td>NaN</td>\n",
       "      <td>NaN</td>\n",
       "      <td>1: BP 0.1-50 Hz</td>\n",
       "      <td>NaN</td>\n",
       "      <td>NaN</td>\n",
       "      <td>NaN</td>\n",
       "      <td>NaN</td>\n",
       "      <td>NaN</td>\n",
       "      <td>NaN</td>\n",
       "      <td>NaN</td>\n",
       "      <td>NaN</td>\n",
       "      <td>NaN</td>\n",
       "      <td>NaN</td>\n",
       "      <td>NaN</td>\n",
       "      <td>2</td>\n",
       "      <td>NaN</td>\n",
       "      <td>NaN</td>\n",
       "      <td>NaN</td>\n",
       "      <td>NaN</td>\n",
       "      <td>NaN</td>\n",
       "      <td>NaN</td>\n",
       "      <td>NaN</td>\n",
       "      <td>NaN</td>\n",
       "      <td>NaN</td>\n",
       "      <td>NaN</td>\n",
       "      <td>NaN</td>\n",
       "      <td>NaN</td>\n",
       "      <td>NaN</td>\n",
       "      <td>NaN</td>\n",
       "      <td>NaN</td>\n",
       "      <td>NaN</td>\n",
       "      <td>NaN</td>\n",
       "      <td>NaN</td>\n",
       "      <td>NaN</td>\n",
       "      <td>NaN</td>\n",
       "      <td>NaN</td>\n",
       "      <td>NaN</td>\n",
       "      <td>NaN</td>\n",
       "      <td>NaN</td>\n",
       "      <td>NaN</td>\n",
       "      <td>NaN</td>\n",
       "      <td>NaN</td>\n",
       "      <td>NaN</td>\n",
       "      <td>NaN</td>\n",
       "      <td>NaN</td>\n",
       "      <td>NaN</td>\n",
       "      <td>NaN</td>\n",
       "      <td>NaN</td>\n",
       "      <td>NaN</td>\n",
       "      <td>NaN</td>\n",
       "      <td>NaN</td>\n",
       "      <td>0</td>\n",
       "      <td>1</td>\n",
       "      <td>It is averaged across multiple trials and even...</td>\n",
       "    </tr>\n",
       "  </tbody>\n",
       "</table>\n",
       "</div>"
      ],
      "text/plain": [
       "                       is new  EEG (#ch) electrode type (w,g,d)  MEG  ECG  EMG Others                                             filter   MA   AF Other Epoch width (s) Feature Extraction (#) Fourier Transf. Wavelet Transf.  Welch  LSP  PCC  CCA  ICA  NMF  PCA t-SNE  EMD  IVA  CSP Other.1 Linear Regression   DA  SVM Spatial sph. spline  GMM Other.2 Autoencoder  GAN Other.3 MARA  DSS  DFA FASTER ADJUST  HAPPE  ERASE Other.4 DA.1  KNN  KMC  ED  NB  DT  RF SVM.1   NN  GMM.1  MEC Other.5  fit score (0-2)  online score (0-2)                                            details\n",
       "Reference Pipeline                                                                                                                                                                                                                                                                                                                                                                                                                                                                                                                                                                              \n",
       "Iriarte03 HF_LF_NOTCH       0         64                    NaN  NaN  NaN  NaN    NaN  1: HF (35 Hz; IIR order 4) + LF (0.3 Hz; IIR o...  NaN  NaN   NaN             NaN                    NaN             NaN             NaN    NaN  NaN  NaN  NaN  NaN  NaN  NaN   NaN  NaN  NaN  NaN     NaN               NaN  NaN  NaN                 NaN  NaN     NaN         NaN  NaN     NaN  NaN  NaN  NaN    NaN    NaN    NaN    NaN     NaN  NaN  NaN  NaN NaN NaN NaN NaN   NaN  NaN    NaN  NaN     NaN                1                   2                                                NaN\n",
       "Jung01    ICA               0         29                    NaN  NaN  NaN  NaN    NaN                                    1: BP 0.1-50 Hz  NaN  NaN   NaN             NaN                    NaN             NaN             NaN    NaN  NaN  NaN  NaN    2  NaN  NaN   NaN  NaN  NaN  NaN     NaN               NaN  NaN  NaN                 NaN  NaN     NaN         NaN  NaN     NaN  NaN  NaN  NaN    NaN    NaN    NaN    NaN     NaN  NaN  NaN  NaN NaN NaN NaN NaN   NaN  NaN    NaN  NaN     NaN                0                   1  It is averaged across multiple trials and even..."
      ]
     },
     "execution_count": 13,
     "metadata": {},
     "output_type": "execute_result"
    }
   ],
   "source": [
    "dtypes = {\n",
    "    'is new': pd.Int64Dtype(),\n",
    "    'EEG (#ch)': pd.Int64Dtype(),\n",
    "    # 'Epoch width (s)': 'float64',  # no not possible here\n",
    "    'fit score (0-2)': pd.Int64Dtype(),\n",
    "    'online score (0-2)': pd.Int64Dtype()\n",
    "}\n",
    "pipelines_df = pd.read_excel(TABLE_NAME, engine='openpyxl', sheet_name=\"Pipelines\", header=1, \n",
    "                             na_values=\"-\", dtype=dtypes, skipfooter=1)\n",
    "pipelines_df = pipelines_df[~pipelines_df[\"Pipeline ID (unique per paper)\"].isnull()]\n",
    "pipelines_df.rename(columns={\n",
    "    \"Pipeline ID (unique per paper)\": \"Pipeline\",\n",
    "    \"Filter (HP, LP, BP, BR)\": \"filter\"}, inplace=True)\n",
    "pipelines_df.set_index([\"Reference\", \"Pipeline\"], inplace=True)\n",
    "print(pipelines_df.shape)\n",
    "# TODO check if Bruhn02 is shown and needed? All fields \"Pipeline ID (unique per paper)\" must be provided\n",
    "pipelines_df.tail(2)"
   ]
  },
  {
   "cell_type": "code",
   "execution_count": 14,
   "id": "080d97dc-aeb8-4d57-aabe-385e643a1519",
   "metadata": {},
   "outputs": [
    {
     "data": {
      "text/html": [
       "<div>\n",
       "<style scoped>\n",
       "    .dataframe tbody tr th:only-of-type {\n",
       "        vertical-align: middle;\n",
       "    }\n",
       "\n",
       "    .dataframe tbody tr th {\n",
       "        vertical-align: top;\n",
       "    }\n",
       "\n",
       "    .dataframe thead th {\n",
       "        text-align: right;\n",
       "    }\n",
       "</style>\n",
       "<table border=\"1\" class=\"dataframe\">\n",
       "  <thead>\n",
       "    <tr style=\"text-align: right;\">\n",
       "      <th></th>\n",
       "      <th></th>\n",
       "      <th>fit score (0-2)</th>\n",
       "      <th>online score (0-2)</th>\n",
       "    </tr>\n",
       "    <tr>\n",
       "      <th>Reference</th>\n",
       "      <th>Pipeline</th>\n",
       "      <th></th>\n",
       "      <th></th>\n",
       "    </tr>\n",
       "  </thead>\n",
       "  <tbody>\n",
       "    <tr>\n",
       "      <th rowspan=\"2\" valign=\"top\">Hossain22</th>\n",
       "      <th>WPD(db1)</th>\n",
       "      <td>2</td>\n",
       "      <td>2</td>\n",
       "    </tr>\n",
       "    <tr>\n",
       "      <th>WPD(db2)</th>\n",
       "      <td>2</td>\n",
       "      <td>2</td>\n",
       "    </tr>\n",
       "  </tbody>\n",
       "</table>\n",
       "</div>"
      ],
      "text/plain": [
       "                    fit score (0-2)  online score (0-2)\n",
       "Reference Pipeline                                     \n",
       "Hossain22 WPD(db1)                2                   2\n",
       "          WPD(db2)                2                   2"
      ]
     },
     "execution_count": 14,
     "metadata": {},
     "output_type": "execute_result"
    }
   ],
   "source": [
    "# Show all pipelines that could fit and be online\n",
    "scored_pipelines = pipelines_df[[\"fit score (0-2)\", \"online score (0-2)\"]].dropna()\n",
    "fit_pipelines = scored_pipelines[scored_pipelines[\"fit score (0-2)\"] * scored_pipelines[\"online score (0-2)\"] > 0]\n",
    "fit_pipelines.head(2)"
   ]
  },
  {
   "cell_type": "markdown",
   "id": "8114e303-b226-4d65-8cb4-0bca93d9fdab",
   "metadata": {},
   "source": [
    "### Merge statistics"
   ]
  },
  {
   "cell_type": "code",
   "execution_count": 15,
   "id": "a10ac019-1009-4961-b6fa-e12fbd634d64",
   "metadata": {},
   "outputs": [],
   "source": [
    "pipelines_annotated_df = pipelines_df.merge(papers_annotated_df, \n",
    "                                  how=\"outer\", left_on=[\"Reference\"], right_on=[\"Reference\"])\n",
    "pipelines_annotated_df[\"year\"] = pipelines_annotated_df.index \n",
    "pipelines_annotated_df[\"year\"] = pipelines_annotated_df[\"year\"].apply(lambda x: 2000+int(x[-2:]))"
   ]
  },
  {
   "cell_type": "code",
   "execution_count": 16,
   "id": "48925d2c-71c5-452d-afa8-3179e0b8fff5",
   "metadata": {},
   "outputs": [
    {
     "data": {
      "text/html": [
       "<div>\n",
       "<style scoped>\n",
       "    .dataframe tbody tr th:only-of-type {\n",
       "        vertical-align: middle;\n",
       "    }\n",
       "\n",
       "    .dataframe tbody tr th {\n",
       "        vertical-align: top;\n",
       "    }\n",
       "\n",
       "    .dataframe thead th {\n",
       "        text-align: right;\n",
       "    }\n",
       "</style>\n",
       "<table border=\"1\" class=\"dataframe\">\n",
       "  <thead>\n",
       "    <tr style=\"text-align: right;\">\n",
       "      <th></th>\n",
       "      <th>is new</th>\n",
       "      <th>EEG (#ch)</th>\n",
       "      <th>electrode type (w,g,d)</th>\n",
       "      <th>MEG</th>\n",
       "      <th>ECG</th>\n",
       "      <th>EMG</th>\n",
       "      <th>Others</th>\n",
       "      <th>filter</th>\n",
       "      <th>MA</th>\n",
       "      <th>AF</th>\n",
       "      <th>Other</th>\n",
       "      <th>Epoch width (s)</th>\n",
       "      <th>Feature Extraction (#)</th>\n",
       "      <th>Fourier Transf.</th>\n",
       "      <th>Wavelet Transf.</th>\n",
       "      <th>Welch</th>\n",
       "      <th>LSP</th>\n",
       "      <th>PCC</th>\n",
       "      <th>CCA</th>\n",
       "      <th>ICA</th>\n",
       "      <th>NMF</th>\n",
       "      <th>PCA</th>\n",
       "      <th>t-SNE</th>\n",
       "      <th>EMD</th>\n",
       "      <th>IVA</th>\n",
       "      <th>CSP</th>\n",
       "      <th>Other.1</th>\n",
       "      <th>Linear Regression</th>\n",
       "      <th>DA</th>\n",
       "      <th>SVM</th>\n",
       "      <th>Spatial sph. spline</th>\n",
       "      <th>GMM</th>\n",
       "      <th>Other.2</th>\n",
       "      <th>Autoencoder</th>\n",
       "      <th>GAN</th>\n",
       "      <th>Other.3</th>\n",
       "      <th>MARA</th>\n",
       "      <th>DSS</th>\n",
       "      <th>DFA</th>\n",
       "      <th>FASTER</th>\n",
       "      <th>ADJUST</th>\n",
       "      <th>HAPPE</th>\n",
       "      <th>ERASE</th>\n",
       "      <th>Other.4</th>\n",
       "      <th>DA.1</th>\n",
       "      <th>KNN</th>\n",
       "      <th>KMC</th>\n",
       "      <th>ED</th>\n",
       "      <th>NB</th>\n",
       "      <th>DT</th>\n",
       "      <th>RF</th>\n",
       "      <th>SVM.1</th>\n",
       "      <th>NN</th>\n",
       "      <th>GMM.1</th>\n",
       "      <th>MEC</th>\n",
       "      <th>Other.5</th>\n",
       "      <th>fit score (0-2)</th>\n",
       "      <th>online score (0-2)</th>\n",
       "      <th>details</th>\n",
       "      <th>Index</th>\n",
       "      <th>Title</th>\n",
       "      <th>Authors</th>\n",
       "      <th>Journal/Book</th>\n",
       "      <th>reader</th>\n",
       "      <th>mental strategy</th>\n",
       "      <th>objective</th>\n",
       "      <th>data acquisition</th>\n",
       "      <th>sample</th>\n",
       "      <th>#sample</th>\n",
       "      <th>evaluation metrics</th>\n",
       "      <th>framework</th>\n",
       "      <th>open code</th>\n",
       "      <th>Innovation / Finding</th>\n",
       "      <th>further work suggested</th>\n",
       "      <th>Additional information</th>\n",
       "      <th>year</th>\n",
       "    </tr>\n",
       "    <tr>\n",
       "      <th>Reference</th>\n",
       "      <th></th>\n",
       "      <th></th>\n",
       "      <th></th>\n",
       "      <th></th>\n",
       "      <th></th>\n",
       "      <th></th>\n",
       "      <th></th>\n",
       "      <th></th>\n",
       "      <th></th>\n",
       "      <th></th>\n",
       "      <th></th>\n",
       "      <th></th>\n",
       "      <th></th>\n",
       "      <th></th>\n",
       "      <th></th>\n",
       "      <th></th>\n",
       "      <th></th>\n",
       "      <th></th>\n",
       "      <th></th>\n",
       "      <th></th>\n",
       "      <th></th>\n",
       "      <th></th>\n",
       "      <th></th>\n",
       "      <th></th>\n",
       "      <th></th>\n",
       "      <th></th>\n",
       "      <th></th>\n",
       "      <th></th>\n",
       "      <th></th>\n",
       "      <th></th>\n",
       "      <th></th>\n",
       "      <th></th>\n",
       "      <th></th>\n",
       "      <th></th>\n",
       "      <th></th>\n",
       "      <th></th>\n",
       "      <th></th>\n",
       "      <th></th>\n",
       "      <th></th>\n",
       "      <th></th>\n",
       "      <th></th>\n",
       "      <th></th>\n",
       "      <th></th>\n",
       "      <th></th>\n",
       "      <th></th>\n",
       "      <th></th>\n",
       "      <th></th>\n",
       "      <th></th>\n",
       "      <th></th>\n",
       "      <th></th>\n",
       "      <th></th>\n",
       "      <th></th>\n",
       "      <th></th>\n",
       "      <th></th>\n",
       "      <th></th>\n",
       "      <th></th>\n",
       "      <th></th>\n",
       "      <th></th>\n",
       "      <th></th>\n",
       "      <th></th>\n",
       "      <th></th>\n",
       "      <th></th>\n",
       "      <th></th>\n",
       "      <th></th>\n",
       "      <th></th>\n",
       "      <th></th>\n",
       "      <th></th>\n",
       "      <th></th>\n",
       "      <th></th>\n",
       "      <th></th>\n",
       "      <th></th>\n",
       "      <th></th>\n",
       "      <th></th>\n",
       "      <th></th>\n",
       "      <th></th>\n",
       "      <th></th>\n",
       "    </tr>\n",
       "  </thead>\n",
       "  <tbody>\n",
       "    <tr>\n",
       "      <th>Mucarquer20</th>\n",
       "      <td>1</td>\n",
       "      <td>32</td>\n",
       "      <td>NaN</td>\n",
       "      <td>NaN</td>\n",
       "      <td>NaN</td>\n",
       "      <td>4.0</td>\n",
       "      <td>NaN</td>\n",
       "      <td>1: BP 0.1 - 256 Hz</td>\n",
       "      <td>NaN</td>\n",
       "      <td>NaN</td>\n",
       "      <td>NaN</td>\n",
       "      <td>2: 4</td>\n",
       "      <td>NaN</td>\n",
       "      <td>NaN</td>\n",
       "      <td>NaN</td>\n",
       "      <td>NaN</td>\n",
       "      <td>NaN</td>\n",
       "      <td>NaN</td>\n",
       "      <td>4: CCA</td>\n",
       "      <td>NaN</td>\n",
       "      <td>NaN</td>\n",
       "      <td>NaN</td>\n",
       "      <td>NaN</td>\n",
       "      <td>3: EEMD</td>\n",
       "      <td>NaN</td>\n",
       "      <td>NaN</td>\n",
       "      <td>NaN</td>\n",
       "      <td>NaN</td>\n",
       "      <td>NaN</td>\n",
       "      <td>NaN</td>\n",
       "      <td>NaN</td>\n",
       "      <td>NaN</td>\n",
       "      <td>NaN</td>\n",
       "      <td>NaN</td>\n",
       "      <td>NaN</td>\n",
       "      <td>NaN</td>\n",
       "      <td>NaN</td>\n",
       "      <td>NaN</td>\n",
       "      <td>NaN</td>\n",
       "      <td>NaN</td>\n",
       "      <td>NaN</td>\n",
       "      <td>NaN</td>\n",
       "      <td>NaN</td>\n",
       "      <td>NaN</td>\n",
       "      <td>NaN</td>\n",
       "      <td>NaN</td>\n",
       "      <td>NaN</td>\n",
       "      <td>NaN</td>\n",
       "      <td>NaN</td>\n",
       "      <td>NaN</td>\n",
       "      <td>NaN</td>\n",
       "      <td>NaN</td>\n",
       "      <td>NaN</td>\n",
       "      <td>NaN</td>\n",
       "      <td>NaN</td>\n",
       "      <td>NaN</td>\n",
       "      <td>&lt;NA&gt;</td>\n",
       "      <td>&lt;NA&gt;</td>\n",
       "      <td>NaN</td>\n",
       "      <td>144</td>\n",
       "      <td>Improving EEG Muscle Artifact Removal With an ...</td>\n",
       "      <td>Mucarquer JA, Prado P, Escobar MJ, El-Deredy W...</td>\n",
       "      <td>IEEE Trans Instrum Meas</td>\n",
       "      <td>mst</td>\n",
       "      <td>attention strategy</td>\n",
       "      <td>adding an EMG array to EEMD-CCA</td>\n",
       "      <td>clean data set: 32-channel of EEG recorded fro...</td>\n",
       "      <td>clean data set: two subjects\\n\\ncontamination:...</td>\n",
       "      <td>3</td>\n",
       "      <td>RRMSE</td>\n",
       "      <td>Matlab</td>\n",
       "      <td>-</td>\n",
       "      <td>Independently of the number of muscular source...</td>\n",
       "      <td>Effects of EMG addition should be tested with ...</td>\n",
       "      <td>-</td>\n",
       "      <td>2020</td>\n",
       "    </tr>\n",
       "    <tr>\n",
       "      <th>Hossain22</th>\n",
       "      <td>1</td>\n",
       "      <td>2</td>\n",
       "      <td>NaN</td>\n",
       "      <td>NaN</td>\n",
       "      <td>NaN</td>\n",
       "      <td>NaN</td>\n",
       "      <td>acc</td>\n",
       "      <td>1: NOTCH (3rd order Butterworth; center-f at 5...</td>\n",
       "      <td>NaN</td>\n",
       "      <td>NaN</td>\n",
       "      <td>NaN</td>\n",
       "      <td>NaN</td>\n",
       "      <td>NaN</td>\n",
       "      <td>NaN</td>\n",
       "      <td>2: db3</td>\n",
       "      <td>NaN</td>\n",
       "      <td>NaN</td>\n",
       "      <td>NaN</td>\n",
       "      <td>NaN</td>\n",
       "      <td>NaN</td>\n",
       "      <td>NaN</td>\n",
       "      <td>NaN</td>\n",
       "      <td>NaN</td>\n",
       "      <td>NaN</td>\n",
       "      <td>NaN</td>\n",
       "      <td>NaN</td>\n",
       "      <td>NaN</td>\n",
       "      <td>NaN</td>\n",
       "      <td>NaN</td>\n",
       "      <td>NaN</td>\n",
       "      <td>NaN</td>\n",
       "      <td>NaN</td>\n",
       "      <td>NaN</td>\n",
       "      <td>NaN</td>\n",
       "      <td>NaN</td>\n",
       "      <td>NaN</td>\n",
       "      <td>NaN</td>\n",
       "      <td>NaN</td>\n",
       "      <td>NaN</td>\n",
       "      <td>NaN</td>\n",
       "      <td>NaN</td>\n",
       "      <td>NaN</td>\n",
       "      <td>NaN</td>\n",
       "      <td>NaN</td>\n",
       "      <td>NaN</td>\n",
       "      <td>NaN</td>\n",
       "      <td>NaN</td>\n",
       "      <td>NaN</td>\n",
       "      <td>NaN</td>\n",
       "      <td>NaN</td>\n",
       "      <td>NaN</td>\n",
       "      <td>NaN</td>\n",
       "      <td>NaN</td>\n",
       "      <td>NaN</td>\n",
       "      <td>NaN</td>\n",
       "      <td>NaN</td>\n",
       "      <td>2</td>\n",
       "      <td>2</td>\n",
       "      <td>NaN</td>\n",
       "      <td>8</td>\n",
       "      <td>Motion Artifacts Correction from Single-Channe...</td>\n",
       "      <td>Hossain MS, Chowdhury MEH, Reaz MBI, Ali SHM, ...</td>\n",
       "      <td>Sensors (Basel)</td>\n",
       "      <td>mst</td>\n",
       "      <td>-</td>\n",
       "      <td>proposes 2 methods: (i) Wavelet packet decompo...</td>\n",
       "      <td>Single channel EEG with ground truth reference...</td>\n",
       "      <td>collected from six patients\\nin four different...</td>\n",
       "      <td>6</td>\n",
       "      <td>SNR, average percentage reduction in artifacts</td>\n",
       "      <td>Matlab</td>\n",
       "      <td>no</td>\n",
       "      <td>Proposed WPD algorithms were investigated by 1...</td>\n",
       "      <td>The paper describes the disadvantages of many ...</td>\n",
       "      <td>Would benefit from largely comparing DWT, EMD,...</td>\n",
       "      <td>2022</td>\n",
       "    </tr>\n",
       "  </tbody>\n",
       "</table>\n",
       "</div>"
      ],
      "text/plain": [
       "             is new  EEG (#ch) electrode type (w,g,d)  MEG  ECG  EMG Others                                             filter   MA   AF Other Epoch width (s) Feature Extraction (#) Fourier Transf. Wavelet Transf.  Welch  LSP  PCC     CCA  ICA  NMF  PCA t-SNE      EMD  IVA  CSP Other.1 Linear Regression   DA  SVM Spatial sph. spline  GMM Other.2 Autoencoder  GAN Other.3 MARA  DSS  DFA FASTER ADJUST  HAPPE  ERASE Other.4 DA.1  KNN  KMC  ED  NB  DT  RF SVM.1   NN  GMM.1  MEC Other.5  fit score (0-2)  online score (0-2) details  Index                                              Title                                            Authors             Journal/Book reader     mental strategy                                          objective                                   data acquisition                                             sample #sample                              evaluation metrics framework open code                               Innovation / Finding  \\\n",
       "Reference                                                                                                                                                                                                                                                                                                                                                                                                                                                                                                                                                                                                                                                                                                                                                                                                                                                                                                                                                                                                     \n",
       "Mucarquer20       1         32                    NaN  NaN  NaN  4.0    NaN                                 1: BP 0.1 - 256 Hz  NaN  NaN   NaN            2: 4                    NaN             NaN             NaN    NaN  NaN  NaN  4: CCA  NaN  NaN  NaN   NaN  3: EEMD  NaN  NaN     NaN               NaN  NaN  NaN                 NaN  NaN     NaN         NaN  NaN     NaN  NaN  NaN  NaN    NaN    NaN    NaN    NaN     NaN  NaN  NaN  NaN NaN NaN NaN NaN   NaN  NaN    NaN  NaN     NaN             <NA>                <NA>     NaN    144  Improving EEG Muscle Artifact Removal With an ...  Mucarquer JA, Prado P, Escobar MJ, El-Deredy W...  IEEE Trans Instrum Meas    mst  attention strategy                    adding an EMG array to EEMD-CCA  clean data set: 32-channel of EEG recorded fro...  clean data set: two subjects\\n\\ncontamination:...       3                                           RRMSE    Matlab         -  Independently of the number of muscular source...   \n",
       "Hossain22         1          2                    NaN  NaN  NaN  NaN    acc  1: NOTCH (3rd order Butterworth; center-f at 5...  NaN  NaN   NaN             NaN                    NaN             NaN          2: db3    NaN  NaN  NaN     NaN  NaN  NaN  NaN   NaN      NaN  NaN  NaN     NaN               NaN  NaN  NaN                 NaN  NaN     NaN         NaN  NaN     NaN  NaN  NaN  NaN    NaN    NaN    NaN    NaN     NaN  NaN  NaN  NaN NaN NaN NaN NaN   NaN  NaN    NaN  NaN     NaN                2                   2     NaN      8  Motion Artifacts Correction from Single-Channe...  Hossain MS, Chowdhury MEH, Reaz MBI, Ali SHM, ...          Sensors (Basel)    mst                   -  proposes 2 methods: (i) Wavelet packet decompo...  Single channel EEG with ground truth reference...  collected from six patients\\nin four different...       6  SNR, average percentage reduction in artifacts    Matlab        no  Proposed WPD algorithms were investigated by 1...   \n",
       "\n",
       "                                        further work suggested                             Additional information  year  \n",
       "Reference                                                                                                                \n",
       "Mucarquer20  Effects of EMG addition should be tested with ...                                                  -  2020  \n",
       "Hossain22    The paper describes the disadvantages of many ...  Would benefit from largely comparing DWT, EMD,...  2022  "
      ]
     },
     "execution_count": 16,
     "metadata": {},
     "output_type": "execute_result"
    }
   ],
   "source": [
    "pipelines_annotated_df.sample(2)"
   ]
  },
  {
   "cell_type": "code",
   "execution_count": null,
   "id": "a1da43e3-36c3-4ae1-aabd-4d799d05e3fd",
   "metadata": {},
   "outputs": [],
   "source": []
  },
  {
   "cell_type": "markdown",
   "id": "e3ac4724-3ae8-4455-9276-cdfc03a8bfac",
   "metadata": {},
   "source": [
    "### Pipeline Results"
   ]
  },
  {
   "cell_type": "code",
   "execution_count": 17,
   "id": "1dc04197-eebc-4096-b13e-eddfa4755d6b",
   "metadata": {
    "tags": []
   },
   "outputs": [
    {
     "name": "stdout",
     "output_type": "stream",
     "text": [
      "<class 'pandas.core.frame.DataFrame'>\n",
      "Int64Index: 787 entries, 0 to 811\n",
      "Data columns (total 6 columns):\n",
      " #   Column     Non-Null Count  Dtype   \n",
      "---  ------     --------------  -----   \n",
      " 0   Reference  787 non-null    category\n",
      " 1   Setup ID   787 non-null    int32   \n",
      " 2   Data ID    787 non-null    int32   \n",
      " 3   Metric     787 non-null    category\n",
      " 4   Pipeline   787 non-null    object  \n",
      " 5   rank       785 non-null    float64 \n",
      "dtypes: category(2), float64(1), int32(2), object(1)\n",
      "memory usage: 31.4+ KB\n"
     ]
    },
    {
     "data": {
      "text/html": [
       "<div>\n",
       "<style scoped>\n",
       "    .dataframe tbody tr th:only-of-type {\n",
       "        vertical-align: middle;\n",
       "    }\n",
       "\n",
       "    .dataframe tbody tr th {\n",
       "        vertical-align: top;\n",
       "    }\n",
       "\n",
       "    .dataframe thead th {\n",
       "        text-align: right;\n",
       "    }\n",
       "</style>\n",
       "<table border=\"1\" class=\"dataframe\">\n",
       "  <thead>\n",
       "    <tr style=\"text-align: right;\">\n",
       "      <th></th>\n",
       "      <th>Reference</th>\n",
       "      <th>Setup ID</th>\n",
       "      <th>Data ID</th>\n",
       "      <th>Metric</th>\n",
       "      <th>Pipeline</th>\n",
       "      <th>rank</th>\n",
       "    </tr>\n",
       "  </thead>\n",
       "  <tbody>\n",
       "    <tr>\n",
       "      <th>591</th>\n",
       "      <td>Delisle-Rodriguez17</td>\n",
       "      <td>2</td>\n",
       "      <td>2</td>\n",
       "      <td>FPR(%)</td>\n",
       "      <td>Filter-Bank CSP</td>\n",
       "      <td>6.0</td>\n",
       "    </tr>\n",
       "    <tr>\n",
       "      <th>109</th>\n",
       "      <td>Soghoyan21</td>\n",
       "      <td>1</td>\n",
       "      <td>1</td>\n",
       "      <td>PR-AUC</td>\n",
       "      <td>SVM</td>\n",
       "      <td>2.0</td>\n",
       "    </tr>\n",
       "    <tr>\n",
       "      <th>311</th>\n",
       "      <td>Saba-Sadiya21</td>\n",
       "      <td>2</td>\n",
       "      <td>2</td>\n",
       "      <td>f-score</td>\n",
       "      <td>PCA</td>\n",
       "      <td>3.0</td>\n",
       "    </tr>\n",
       "    <tr>\n",
       "      <th>383</th>\n",
       "      <td>Saini20</td>\n",
       "      <td>3</td>\n",
       "      <td>3</td>\n",
       "      <td>PRD</td>\n",
       "      <td>Wavelet Denoising</td>\n",
       "      <td>5.0</td>\n",
       "    </tr>\n",
       "    <tr>\n",
       "      <th>623</th>\n",
       "      <td>Delisle-Rodriguez17</td>\n",
       "      <td>3</td>\n",
       "      <td>2</td>\n",
       "      <td>accuracy</td>\n",
       "      <td>Filter-Bank CSP</td>\n",
       "      <td>5.5</td>\n",
       "    </tr>\n",
       "  </tbody>\n",
       "</table>\n",
       "</div>"
      ],
      "text/plain": [
       "               Reference  Setup ID  Data ID    Metric           Pipeline  rank\n",
       "591  Delisle-Rodriguez17         2        2    FPR(%)    Filter-Bank CSP   6.0\n",
       "109           Soghoyan21         1        1    PR-AUC                SVM   2.0\n",
       "311        Saba-Sadiya21         2        2   f-score                PCA   3.0\n",
       "383              Saini20         3        3       PRD  Wavelet Denoising   5.0\n",
       "623  Delisle-Rodriguez17         3        2  accuracy    Filter-Bank CSP   5.5"
      ]
     },
     "execution_count": 17,
     "metadata": {},
     "output_type": "execute_result"
    }
   ],
   "source": [
    "dtypes = {\n",
    "     'Reference': 'category',\n",
    "     # 'Setup ID': 'int32',  # only possible if they are non-floats\n",
    "     # 'Data ID': 'int32', \n",
    "     'Metric': 'category',\n",
    "     'Pipeline': 'category',\n",
    "     'rank': 'float64'  # we break ties evenly\n",
    "}\n",
    "\n",
    "results_df = pd.read_excel(TABLE_NAME, engine='openpyxl', sheet_name=\"Results\", \n",
    "                           na_values=\"-\", header=1, dtype=dtypes, \n",
    "                           converters={\"Setup ID\": lambda x: str(x), \"Data ID\": lambda x: str(x)})\n",
    "results_df.rename(columns={\"rank in paper\": \"rank\", \"Pipeline ID (per paper)\": \"Pipeline\"}, inplace=True)\n",
    "# results_df = results_df.loc[results_df.index.dropna()]\n",
    "results_df = results_df.loc[results_df[\"Pipeline\"].dropna().index]  # drop rows with NaN-Pipeline\n",
    "results_df.drop(columns=\"details\", inplace=True)\n",
    "results_df[\"Setup ID\"] = results_df[\"Setup ID\"].astype(np.int32)\n",
    "results_df[\"Data ID\"] = results_df[\"Data ID\"].astype(np.int32)\n",
    "assert results_df[results_df[\"Metric\"].isna()].shape[0] == 0  # should be empty\n",
    "# results_df.dropna(inplace=True)\n",
    "results_df.info()\n",
    "results_df.sample(5)"
   ]
  },
  {
   "cell_type": "code",
   "execution_count": 18,
   "id": "a4e1df8a-a69c-48ec-84ad-473ee11ee7d2",
   "metadata": {},
   "outputs": [
    {
     "data": {
      "text/html": [
       "<div>\n",
       "<style scoped>\n",
       "    .dataframe tbody tr th:only-of-type {\n",
       "        vertical-align: middle;\n",
       "    }\n",
       "\n",
       "    .dataframe tbody tr th {\n",
       "        vertical-align: top;\n",
       "    }\n",
       "\n",
       "    .dataframe thead th {\n",
       "        text-align: right;\n",
       "    }\n",
       "</style>\n",
       "<table border=\"1\" class=\"dataframe\">\n",
       "  <thead>\n",
       "    <tr style=\"text-align: right;\">\n",
       "      <th></th>\n",
       "      <th>Reference</th>\n",
       "      <th>Setup ID</th>\n",
       "      <th>Data ID</th>\n",
       "      <th>Metric</th>\n",
       "      <th>Pipeline</th>\n",
       "      <th>rank</th>\n",
       "      <th>fit score (0-2)</th>\n",
       "      <th>online score (0-2)</th>\n",
       "    </tr>\n",
       "  </thead>\n",
       "  <tbody>\n",
       "    <tr>\n",
       "      <th>0</th>\n",
       "      <td>Hossain22</td>\n",
       "      <td>1</td>\n",
       "      <td>1</td>\n",
       "      <td>SNR</td>\n",
       "      <td>WPD(db1)</td>\n",
       "      <td>10.5</td>\n",
       "      <td>2</td>\n",
       "      <td>2</td>\n",
       "    </tr>\n",
       "    <tr>\n",
       "      <th>1</th>\n",
       "      <td>Hossain22</td>\n",
       "      <td>1</td>\n",
       "      <td>1</td>\n",
       "      <td>SNR</td>\n",
       "      <td>WPD(db2)</td>\n",
       "      <td>10.5</td>\n",
       "      <td>2</td>\n",
       "      <td>2</td>\n",
       "    </tr>\n",
       "    <tr>\n",
       "      <th>2</th>\n",
       "      <td>Hossain22</td>\n",
       "      <td>1</td>\n",
       "      <td>1</td>\n",
       "      <td>SNR</td>\n",
       "      <td>WPD(db3)</td>\n",
       "      <td>10.5</td>\n",
       "      <td>2</td>\n",
       "      <td>2</td>\n",
       "    </tr>\n",
       "    <tr>\n",
       "      <th>3</th>\n",
       "      <td>Hossain22</td>\n",
       "      <td>1</td>\n",
       "      <td>1</td>\n",
       "      <td>SNR</td>\n",
       "      <td>WPD(sym4)</td>\n",
       "      <td>10.5</td>\n",
       "      <td>2</td>\n",
       "      <td>2</td>\n",
       "    </tr>\n",
       "    <tr>\n",
       "      <th>4</th>\n",
       "      <td>Hossain22</td>\n",
       "      <td>1</td>\n",
       "      <td>1</td>\n",
       "      <td>SNR</td>\n",
       "      <td>WPD(sym5)</td>\n",
       "      <td>10.5</td>\n",
       "      <td>2</td>\n",
       "      <td>2</td>\n",
       "    </tr>\n",
       "  </tbody>\n",
       "</table>\n",
       "</div>"
      ],
      "text/plain": [
       "   Reference  Setup ID  Data ID Metric   Pipeline  rank  fit score (0-2)  online score (0-2)\n",
       "0  Hossain22         1        1    SNR   WPD(db1)  10.5                2                   2\n",
       "1  Hossain22         1        1    SNR   WPD(db2)  10.5                2                   2\n",
       "2  Hossain22         1        1    SNR   WPD(db3)  10.5                2                   2\n",
       "3  Hossain22         1        1    SNR  WPD(sym4)  10.5                2                   2\n",
       "4  Hossain22         1        1    SNR  WPD(sym5)  10.5                2                   2"
      ]
     },
     "execution_count": 18,
     "metadata": {},
     "output_type": "execute_result"
    }
   ],
   "source": [
    "# Merge Pipelines with their results\n",
    "fit_results_df = results_df.merge(\n",
    "    right=scored_pipelines, how=\"left\", \n",
    "    left_on=[\"Reference\", \"Pipeline\"], right_on=[\"Reference\", \"Pipeline\"])\n",
    "fit_results_df.head(5)"
   ]
  },
  {
   "cell_type": "code",
   "execution_count": null,
   "id": "e679e624-671f-4187-9b4e-f49182ce6715",
   "metadata": {},
   "outputs": [],
   "source": []
  },
  {
   "cell_type": "markdown",
   "id": "03cf32ea-5b5c-4ca8-9f8d-41f598b3cb64",
   "metadata": {},
   "source": [
    "## Basic explorative analysis"
   ]
  },
  {
   "cell_type": "markdown",
   "id": "230b4ba8-f44c-4036-be32-97f6933dea65",
   "metadata": {
    "tags": []
   },
   "source": [
    "### Journal, most common over time"
   ]
  },
  {
   "cell_type": "code",
   "execution_count": 19,
   "id": "a3f19368-9d0d-46c0-9dcb-0ffad860e209",
   "metadata": {
    "tags": []
   },
   "outputs": [],
   "source": [
    "# filter the rows in papers_passed, that are really in our set:\n",
    "df = df.loc[df[\"Ref\"].apply(lambda ref: ref in set(authors_df.index))]"
   ]
  },
  {
   "cell_type": "code",
   "execution_count": 20,
   "id": "6eeeead5-66d7-4840-b43d-2af8bfc14aeb",
   "metadata": {},
   "outputs": [
    {
     "data": {
      "text/plain": [
       "Front Neurosci          10\n",
       "Sensors (Basel)          7\n",
       "Front Hum Neurosci       7\n",
       "J Neurosci Methods       6\n",
       "J Healthc Eng            3\n",
       "Psychophysiology         3\n",
       "PLoS One                 3\n",
       "Neuroimage               2\n",
       "Healthc Technol Lett     2\n",
       "J Neuroeng Rehabil       2\n",
       "Name: Journal/Book, dtype: int64"
      ]
     },
     "execution_count": 20,
     "metadata": {},
     "output_type": "execute_result"
    }
   ],
   "source": [
    "df[\"Journal/Book\"].value_counts()[:10]"
   ]
  },
  {
   "cell_type": "code",
   "execution_count": 21,
   "id": "0997b33b-eebc-49f7-9fbf-4d664d7b7e9f",
   "metadata": {},
   "outputs": [
    {
     "data": {
      "image/png": "[encoded data removed]",
      "text/plain": [
       "<Figure size 432x288 with 1 Axes>"
      ]
     },
     "metadata": {
      "needs_background": "light"
     },
     "output_type": "display_data"
    },
    {
     "data": {
      "text/plain": [
       "'The trend of the most common Journals over time. Only four Journals contribute more than three publications to this subject of interest.'"
      ]
     },
     "execution_count": 21,
     "metadata": {},
     "output_type": "execute_result"
    }
   ],
   "source": [
    "# Get the journals in order by ascending counts, also in the dataframe\n",
    "top_n = 7\n",
    "joi = df[\"Journal/Book\"].value_counts()[:top_n]\n",
    "other_j = \"other Journal\"\n",
    "df_ = df.copy()\n",
    "df_[\"Journal/Book\"] = df_[\"Journal/Book\"].apply(lambda j: j if j in joi else other_j)\n",
    "journals = list(df_[\"Journal/Book\"].value_counts().index)\n",
    "j_counts = list(df_[\"Journal/Book\"].value_counts())\n",
    "journals.remove(other_j)\n",
    "journals = [other_j] + journals\n",
    "df_[\"Journal/Book\"] = pd.Categorical(df_[\"Journal/Book\"], journals)\n",
    "\n",
    "# Append the journal counts to their names in the dataframe\n",
    "label_dict = {j: f\"{j}: {j_counts[i]}\" for i, j in enumerate(journals)}\n",
    "df_[\"Journal/Book\"] = df_[\"Journal/Book\"].map(label_dict)\n",
    "\n",
    "# Plot the histogram\n",
    "df_[\"Publication Year\"] += 0.5\n",
    "sns.histplot(data=df_, x=\"Publication Year\", hue=\"Journal/Book\", multiple=\"stack\", binwidth=1).set(title=f\"Top {top_n} Journals over time\")\n",
    "\n",
    "plt.xticks(np.arange(2000, 2023, 2))\n",
    "plt.yticks(range(0, 15, 2))\n",
    "plt.xlim(2003, None)\n",
    "plt.show()\n",
    "\"The trend of the most common Journals over time. Only four Journals contribute more than three publications to this subject of interest.\""
   ]
  },
  {
   "cell_type": "code",
   "execution_count": null,
   "id": "4e660b9b-3f9f-4f76-a7f4-f0dfe66a72c2",
   "metadata": {},
   "outputs": [],
   "source": []
  },
  {
   "cell_type": "markdown",
   "id": "22d07a1c-97ec-40a0-b5d0-01c11909c9ff",
   "metadata": {
    "tags": []
   },
   "source": [
    "### Autors, most common"
   ]
  },
  {
   "cell_type": "code",
   "execution_count": 22,
   "id": "117a0628-642b-4d71-85c3-d87fec60de87",
   "metadata": {},
   "outputs": [
    {
     "data": {
      "text/plain": [
       "Ferris DP      11\n",
       "Hairston WD     7\n",
       "Chen X          4\n",
       "König P         4\n",
       "Makeig S        4\n",
       "Raimondo F      4\n",
       "Zou Y           3\n",
       "Ren H           3\n",
       "Li C            3\n",
       "Cheveigne A     3\n",
       "Name: Author (alle Autoren angeben), dtype: int64"
      ]
     },
     "execution_count": 22,
     "metadata": {},
     "output_type": "execute_result"
    }
   ],
   "source": [
    "# There are two persons with the Name X. Chen\n",
    "authors_df[\"Author (alle Autoren angeben)\"].value_counts()[:10] #.value_counts()[:25]"
   ]
  },
  {
   "cell_type": "code",
   "execution_count": 23,
   "id": "f6667d8a",
   "metadata": {},
   "outputs": [
    {
     "data": {
      "text/plain": [
       "1     266\n",
       "2      54\n",
       "3      21\n",
       "4       4\n",
       "11      1\n",
       "7       1\n",
       "Name: Author (alle Autoren angeben), dtype: int64"
      ]
     },
     "execution_count": 23,
     "metadata": {},
     "output_type": "execute_result"
    }
   ],
   "source": [
    "authors_df[\"Author (alle Autoren angeben)\"].value_counts().value_counts()[:25]"
   ]
  },
  {
   "cell_type": "markdown",
   "id": "4c892e79-493f-4d75-8b5f-e443784931e5",
   "metadata": {},
   "source": [
    "### Countries, most common"
   ]
  },
  {
   "cell_type": "code",
   "execution_count": 24,
   "id": "27c2773e-d2d1-4daa-baa4-e99b657cc19a",
   "metadata": {
    "tags": []
   },
   "outputs": [],
   "source": [
    "institutions_d = dict()\n",
    "last_author = None\n",
    "last_instances = list()\n",
    "for author, row in authors_df.iterrows():\n",
    "    if author != last_author:\n",
    "        for instance in list(set(last_instances)):\n",
    "            institutions_d[instance] = institutions_d.get(instance, 0) + 1\n",
    "        last_instances = list()\n",
    "        last_author = author\n",
    "    last_instances.append(row[\"Institution\"].split(\",\")[-1].strip())"
   ]
  },
  {
   "cell_type": "code",
   "execution_count": 25,
   "id": "2a646ccd-cd5a-4a6e-97f1-4e10bfbde2b5",
   "metadata": {},
   "outputs": [
    {
     "data": {
      "text/plain": [
       "[('USA', 31),\n",
       " ('Germany', 13),\n",
       " ('China', 8),\n",
       " ('Spain', 7),\n",
       " ('France', 6),\n",
       " ('Canada', 5),\n",
       " ('UK', 4),\n",
       " ('Italy', 3),\n",
       " ('India', 3),\n",
       " ('United Arab Emirates', 2),\n",
       " ('Argentina', 2),\n",
       " ('Chile', 2),\n",
       " ('Brazil', 2),\n",
       " ('Denmark', 2),\n",
       " ('Malaysia', 1)]"
      ]
     },
     "execution_count": 25,
     "metadata": {},
     "output_type": "execute_result"
    }
   ],
   "source": [
    "# 10 counties involved in the most contributions\n",
    "sorted(institutions_d.items(), key=lambda k: -k[1])[:15]"
   ]
  },
  {
   "cell_type": "code",
   "execution_count": 26,
   "id": "9cc9f10e",
   "metadata": {},
   "outputs": [
    {
     "data": {
      "text/plain": [
       "33"
      ]
     },
     "execution_count": 26,
     "metadata": {},
     "output_type": "execute_result"
    }
   ],
   "source": [
    "len(institutions_d)"
   ]
  },
  {
   "cell_type": "code",
   "execution_count": 27,
   "id": "7ba5816d-4a95-47a6-9208-412244df5b06",
   "metadata": {},
   "outputs": [
    {
     "data": {
      "text/plain": [
       "USA          170\n",
       "China         45\n",
       "Spain         39\n",
       "France        35\n",
       "Germany       31\n",
       "Canada        16\n",
       "Singapore     13\n",
       "Brazil        13\n",
       "Italy         13\n",
       "Russia        12\n",
       "Name: Institution, dtype: int64"
      ]
     },
     "execution_count": 27,
     "metadata": {},
     "output_type": "execute_result"
    }
   ],
   "source": [
    "# duplicate counts for multiple authors\n",
    "authors_df[\"Institution\"].apply(lambda x: x.split(\",\")[-1].strip()).value_counts()[:10]"
   ]
  },
  {
   "cell_type": "markdown",
   "id": "e549f3f2-4667-41ca-9715-c49877704ea0",
   "metadata": {},
   "source": [
    "### Institutions, most common"
   ]
  },
  {
   "cell_type": "code",
   "execution_count": 28,
   "id": "59fd8d3a-0bca-40e0-8d8e-be77d4acc031",
   "metadata": {
    "tags": []
   },
   "outputs": [],
   "source": [
    "institutions_d = dict()\n",
    "last_author = None\n",
    "last_instances = list()\n",
    "for author, row in authors_df.iterrows():\n",
    "    if author != last_author:\n",
    "        for instance in list(set(last_instances)):\n",
    "            institutions_d[instance] = institutions_d.get(instance, 0) + 1\n",
    "        last_instances = list()\n",
    "        last_author = author\n",
    "    last_instances.append(row[\"Institution\"])"
   ]
  },
  {
   "cell_type": "code",
   "execution_count": 29,
   "id": "c50cd0e5-0339-4231-ab8d-8d5f444f1995",
   "metadata": {},
   "outputs": [
    {
     "data": {
      "text/plain": [
       "[('US Army Research Laboratory, USA', 8),\n",
       " ('University of Michigan, USA', 6),\n",
       " ('University of California San Diego, USA', 4),\n",
       " ('University of Florida, USA', 3),\n",
       " ('CIBER-BBN, Spain', 2),\n",
       " ('University of Maryland, USA', 2),\n",
       " ('University of Southern California, USA', 2),\n",
       " ('Universidad de Valparaiso, Chile', 2),\n",
       " ('Technische Universität Berlin, Germany', 2),\n",
       " ('Harvard University, USA', 2),\n",
       " ('University of Osnabrück, Germany', 2),\n",
       " ('University Medical Center Hamburg-Eppendorf, Germany', 2),\n",
       " ('Aberdeen Proving Ground, USA', 2),\n",
       " ('University of Houston, USA', 2),\n",
       " ('University of British Columbia, Canada', 2)]"
      ]
     },
     "execution_count": 29,
     "metadata": {},
     "output_type": "execute_result"
    }
   ],
   "source": [
    "# 10 institutions involved in the most contributions\n",
    "sorted(institutions_d.items(), key=lambda k: -k[1])[:15]"
   ]
  },
  {
   "cell_type": "code",
   "execution_count": 30,
   "id": "c1ac5de4-6d79-4c44-b316-73749add877a",
   "metadata": {},
   "outputs": [],
   "source": [
    "## Print institutions in form of (county, institution)\n",
    "# sorted({(k.split(\",\")[-1].strip(), k.split(\",\")[0]): v for k, v in institutions_d.items()})"
   ]
  },
  {
   "cell_type": "code",
   "execution_count": 31,
   "id": "c3a0c06d-a3d2-45c0-9da9-55c0ec7971bd",
   "metadata": {},
   "outputs": [
    {
     "data": {
      "text/plain": [
       "University of Michigan, USA                                                                     21\n",
       "University of California Los Angeles, USA                                                       20\n",
       "University of California San Diego, USA                                                         15\n",
       "Thomas Jefferson University, USA                                                                13\n",
       "US Army Research Laboratory, USA                                                                11\n",
       "National University of Singapore, Singapore                                                     11\n",
       "University of Wisconsin, USA                                                                     9\n",
       "University of Maryland, USA                                                                      8\n",
       "Harvard University, USA                                                                          8\n",
       "University of British Columbia, Canada                                                           7\n",
       "University of Florida, USA                                                                       7\n",
       "China National Digital Switching System Engineering and Technological Research Center, China     7\n",
       "Russian Academy of Sciences, Russia                                                              7\n",
       "Institute de Recerca Sant Joan de Deu, Spain                                                     6\n",
       "University of Houston, USA                                                                       6\n",
       "Name: Institution, dtype: int64"
      ]
     },
     "execution_count": 31,
     "metadata": {},
     "output_type": "execute_result"
    }
   ],
   "source": [
    "# with duplicate counts\n",
    "authors_df[\"Institution\"].value_counts()[:15]"
   ]
  },
  {
   "cell_type": "code",
   "execution_count": null,
   "id": "de51abe5-f6b6-476e-a591-0c7f40720c51",
   "metadata": {},
   "outputs": [],
   "source": []
  },
  {
   "cell_type": "markdown",
   "id": "3e6e3302-ad41-4369-a209-80694994b576",
   "metadata": {},
   "source": [
    "### Framework over year"
   ]
  },
  {
   "cell_type": "code",
   "execution_count": 32,
   "id": "bca8153f-cac8-4393-a085-5c5d44697c9e",
   "metadata": {},
   "outputs": [
    {
     "name": "stdout",
     "output_type": "stream",
     "text": [
      "number of publications using Matlab: \t49\n",
      "number of publications using Python: \t6\n"
     ]
    }
   ],
   "source": [
    "print(f'number of publications using Matlab: \\t{papers_annotated_df[\"framework\"].apply(lambda s: \"matlab\" in s.lower()).sum()}')\n",
    "print(f'number of publications using Python: \\t{papers_annotated_df[\"framework\"].apply(lambda s: \"python\" in s.lower()).sum()}')"
   ]
  },
  {
   "cell_type": "code",
   "execution_count": 33,
   "id": "6d7bd8cb-94ac-464c-8693-a0d1a27ee357",
   "metadata": {},
   "outputs": [
    {
     "data": {
      "text/plain": [
       "Matlab                                                                                            30\n",
       "-                                                                                                 19\n",
       "Python                                                                                             4\n",
       "Matlab, EEGlab                                                                                     3\n",
       "Matlab, EEGLab                                                                                     3\n",
       "Matlab, EEGLAB                                                                                     3\n",
       "EEGlab, Matlab                                                                                     2\n",
       "Matlab, Python                                                                                     2\n",
       "Matlab, EEGLAB, ERPLAB                                                                             1\n",
       "Matlab, Persyst(v12)                                                                               1\n",
       "Matlab, DataSuite                                                                                  1\n",
       "-> SystemPlus(Micromed) for recording \\n\\n-> Spike2 (Cambridge Electronic Design) for analysis     1\n",
       "Matlab, DETECT                                                                                     1\n",
       "Matlab, BrainRecorder software, E-Prime application suite                                          1\n",
       "MATLAB, EEGLAB, ...                                                                                1\n",
       "MATB-II: Microsoft Visual Studio.NET (VS.NET)                                                      1\n",
       "http://www.neurology-kuleuven.be/                                                                  1\n",
       "Name: framework, dtype: int64"
      ]
     },
     "execution_count": 33,
     "metadata": {},
     "output_type": "execute_result"
    }
   ],
   "source": [
    "papers_annotated_df[\"framework\"].value_counts()"
   ]
  },
  {
   "cell_type": "code",
   "execution_count": 34,
   "id": "63989ce1-0fbf-49fc-a279-5225b1e0731d",
   "metadata": {},
   "outputs": [
    {
     "data": {
      "text/html": [
       "<div>\n",
       "<style scoped>\n",
       "    .dataframe tbody tr th:only-of-type {\n",
       "        vertical-align: middle;\n",
       "    }\n",
       "\n",
       "    .dataframe tbody tr th {\n",
       "        vertical-align: top;\n",
       "    }\n",
       "\n",
       "    .dataframe thead th {\n",
       "        text-align: right;\n",
       "    }\n",
       "</style>\n",
       "<table border=\"1\" class=\"dataframe\">\n",
       "  <thead>\n",
       "    <tr style=\"text-align: right;\">\n",
       "      <th></th>\n",
       "      <th>matlab</th>\n",
       "      <th>python</th>\n",
       "    </tr>\n",
       "    <tr>\n",
       "      <th>year</th>\n",
       "      <th></th>\n",
       "      <th></th>\n",
       "    </tr>\n",
       "  </thead>\n",
       "  <tbody>\n",
       "    <tr>\n",
       "      <th>2003</th>\n",
       "      <td>True</td>\n",
       "      <td>False</td>\n",
       "    </tr>\n",
       "    <tr>\n",
       "      <th>2004</th>\n",
       "      <td>True</td>\n",
       "      <td>False</td>\n",
       "    </tr>\n",
       "    <tr>\n",
       "      <th>2009</th>\n",
       "      <td>1</td>\n",
       "      <td>0</td>\n",
       "    </tr>\n",
       "    <tr>\n",
       "      <th>2010</th>\n",
       "      <td>2</td>\n",
       "      <td>0</td>\n",
       "    </tr>\n",
       "    <tr>\n",
       "      <th>2011</th>\n",
       "      <td>True</td>\n",
       "      <td>False</td>\n",
       "    </tr>\n",
       "    <tr>\n",
       "      <th>2012</th>\n",
       "      <td>3</td>\n",
       "      <td>0</td>\n",
       "    </tr>\n",
       "    <tr>\n",
       "      <th>2013</th>\n",
       "      <td>2</td>\n",
       "      <td>0</td>\n",
       "    </tr>\n",
       "    <tr>\n",
       "      <th>2014</th>\n",
       "      <td>2</td>\n",
       "      <td>0</td>\n",
       "    </tr>\n",
       "    <tr>\n",
       "      <th>2015</th>\n",
       "      <td>4</td>\n",
       "      <td>0</td>\n",
       "    </tr>\n",
       "    <tr>\n",
       "      <th>2016</th>\n",
       "      <td>5</td>\n",
       "      <td>0</td>\n",
       "    </tr>\n",
       "    <tr>\n",
       "      <th>2017</th>\n",
       "      <td>4</td>\n",
       "      <td>2</td>\n",
       "    </tr>\n",
       "    <tr>\n",
       "      <th>2018</th>\n",
       "      <td>7</td>\n",
       "      <td>0</td>\n",
       "    </tr>\n",
       "    <tr>\n",
       "      <th>2019</th>\n",
       "      <td>4</td>\n",
       "      <td>1</td>\n",
       "    </tr>\n",
       "    <tr>\n",
       "      <th>2020</th>\n",
       "      <td>5</td>\n",
       "      <td>0</td>\n",
       "    </tr>\n",
       "    <tr>\n",
       "      <th>2021</th>\n",
       "      <td>4</td>\n",
       "      <td>3</td>\n",
       "    </tr>\n",
       "    <tr>\n",
       "      <th>2022</th>\n",
       "      <td>3</td>\n",
       "      <td>0</td>\n",
       "    </tr>\n",
       "  </tbody>\n",
       "</table>\n",
       "</div>"
      ],
      "text/plain": [
       "     matlab python\n",
       "year              \n",
       "2003   True  False\n",
       "2004   True  False\n",
       "2009      1      0\n",
       "2010      2      0\n",
       "2011   True  False\n",
       "2012      3      0\n",
       "2013      2      0\n",
       "2014      2      0\n",
       "2015      4      0\n",
       "2016      5      0\n",
       "2017      4      2\n",
       "2018      7      0\n",
       "2019      4      1\n",
       "2020      5      0\n",
       "2021      4      3\n",
       "2022      3      0"
      ]
     },
     "execution_count": 34,
     "metadata": {},
     "output_type": "execute_result"
    }
   ],
   "source": [
    "df_ = papers_annotated_df.copy()\n",
    "df_[\"year\"] = df_.index \n",
    "df_[\"year\"] = df_[\"year\"].apply(lambda x: 2000+int(x[-2:]))\n",
    "df_ = df_[~df_[\"framework\"].isnull()]\n",
    "\n",
    "df_[\"matlab\"] = df_[\"framework\"].apply(lambda s: \"matlab\" in str(s).lower())\n",
    "df_[\"python\"] = df_[\"framework\"].apply(lambda s: \"python\" in str(s).lower())\n",
    "# df_.loc[df_[\"matlab\"]==True, \"matlab\"] = True\n",
    "# df_.loc[df_[\"python\"]==True, \"python\"] = True\n",
    "df_.groupby(\"year\").agg({\"matlab\": \"sum\", \"python\": \"sum\"})"
   ]
  },
  {
   "cell_type": "code",
   "execution_count": 35,
   "id": "7bc39584-6a2f-4a4b-b7d5-740825de9ed9",
   "metadata": {},
   "outputs": [],
   "source": [
    "df_2 = pd.concat([df_.loc[df_[\"matlab\"]], df_.loc[df_[\"python\"]]])[[\"Index\", \"year\", \"matlab\", \"python\"]]\n",
    "df_2.loc[df_[\"matlab\"], \"framework\"] = \"Matlab\"\n",
    "df_2.loc[df_[\"python\"], \"framework\"] = \"Python\"\n",
    "df_2[\"framework\"] = [\"Matlab\"]*df_[\"matlab\"].sum() + [\"Python\"]*df_[\"python\"].sum()"
   ]
  },
  {
   "cell_type": "code",
   "execution_count": 36,
   "id": "73e3b474-93a1-4e26-8965-d4a790d0c883",
   "metadata": {},
   "outputs": [
    {
     "data": {
      "image/png": "[encoded data removed]",
      "text/plain": [
       "<Figure size 432x288 with 1 Axes>"
      ]
     },
     "metadata": {
      "needs_background": "light"
     },
     "output_type": "display_data"
    },
    {
     "data": {
      "text/plain": [
       "'The trend of programming languages over time depicts a clear dominance of Matlab. Three of five implementations with Python occured in 2022'"
      ]
     },
     "execution_count": 36,
     "metadata": {},
     "output_type": "execute_result"
    }
   ],
   "source": [
    "# Plot the histogram\n",
    "df_2[\"year\"] -= 0.5\n",
    "sns.histplot(data=df_2, x=\"year\", hue=\"framework\", multiple=\"stack\", binwidth=0.999).set(title=f\"Top languages over time\")\n",
    "plt.xlim(2008, None)\n",
    "plt.show()\n",
    "\"The trend of programming languages over time depicts a clear dominance of Matlab. Three of five implementations with Python occured in 2022\""
   ]
  },
  {
   "cell_type": "markdown",
   "id": "71658d12-0bf9-4e06-9dab-2cba12b19d46",
   "metadata": {},
   "source": [
    "### Open code over time"
   ]
  },
  {
   "cell_type": "code",
   "execution_count": 37,
   "id": "1d6418ef-76fb-4d10-8412-25fd923d379b",
   "metadata": {},
   "outputs": [
    {
     "data": {
      "text/html": [
       "<div>\n",
       "<style scoped>\n",
       "    .dataframe tbody tr th:only-of-type {\n",
       "        vertical-align: middle;\n",
       "    }\n",
       "\n",
       "    .dataframe tbody tr th {\n",
       "        vertical-align: top;\n",
       "    }\n",
       "\n",
       "    .dataframe thead th {\n",
       "        text-align: right;\n",
       "    }\n",
       "</style>\n",
       "<table border=\"1\" class=\"dataframe\">\n",
       "  <thead>\n",
       "    <tr style=\"text-align: right;\">\n",
       "      <th></th>\n",
       "      <th>open code</th>\n",
       "    </tr>\n",
       "    <tr>\n",
       "      <th>year</th>\n",
       "      <th></th>\n",
       "    </tr>\n",
       "  </thead>\n",
       "  <tbody>\n",
       "    <tr>\n",
       "      <th>2014</th>\n",
       "      <td>0.250000</td>\n",
       "    </tr>\n",
       "    <tr>\n",
       "      <th>2015</th>\n",
       "      <td>0.000000</td>\n",
       "    </tr>\n",
       "    <tr>\n",
       "      <th>2016</th>\n",
       "      <td>0.333333</td>\n",
       "    </tr>\n",
       "    <tr>\n",
       "      <th>2017</th>\n",
       "      <td>0.428571</td>\n",
       "    </tr>\n",
       "    <tr>\n",
       "      <th>2018</th>\n",
       "      <td>0.090909</td>\n",
       "    </tr>\n",
       "    <tr>\n",
       "      <th>2019</th>\n",
       "      <td>0.250000</td>\n",
       "    </tr>\n",
       "    <tr>\n",
       "      <th>2020</th>\n",
       "      <td>0.166667</td>\n",
       "    </tr>\n",
       "    <tr>\n",
       "      <th>2021</th>\n",
       "      <td>0.300000</td>\n",
       "    </tr>\n",
       "    <tr>\n",
       "      <th>2022</th>\n",
       "      <td>0.500000</td>\n",
       "    </tr>\n",
       "  </tbody>\n",
       "</table>\n",
       "</div>"
      ],
      "text/plain": [
       "      open code\n",
       "year           \n",
       "2014   0.250000\n",
       "2015   0.000000\n",
       "2016   0.333333\n",
       "2017   0.428571\n",
       "2018   0.090909\n",
       "2019   0.250000\n",
       "2020   0.166667\n",
       "2021   0.300000\n",
       "2022   0.500000"
      ]
     },
     "execution_count": 37,
     "metadata": {},
     "output_type": "execute_result"
    }
   ],
   "source": [
    "df_opencode = df_.groupby(\"year\").agg({\"open code\": lambda x: np.sum(x==\"yes\")/len(x) if len(x)>=4 else np.NaN}) # ].value_counts()\n",
    "df_opencode.loc[2014:]"
   ]
  },
  {
   "cell_type": "code",
   "execution_count": 38,
   "id": "ba3aa99a-5c6e-48f8-a148-45ab42a92314",
   "metadata": {},
   "outputs": [
    {
     "data": {
      "image/png": "[encoded data removed]",
      "text/plain": [
       "<Figure size 432x288 with 1 Axes>"
      ]
     },
     "metadata": {
      "needs_background": "light"
     },
     "output_type": "display_data"
    },
    {
     "data": {
      "text/plain": [
       "'For years with at least four publications, the fraction of papers with open code is depicted. The trend is rising strongly from 2020 (17\\\\%) to 2022 (50\\\\%)'"
      ]
     },
     "execution_count": 38,
     "metadata": {},
     "output_type": "execute_result"
    }
   ],
   "source": [
    "sns.lineplot(data=df_opencode, x=\"year\", y=\"open code\", marker=\"o\").set(title=f\"Open Code policy over time\")\n",
    "plt.ylabel(\"Fraction of open code\")\n",
    "# plt.ylim(0,1)\n",
    "plt.show()\n",
    "\"For years with at least four publications, the fraction of papers with open code is depicted. The trend is rising strongly from 2020 (17\\%) to 2022 (50\\%)\""
   ]
  },
  {
   "cell_type": "markdown",
   "id": "be42c831-8bb6-4fe7-9b91-ef23126b78f6",
   "metadata": {},
   "source": [
    "### Fraction of fit use-cases and online scores over year"
   ]
  },
  {
   "cell_type": "code",
   "execution_count": 39,
   "id": "472488ea-569e-4f11-a7fd-bb30bf2c7086",
   "metadata": {},
   "outputs": [],
   "source": [
    "pipelines_annotated_df_proposed = pipelines_annotated_df.loc[pipelines_annotated_df[\"is new\"]==1]"
   ]
  },
  {
   "cell_type": "code",
   "execution_count": 40,
   "id": "b83d3f8e-7f11-4977-ac68-07fb5f2ff52a",
   "metadata": {},
   "outputs": [
    {
     "data": {
      "text/html": [
       "<div>\n",
       "<style scoped>\n",
       "    .dataframe tbody tr th:only-of-type {\n",
       "        vertical-align: middle;\n",
       "    }\n",
       "\n",
       "    .dataframe tbody tr th {\n",
       "        vertical-align: top;\n",
       "    }\n",
       "\n",
       "    .dataframe thead th {\n",
       "        text-align: right;\n",
       "    }\n",
       "</style>\n",
       "<table border=\"1\" class=\"dataframe\">\n",
       "  <thead>\n",
       "    <tr style=\"text-align: right;\">\n",
       "      <th></th>\n",
       "      <th>fit score (0-2)</th>\n",
       "      <th>online score (0-2)</th>\n",
       "    </tr>\n",
       "    <tr>\n",
       "      <th>year</th>\n",
       "      <th></th>\n",
       "      <th></th>\n",
       "    </tr>\n",
       "  </thead>\n",
       "  <tbody>\n",
       "    <tr>\n",
       "      <th>2011</th>\n",
       "      <td>0.000000</td>\n",
       "      <td>0.000000</td>\n",
       "    </tr>\n",
       "    <tr>\n",
       "      <th>2012</th>\n",
       "      <td>0.800000</td>\n",
       "      <td>1.000000</td>\n",
       "    </tr>\n",
       "    <tr>\n",
       "      <th>2013</th>\n",
       "      <td>0.000000</td>\n",
       "      <td>0.000000</td>\n",
       "    </tr>\n",
       "    <tr>\n",
       "      <th>2014</th>\n",
       "      <td>NaN</td>\n",
       "      <td>NaN</td>\n",
       "    </tr>\n",
       "    <tr>\n",
       "      <th>2015</th>\n",
       "      <td>0.500000</td>\n",
       "      <td>0.500000</td>\n",
       "    </tr>\n",
       "    <tr>\n",
       "      <th>2016</th>\n",
       "      <td>0.000000</td>\n",
       "      <td>0.142857</td>\n",
       "    </tr>\n",
       "    <tr>\n",
       "      <th>2017</th>\n",
       "      <td>0.583333</td>\n",
       "      <td>0.000000</td>\n",
       "    </tr>\n",
       "    <tr>\n",
       "      <th>2018</th>\n",
       "      <td>0.846154</td>\n",
       "      <td>0.230769</td>\n",
       "    </tr>\n",
       "    <tr>\n",
       "      <th>2019</th>\n",
       "      <td>0.125000</td>\n",
       "      <td>0.500000</td>\n",
       "    </tr>\n",
       "    <tr>\n",
       "      <th>2020</th>\n",
       "      <td>0.166667</td>\n",
       "      <td>0.166667</td>\n",
       "    </tr>\n",
       "    <tr>\n",
       "      <th>2021</th>\n",
       "      <td>0.888889</td>\n",
       "      <td>0.000000</td>\n",
       "    </tr>\n",
       "    <tr>\n",
       "      <th>2022</th>\n",
       "      <td>0.791667</td>\n",
       "      <td>0.750000</td>\n",
       "    </tr>\n",
       "  </tbody>\n",
       "</table>\n",
       "</div>"
      ],
      "text/plain": [
       "      fit score (0-2)  online score (0-2)\n",
       "year                                     \n",
       "2011         0.000000            0.000000\n",
       "2012         0.800000            1.000000\n",
       "2013         0.000000            0.000000\n",
       "2014              NaN                 NaN\n",
       "2015         0.500000            0.500000\n",
       "2016         0.000000            0.142857\n",
       "2017         0.583333            0.000000\n",
       "2018         0.846154            0.230769\n",
       "2019         0.125000            0.500000\n",
       "2020         0.166667            0.166667\n",
       "2021         0.888889            0.000000\n",
       "2022         0.791667            0.750000"
      ]
     },
     "execution_count": 40,
     "metadata": {},
     "output_type": "execute_result"
    }
   ],
   "source": [
    "def share_of_twos(x):\n",
    "    if len(x) >= 4: \n",
    "        return np.sum(x==2) / len(x)\n",
    "    return np.NaN\n",
    "\n",
    "df_3 = pipelines_annotated_df_proposed.groupby(\"year\").agg({\"fit score (0-2)\": share_of_twos, \"online score (0-2)\": share_of_twos})\n",
    "df_3.loc[2011:]"
   ]
  },
  {
   "cell_type": "code",
   "execution_count": 41,
   "id": "e9b1fefc-846a-468d-92ba-43e5965b3bd0",
   "metadata": {},
   "outputs": [
    {
     "data": {
      "image/png": "[encoded data removed]",
      "text/plain": [
       "<Figure size 432x288 with 1 Axes>"
      ]
     },
     "metadata": {
      "needs_background": "light"
     },
     "output_type": "display_data"
    },
    {
     "data": {
      "text/plain": [
       "'The fraction of proposed pipelines that fit an use case with BCI and are online capable is rising slightly. Only years with four or more proposed pipelines are taken into account.'"
      ]
     },
     "execution_count": 41,
     "metadata": {},
     "output_type": "execute_result"
    }
   ],
   "source": [
    "sns.lineplot(data=df_3, x=\"year\", y=\"fit score (0-2)\", marker=\"o\", label=\"Fraction of fit pipelines\")\n",
    "sns.lineplot(data=df_3, x=\"year\", y=\"online score (0-2)\", marker=\"D\", linestyle=\"--\", label=\"Fraction of online pipelines\")\n",
    "plt.ylabel(\"Fraction of pipelines\")\n",
    "# plt.ylim(0,1)\n",
    "plt.legend()\n",
    "plt.show()\n",
    "\"The fraction of proposed pipelines that fit an use case with BCI and are online capable is rising slightly. Only years with four or more proposed pipelines are taken into account.\""
   ]
  },
  {
   "cell_type": "code",
   "execution_count": null,
   "id": "79122570-7c10-470b-9bf2-91423f946d51",
   "metadata": {},
   "outputs": [],
   "source": []
  },
  {
   "cell_type": "markdown",
   "id": "79d6ffcb-8c51-4243-ba46-3f4bd607a919",
   "metadata": {},
   "source": [
    "### Evaluation metric"
   ]
  },
  {
   "cell_type": "code",
   "execution_count": 42,
   "id": "dfb8ce7c-c083-407e-91fd-320352a65200",
   "metadata": {},
   "outputs": [],
   "source": [
    "evametrics_d = dict()\n",
    "for metrics in list(papers_annotated_df[\"evaluation metrics\"].apply(lambda x: [m.split(\"(\")[0].strip().lower() for m in str(x).split(\",\")]).values):\n",
    "    for m in metrics:\n",
    "        evametrics_d[m] = evametrics_d.get(m, 0) + 1"
   ]
  },
  {
   "cell_type": "code",
   "execution_count": 43,
   "id": "05916030-f25c-48c1-9320-7e609f016d6e",
   "metadata": {},
   "outputs": [],
   "source": [
    "# sorted(evametrics_d.items(), key=lambda x: x[0])  # TODO check for the items, remove \"\" and \"-\""
   ]
  },
  {
   "cell_type": "code",
   "execution_count": 44,
   "id": "4e7860a8-ef96-4837-8d52-632fc8350ea6",
   "metadata": {},
   "outputs": [],
   "source": [
    "if \"\" in evametrics_d: evametrics_d.pop(\"\")\n",
    "if \"-\" in evametrics_d: evametrics_d.pop(\"-\")\n",
    "if \"nan\" in evametrics_d: evametrics_d.pop(\"nan\")\n",
    "evametrics_d[\"rmse\"] += evametrics_d.pop(\"rrmse\", 0)\n",
    "evametrics_d[\"rmse\"] += evametrics_d.pop(\"mse\", 0)"
   ]
  },
  {
   "cell_type": "code",
   "execution_count": 45,
   "id": "d0556797-fb23-4f6a-aef9-05933f9df794",
   "metadata": {
    "tags": []
   },
   "outputs": [
    {
     "name": "stdout",
     "output_type": "stream",
     "text": [
      "[('accuracy', 22), ('visual', 14), ('snr', 11), ('rmse', 7), ('sensitivity', 5), ('pds', 5), ('specificity', 4), ('f1-score', 4), ('correlation coefficient', 4)]\n"
     ]
    },
    {
     "data": {
      "image/png": "[encoded data removed]",
      "text/plain": [
       "<Figure size 432x288 with 1 Axes>"
      ]
     },
     "metadata": {},
     "output_type": "display_data"
    },
    {
     "data": {
      "text/plain": [
       "'Number of totally used evaluation metrics in publications. It can be seen that the majority of used metrics are used infrequently. The accuracy, visual proof and the signal-to-noise ratio (SNR) are the most comment evaluation metrics.'"
      ]
     },
     "execution_count": 45,
     "metadata": {},
     "output_type": "execute_result"
    }
   ],
   "source": [
    "# Get the journals in order by ascending counts, also in the dataframe\n",
    "top_n = 9\n",
    "metric_map = {\n",
    "    \"snr\": \"SNR\",\n",
    "    \"rmse\": \"RMSE\",\n",
    "    \"f1-score\": \"F1-score\",\n",
    "    \"auc\": \"AUC\",\n",
    "    \"pds\": \"power density spectrum\"\n",
    "}\n",
    "\n",
    "metrics_oi = sorted(evametrics_d.items(), key=lambda x: -x[1])[:top_n]\n",
    "metrics_oi.append((\"other metrics\", sum([count for m, count in sorted(evametrics_d.items(), key=lambda x: -x[1])[top_n:]])))\n",
    "metrics_oi = [[f\"{metric_map.get(p, p)}: {v}\", v] for p,v in metrics_oi]\n",
    "\n",
    "# label_dict = {j: f\"{j}: {j_counts[i]}\" for i, j in enumerate(journals)}\n",
    "print(sorted(evametrics_d.items(), key=lambda x: -x[1])[:top_n])\n",
    "plt.pie(np.array(metrics_oi)[:,1], labels=np.array(metrics_oi)[:,0])\n",
    "plt.title(f\"The {top_n} most common evaluation metrics\")\n",
    "plt.show()\n",
    "\"Number of totally used evaluation metrics in publications. It can be seen that the majority of used metrics are used infrequently. The accuracy, visual proof and the signal-to-noise ratio (SNR) are the most comment evaluation metrics.\""
   ]
  },
  {
   "cell_type": "code",
   "execution_count": null,
   "id": "a7d090e2-8204-4811-81de-eb1fd25fe5c3",
   "metadata": {},
   "outputs": [],
   "source": []
  },
  {
   "cell_type": "markdown",
   "id": "bac39d76-6461-4c79-9d46-2214ad300a4f",
   "metadata": {},
   "source": [
    "### Distribution of the sample size and number of channels"
   ]
  },
  {
   "cell_type": "code",
   "execution_count": 46,
   "id": "a137eec2-2424-4346-a692-14c421ff137a",
   "metadata": {},
   "outputs": [
    {
     "data": {
      "text/plain": [
       "(array([  1.  ,   7.  ,  10.  ,  18.25, 200.  ]), 16.41304347826087)"
      ]
     },
     "execution_count": 46,
     "metadata": {},
     "output_type": "execute_result"
    }
   ],
   "source": [
    "samples = list()\n",
    "for sizes in papers_annotated_df[\"#sample\"].apply(lambda x: [s.strip() for s in str(x).split(\",\")]):\n",
    "    for s in sizes:\n",
    "        if s != \"nan\":\n",
    "            samples.append(int(s))\n",
    "np.quantile(samples, [0,0.25,0.50,0.75,1.00]), np.mean(samples)"
   ]
  },
  {
   "cell_type": "code",
   "execution_count": 47,
   "id": "e9e87199-e9c2-4a8c-9ef4-20fbd35dfd47",
   "metadata": {},
   "outputs": [
    {
     "data": {
      "text/plain": [
       "0.07608695652173914"
      ]
     },
     "execution_count": 47,
     "metadata": {},
     "output_type": "execute_result"
    }
   ],
   "source": [
    "np.mean([s>=30 for s in samples])"
   ]
  },
  {
   "cell_type": "code",
   "execution_count": 48,
   "id": "76c8e21a-a92f-4021-a4a9-50ee6f8ce065",
   "metadata": {},
   "outputs": [
    {
     "data": {
      "text/plain": [
       "(array([  2.,  19.,  64.,  97., 256.]), 69.28767123287672)"
      ]
     },
     "execution_count": 48,
     "metadata": {},
     "output_type": "execute_result"
    }
   ],
   "source": [
    "n_channels = list()\n",
    "for sizes in pipelines_annotated_df.groupby(\"Reference\").agg({\"EEG (#ch)\": \"unique\"})[\"EEG (#ch)\"].values:\n",
    "    for s in list(sizes):\n",
    "        if not pd.isnull(s):\n",
    "            # print(s, sizes)\n",
    "            n_channels.append(int(s))\n",
    "np.quantile(n_channels, [0,0.25,0.50,0.75,1.00]), np.mean(n_channels)"
   ]
  },
  {
   "cell_type": "code",
   "execution_count": 49,
   "id": "7cbaa204-822a-4411-a5a9-593c5322472a",
   "metadata": {},
   "outputs": [
    {
     "data": {
      "image/png": "[encoded data removed]",
      "text/plain": [
       "<Figure size 576x288 with 2 Axes>"
      ]
     },
     "metadata": {
      "needs_background": "light"
     },
     "output_type": "display_data"
    },
    {
     "data": {
      "text/plain": [
       "'Number of subjects over all used datasets and number of used EEG channels per publication. Half of the datasets consist of less than ten participants.'"
      ]
     },
     "execution_count": 49,
     "metadata": {},
     "output_type": "execute_result"
    }
   ],
   "source": [
    "fig, ax = plt.subplots(2,1, figsize=(8,4))\n",
    "sns.boxplot(x=samples, ax=ax[0])\n",
    "ax[0].set_ylabel(\"sample size\")\n",
    "ax[0].set_xticks(range(0, 201, 10))\n",
    "sns.boxplot(x=n_channels, ax=ax[1])\n",
    "ax[1].set_ylabel(\"#channels\")\n",
    "ax[1].set_xticks(range(0, 261, 20))\n",
    "ax[0].set_title(\"Number of subjects and channels\")\n",
    "plt.show()\n",
    "\"Number of subjects over all used datasets and number of used EEG channels per publication. Half of the datasets consist of less than ten participants.\""
   ]
  },
  {
   "attachments": {},
   "cell_type": "markdown",
   "id": "44bc8681",
   "metadata": {},
   "source": [
    "### Most common BCI-paradigms"
   ]
  },
  {
   "cell_type": "code",
   "execution_count": 50,
   "id": "4b4694f7",
   "metadata": {},
   "outputs": [
    {
     "data": {
      "text/plain": [
       "[('motor execution', 28),\n",
       " ('attention strategy', 25),\n",
       " ('-', 20),\n",
       " ('motor imagery', 8),\n",
       " ('ssvep', 2),\n",
       " ('nan', 1),\n",
       " ('mental arithmetic', 1),\n",
       " ('p300', 1),\n",
       " ('motor exectution', 1),\n",
       " ('aep', 1),\n",
       " ('vep', 1),\n",
       " ('motor imagery tasks', 1),\n",
       " ('motor tapping study', 1),\n",
       " ('nine different cognitive tasks', 1),\n",
       " ('...)', 1)]"
      ]
     },
     "execution_count": 50,
     "metadata": {},
     "output_type": "execute_result"
    }
   ],
   "source": [
    "bcimetrics_d = dict()\n",
    "for metrics in list(papers_annotated_df[\"mental strategy\"].astype(\"object\").apply(\n",
    "    lambda x: [str(m).split(\"(\")[0].strip().lower() for m in str(x).split(\",\")]).values):\n",
    "    if str(metrics) == \"nan\":\n",
    "        continue\n",
    "    # print(metrics)\n",
    "    for m in metrics:\n",
    "        bcimetrics_d[m] = bcimetrics_d.get(m, 0) + 1\n",
    "\n",
    "sorted(bcimetrics_d.items(), key=lambda x: -x[1])  # TODO check for the items, remove \"\" and \"-\""
   ]
  },
  {
   "cell_type": "code",
   "execution_count": 51,
   "id": "63c8e17c",
   "metadata": {},
   "outputs": [
    {
     "data": {
      "text/plain": [
       "[('motor execution', 28),\n",
       " ('attention strategy', 25),\n",
       " ('-', 20),\n",
       " ('other', 10),\n",
       " ('motor imagery', 8),\n",
       " ('ssvep', 2)]"
      ]
     },
     "execution_count": 51,
     "metadata": {},
     "output_type": "execute_result"
    }
   ],
   "source": [
    "BCI_PARADIGM_MIN_COUNT = 2\n",
    "\n",
    "bcimetrics_d[\"other\"] = 0\n",
    "for key, count in bcimetrics_d.items():\n",
    "    if count < BCI_PARADIGM_MIN_COUNT:\n",
    "        bcimetrics_d[\"other\"] += bcimetrics_d.get(key, 0)\n",
    "bcimetrics_d = {key: count for key, count in bcimetrics_d.items() if count >= BCI_PARADIGM_MIN_COUNT}\n",
    "sorted(bcimetrics_d.items(), key=lambda x: -x[1])  # TODO check for the items, remove \"\" and \"-\""
   ]
  },
  {
   "cell_type": "code",
   "execution_count": 52,
   "id": "2f59316b",
   "metadata": {},
   "outputs": [
    {
     "name": "stdout",
     "output_type": "stream",
     "text": [
      "[('motor execution', 28), ('attention strategy', 25), ('-', 20), ('other', 10), ('motor imagery', 8), ('ssvep', 2)]\n"
     ]
    },
    {
     "data": {
      "image/png": "[encoded data removed]",
      "text/plain": [
       "<Figure size 432x288 with 1 Axes>"
      ]
     },
     "metadata": {},
     "output_type": "display_data"
    },
    {
     "data": {
      "text/plain": [
       "'Number of used BCI paradigms in publications.'"
      ]
     },
     "execution_count": 52,
     "metadata": {},
     "output_type": "execute_result"
    }
   ],
   "source": [
    "# Get the journals in order by ascending counts, also in the dataframe\n",
    "top_n = 9\n",
    "metric_map = {\n",
    "    \"-\": \"no paradigm\",\n",
    "    \"ssvep\": \"SSVEP\",\n",
    "    \"other\": \"other paradigm\",\n",
    "}\n",
    "\n",
    "metrics_oi = sorted(bcimetrics_d.items(), key=lambda x: -x[1])[:top_n]\n",
    "# metrics_oi.append((\"other pardigm\", sum([count for m, count in sorted(bcimetrics_d.items(), key=lambda x: -x[1])[top_n:]])))\n",
    "metrics_oi = [[f\"{metric_map.get(p, p)}: {v}\", v] for p,v in metrics_oi]\n",
    "\n",
    "# label_dict = {j: f\"{j}: {j_counts[i]}\" for i, j in enumerate(journals)}\n",
    "print(sorted(bcimetrics_d.items(), key=lambda x: -x[1])[:top_n])\n",
    "plt.pie(np.array(metrics_oi)[:,1], labels=np.array(metrics_oi)[:,0])\n",
    "plt.title(f\"The most common BCI paradigms\")\n",
    "plt.show()\n",
    "\"Number of used BCI paradigms in publications.\""
   ]
  },
  {
   "cell_type": "code",
   "execution_count": null,
   "id": "d001e82c",
   "metadata": {},
   "outputs": [],
   "source": []
  },
  {
   "cell_type": "markdown",
   "id": "c4ed91f6-341b-4204-ac88-69e9f70185cd",
   "metadata": {},
   "source": [
    "### Distribution of the Filter's cutoff-frequencies"
   ]
  },
  {
   "cell_type": "code",
   "execution_count": 53,
   "id": "541e2a3d-2689-466e-b85c-a80595f50d26",
   "metadata": {
    "tags": []
   },
   "outputs": [
    {
     "name": "stdout",
     "output_type": "stream",
     "text": [
      "1: LP 200Hz (cutoff-f=200-300Hz) + Notch (50Hz) + BP 8-35Hz (5th-order Butterworth; gain=1.5) , 200\n",
      "could not convert string to float: 'order Butterworth; gain=1.5)'\n",
      "1: LP 200Hz (+Powerline-BP) , 200\n",
      "could not convert string to float: ')'\n",
      "1: LP 1000Hz (+Powerline-BP) , 1000\n",
      "could not convert string to float: ')'\n",
      "1: LP 200Hz (+Powerline-BP) , )\n",
      "could not convert string to float: ')'\n",
      "1: LP 1000Hz (+Powerline-BP) , )\n",
      "could not convert string to float: ')'\n"
     ]
    }
   ],
   "source": [
    "def extract_highpass_cutoff(x):\n",
    "    x = x.split(\"\\t\")[-1]\n",
    "    values = list()\n",
    "    if \"HP\" in x:\n",
    "        values.append(\n",
    "            float(x.split(\"HP\")[-1].split(\"Hz\")[0].split(\"(\")[0].strip())\n",
    "        )\n",
    "    if \"BP\" in x:\n",
    "        try:\n",
    "            values.append(\n",
    "                float(x.split(\"BP\")[-1].split(\"-\")[0].split(\"Hz\")[0].split(\"(\")[0].strip())\n",
    "            )\n",
    "        except Exception as e:\n",
    "            print(x, \",\", x.split(\"BP\")[-1].split(\"-\")[0].split(\"Hz\")[0].split(\"(\")[0].strip())\n",
    "            print(e)\n",
    "            time.sleep(1)\n",
    "    return values\n",
    "\n",
    "def extract_lowpass_cutoff(x):\n",
    "    x = x.split(\"\\t\")[-1]\n",
    "    values = list()\n",
    "    try:\n",
    "        if \"LP\" in x:\n",
    "            values.append(\n",
    "                float(x.split(\"LP\")[-1].split(\"Hz\")[0].split(\"(\")[0].split(\",\")[0].strip())\n",
    "            )\n",
    "        if \"BP\" in x:\n",
    "            values.append(\n",
    "                float(x.split(\"BP\")[-1].split(\"-\")[-1].split(\"Hz\")[0].split(\"(\")[0].split(\",\")[0].strip())\n",
    "            )\n",
    "    except Exception as e:\n",
    "        print(x, \",\", x.split(\"LP\")[-1].split(\"Hz\")[0].split(\"(\")[0].split(\",\")[0].strip())\n",
    "        print(e)\n",
    "        time.sleep(0.1)\n",
    "    return values\n",
    "\n",
    "pipelines_annotated_df[\"Ref+Filter\"] = pipelines_annotated_df.index + \"\\t\" + pipelines_annotated_df[\"filter\"]\n",
    "lowpass_coffs = list(map(lambda x: extract_lowpass_cutoff(str(x)), pipelines_annotated_df[\"Ref+Filter\"].unique()))\n",
    "highpass_coffs = list(map(lambda x: extract_highpass_cutoff(str(x)), pipelines_annotated_df[\"Ref+Filter\"].unique()))"
   ]
  },
  {
   "cell_type": "code",
   "execution_count": 54,
   "id": "af568a54-b2ba-4cce-84a2-677b9e6f4930",
   "metadata": {},
   "outputs": [],
   "source": [
    "lps = [v for sublist in lowpass_coffs for v in sublist]\n",
    "hps = [v for sublist in highpass_coffs for v in sublist]"
   ]
  },
  {
   "cell_type": "code",
   "execution_count": 55,
   "id": "81933c5b-895c-49a6-9dde-6658ba326055",
   "metadata": {},
   "outputs": [
    {
     "data": {
      "image/png": "[encoded data removed]",
      "text/plain": [
       "<Figure size 576x288 with 2 Axes>"
      ]
     },
     "metadata": {
      "needs_background": "light"
     },
     "output_type": "display_data"
    },
    {
     "data": {
      "text/plain": [
       "'Cutoff-frequencies of all filters, categorised into low-passes and high-passes and plotted on a logarithmic scale.'"
      ]
     },
     "execution_count": 55,
     "metadata": {},
     "output_type": "execute_result"
    }
   ],
   "source": [
    "fig, ax = plt.subplots(2,1, figsize=(8,4))\n",
    "ax[0].set_title(\"Cutoff frequencies of the filters\")\n",
    "plot = sns.boxplot(x=lps, ax=ax[0]).set(xscale=\"log\")\n",
    "ax[0].set_ylabel(\"Low pass\")\n",
    "ax[0].set_xticks([0.1, 1, 10, 100, 1000])\n",
    "ax[0].set_xlim(0.04, 1200)\n",
    "\n",
    "sns.boxplot(x=hps, ax=ax[1]).set(xscale=\"log\")\n",
    "ax[1].set_ylabel(\"High pass\")\n",
    "ax[1].set_xticks([0.1, 1, 10, 100, 1000])\n",
    "ax[1].set_xlim(0.04, 1200)\n",
    "ax[1].set_xlabel(\"Cutoff frequency (Hz)\")\n",
    "\n",
    "plt.show()\n",
    "\"Cutoff-frequencies of all filters, categorised into low-passes and high-passes and plotted on a logarithmic scale.\""
   ]
  },
  {
   "cell_type": "code",
   "execution_count": null,
   "id": "74274361-85e9-47b6-b76a-5ba5e7d4ef1c",
   "metadata": {},
   "outputs": [],
   "source": []
  },
  {
   "cell_type": "markdown",
   "id": "72ecbc31-b482-4d76-9a27-0660a76b46fe",
   "metadata": {},
   "source": [
    "## Analysis for the Methods"
   ]
  },
  {
   "cell_type": "markdown",
   "id": "8009ee9e-3230-4923-b49e-812070b8e608",
   "metadata": {},
   "source": [
    "### Decomposition methods"
   ]
  },
  {
   "cell_type": "markdown",
   "id": "7e461983-6403-4087-b909-5cd6cd10f9d7",
   "metadata": {},
   "source": [
    "#### Decomposition methods (number of pipelines)"
   ]
  },
  {
   "cell_type": "code",
   "execution_count": 56,
   "id": "46ce9b9e-e925-4ac2-9823-221beeff576a",
   "metadata": {},
   "outputs": [
    {
     "data": {
      "text/plain": [
       "Fourier Transf.     29\n",
       "Wavelet Transf.     48\n",
       "CCA                 23\n",
       "ICA                112\n",
       "PCA                 42\n",
       "EMD                 24\n",
       "Other               51\n",
       "dtype: int64"
      ]
     },
     "execution_count": 56,
     "metadata": {},
     "output_type": "execute_result"
    }
   ],
   "source": [
    "distr = (~pipelines_annotated_df[['Fourier Transf.', 'Wavelet Transf.', 'Welch', 'LSP', 'PCC', 'CCA', 'ICA', 'NMF', 'PCA', 't-SNE', 'EMD', 'IVA', 'CSP', 'Other.1']].isnull()).sum(axis=0)\n",
    "distr[\"Other\"] = distr[\"Other.1\"]\n",
    "\n",
    "distr[\"Other\"] += distr[\"Welch\"]\n",
    "distr[\"Other\"] += distr[\"LSP\"]\n",
    "distr[\"Other\"] += distr[\"PCC\"]\n",
    "distr[\"Other\"] += distr[\"NMF\"]\n",
    "distr[\"Other\"] += distr[\"t-SNE\"]\n",
    "distr[\"Other\"] += distr[\"IVA\"]\n",
    "distr[\"Other\"] += distr[\"CSP\"]\n",
    "[distr.pop(key) for key in ['Welch', 'LSP', 'PCC', 'NMF', 't-SNE', 'IVA', 'CSP', 'Other.1']]\n",
    "distr"
   ]
  },
  {
   "cell_type": "code",
   "execution_count": 57,
   "id": "cb8fc67d-44c0-425e-82ca-e6a5272e2a26",
   "metadata": {
    "tags": []
   },
   "outputs": [
    {
     "data": {
      "image/png": "[encoded data removed]",
      "text/plain": [
       "<Figure size 432x288 with 1 Axes>"
      ]
     },
     "metadata": {},
     "output_type": "display_data"
    },
    {
     "data": {
      "text/plain": [
       "'Number of totally used decomposition methods.'"
      ]
     },
     "execution_count": 57,
     "metadata": {},
     "output_type": "execute_result"
    }
   ],
   "source": [
    "labels = [f\"{p}: {v}\" for p,v in distr.items()]\n",
    "plt.pie(distr, labels=labels)\n",
    "plt.title(f\"Most common decomposition methods\")\n",
    "plt.show()\n",
    "\"Number of totally used decomposition methods.\""
   ]
  },
  {
   "cell_type": "code",
   "execution_count": null,
   "id": "6ed4afb9-42bb-46a6-8bea-deb4c9d8931b",
   "metadata": {},
   "outputs": [],
   "source": []
  },
  {
   "attachments": {},
   "cell_type": "markdown",
   "id": "758b8b0d-d8f6-4d05-9eff-7b3ac9dc6ea8",
   "metadata": {},
   "source": [
    "#### Decomposition methods (total number of publications)"
   ]
  },
  {
   "cell_type": "code",
   "execution_count": 58,
   "id": "d9522c4e-4948-4e31-9c84-932a64e1d42c",
   "metadata": {},
   "outputs": [
    {
     "data": {
      "text/html": [
       "<div>\n",
       "<style scoped>\n",
       "    .dataframe tbody tr th:only-of-type {\n",
       "        vertical-align: middle;\n",
       "    }\n",
       "\n",
       "    .dataframe tbody tr th {\n",
       "        vertical-align: top;\n",
       "    }\n",
       "\n",
       "    .dataframe thead th {\n",
       "        text-align: right;\n",
       "    }\n",
       "</style>\n",
       "<table border=\"1\" class=\"dataframe\">\n",
       "  <thead>\n",
       "    <tr style=\"text-align: right;\">\n",
       "      <th></th>\n",
       "      <th>total</th>\n",
       "    </tr>\n",
       "  </thead>\n",
       "  <tbody>\n",
       "    <tr>\n",
       "      <th>Fourier Transf.</th>\n",
       "      <td>10</td>\n",
       "    </tr>\n",
       "    <tr>\n",
       "      <th>Wavelet Transf.</th>\n",
       "      <td>12</td>\n",
       "    </tr>\n",
       "    <tr>\n",
       "      <th>CCA</th>\n",
       "      <td>9</td>\n",
       "    </tr>\n",
       "    <tr>\n",
       "      <th>ICA</th>\n",
       "      <td>36</td>\n",
       "    </tr>\n",
       "    <tr>\n",
       "      <th>PCA</th>\n",
       "      <td>18</td>\n",
       "    </tr>\n",
       "  </tbody>\n",
       "</table>\n",
       "</div>"
      ],
      "text/plain": [
       "                 total\n",
       "Fourier Transf.     10\n",
       "Wavelet Transf.     12\n",
       "CCA                  9\n",
       "ICA                 36\n",
       "PCA                 18"
      ]
     },
     "execution_count": 58,
     "metadata": {},
     "output_type": "execute_result"
    }
   ],
   "source": [
    "distr = (pipelines_annotated_df.groupby(\"Reference\").agg(\"count\")[\n",
    "    ['Fourier Transf.', 'Wavelet Transf.', 'Welch', 'LSP', 'PCC', 'CCA', 'ICA', 'NMF', 'PCA', 't-SNE', 'EMD', 'IVA', 'CSP', 'Other.1']\n",
    "        ]>0).sum(axis=0)\n",
    "distr[\"Other\"] = distr[\"Other.1\"]\n",
    "\n",
    "distr[\"Other\"] += distr[\"Welch\"]\n",
    "distr[\"Other\"] += distr[\"LSP\"]\n",
    "distr[\"Other\"] += distr[\"PCC\"]\n",
    "distr[\"Other\"] += distr[\"NMF\"]\n",
    "distr[\"Other\"] += distr[\"t-SNE\"]\n",
    "distr[\"Other\"] += distr[\"IVA\"]\n",
    "distr[\"Other\"] += distr[\"CSP\"]\n",
    "[distr.pop(key) for key in ['Welch', 'LSP', 'PCC', 'NMF', 't-SNE', 'IVA', 'CSP', 'Other.1']]\n",
    "\n",
    "# store in df_decomp\n",
    "df_decomp = pd.DataFrame(data=distr, columns=[\"total\"])\n",
    "df_decomp.head()"
   ]
  },
  {
   "cell_type": "code",
   "execution_count": 59,
   "id": "684278fb",
   "metadata": {},
   "outputs": [
    {
     "data": {
      "image/png": "[encoded data removed]",
      "text/plain": [
       "<Figure size 432x288 with 1 Axes>"
      ]
     },
     "metadata": {},
     "output_type": "display_data"
    },
    {
     "data": {
      "text/plain": [
       "'Number of totally used decomposition methods.'"
      ]
     },
     "execution_count": 59,
     "metadata": {},
     "output_type": "execute_result"
    }
   ],
   "source": [
    "labels = [f\"{p}: {v}\" for p,v in distr.items()]\n",
    "plt.pie(distr, labels=labels)\n",
    "plt.title(f\"Most common decomposition methods\")\n",
    "plt.show()\n",
    "\"Number of totally used decomposition methods.\""
   ]
  },
  {
   "attachments": {},
   "cell_type": "markdown",
   "id": "23ab8b6b-ee71-45ea-8a37-d5d1a0ee0786",
   "metadata": {},
   "source": [
    "#### Decomposition methods (proposed number of publications)"
   ]
  },
  {
   "cell_type": "code",
   "execution_count": 60,
   "id": "41339ad8-b4cc-44b8-91ed-e3463dc22aa3",
   "metadata": {},
   "outputs": [
    {
     "data": {
      "text/html": [
       "<div>\n",
       "<style scoped>\n",
       "    .dataframe tbody tr th:only-of-type {\n",
       "        vertical-align: middle;\n",
       "    }\n",
       "\n",
       "    .dataframe tbody tr th {\n",
       "        vertical-align: top;\n",
       "    }\n",
       "\n",
       "    .dataframe thead th {\n",
       "        text-align: right;\n",
       "    }\n",
       "</style>\n",
       "<table border=\"1\" class=\"dataframe\">\n",
       "  <thead>\n",
       "    <tr style=\"text-align: right;\">\n",
       "      <th></th>\n",
       "      <th>total</th>\n",
       "      <th>proposed</th>\n",
       "    </tr>\n",
       "  </thead>\n",
       "  <tbody>\n",
       "    <tr>\n",
       "      <th>Fourier Transf.</th>\n",
       "      <td>10</td>\n",
       "      <td>7</td>\n",
       "    </tr>\n",
       "    <tr>\n",
       "      <th>Wavelet Transf.</th>\n",
       "      <td>12</td>\n",
       "      <td>9</td>\n",
       "    </tr>\n",
       "    <tr>\n",
       "      <th>CCA</th>\n",
       "      <td>9</td>\n",
       "      <td>6</td>\n",
       "    </tr>\n",
       "    <tr>\n",
       "      <th>ICA</th>\n",
       "      <td>36</td>\n",
       "      <td>17</td>\n",
       "    </tr>\n",
       "    <tr>\n",
       "      <th>PCA</th>\n",
       "      <td>18</td>\n",
       "      <td>9</td>\n",
       "    </tr>\n",
       "  </tbody>\n",
       "</table>\n",
       "</div>"
      ],
      "text/plain": [
       "                 total  proposed\n",
       "Fourier Transf.     10         7\n",
       "Wavelet Transf.     12         9\n",
       "CCA                  9         6\n",
       "ICA                 36        17\n",
       "PCA                 18         9"
      ]
     },
     "execution_count": 60,
     "metadata": {},
     "output_type": "execute_result"
    }
   ],
   "source": [
    "distr = (pipelines_annotated_df[pipelines_annotated_df[\"is new\"] > 0].groupby(\"Reference\").agg(\"count\")[\n",
    "    ['Fourier Transf.', 'Wavelet Transf.', 'Welch', 'LSP', 'PCC', 'CCA', 'ICA', 'NMF', 'PCA', 't-SNE', 'EMD', 'IVA', 'CSP', 'Other.1']\n",
    "        ]>0).sum(axis=0)\n",
    "distr[\"Other\"] = distr[\"Other.1\"]\n",
    "\n",
    "distr[\"Other\"] += distr[\"Welch\"]\n",
    "distr[\"Other\"] += distr[\"LSP\"]\n",
    "distr[\"Other\"] += distr[\"PCC\"]\n",
    "distr[\"Other\"] += distr[\"NMF\"]\n",
    "distr[\"Other\"] += distr[\"t-SNE\"]\n",
    "distr[\"Other\"] += distr[\"IVA\"]\n",
    "distr[\"Other\"] += distr[\"CSP\"]\n",
    "[distr.pop(key) for key in ['Welch', 'LSP', 'PCC', 'NMF', 't-SNE', 'IVA', 'CSP', 'Other.1']]\n",
    "\n",
    "# store in df_decomp\n",
    "df_decomp[\"proposed\"] = distr\n",
    "df_decomp.head()"
   ]
  },
  {
   "attachments": {},
   "cell_type": "markdown",
   "id": "580927a9",
   "metadata": {},
   "source": [
    "#### Decomposition methods (number since 2020)"
   ]
  },
  {
   "cell_type": "code",
   "execution_count": 61,
   "id": "dc6c2165",
   "metadata": {},
   "outputs": [
    {
     "data": {
      "text/html": [
       "<div>\n",
       "<style scoped>\n",
       "    .dataframe tbody tr th:only-of-type {\n",
       "        vertical-align: middle;\n",
       "    }\n",
       "\n",
       "    .dataframe tbody tr th {\n",
       "        vertical-align: top;\n",
       "    }\n",
       "\n",
       "    .dataframe thead th {\n",
       "        text-align: right;\n",
       "    }\n",
       "</style>\n",
       "<table border=\"1\" class=\"dataframe\">\n",
       "  <thead>\n",
       "    <tr style=\"text-align: right;\">\n",
       "      <th></th>\n",
       "      <th>total</th>\n",
       "      <th>proposed</th>\n",
       "      <th>since 2020</th>\n",
       "    </tr>\n",
       "  </thead>\n",
       "  <tbody>\n",
       "    <tr>\n",
       "      <th>Fourier Transf.</th>\n",
       "      <td>10</td>\n",
       "      <td>7</td>\n",
       "      <td>1</td>\n",
       "    </tr>\n",
       "    <tr>\n",
       "      <th>Wavelet Transf.</th>\n",
       "      <td>12</td>\n",
       "      <td>9</td>\n",
       "      <td>3</td>\n",
       "    </tr>\n",
       "    <tr>\n",
       "      <th>CCA</th>\n",
       "      <td>9</td>\n",
       "      <td>6</td>\n",
       "      <td>4</td>\n",
       "    </tr>\n",
       "    <tr>\n",
       "      <th>ICA</th>\n",
       "      <td>36</td>\n",
       "      <td>17</td>\n",
       "      <td>11</td>\n",
       "    </tr>\n",
       "    <tr>\n",
       "      <th>PCA</th>\n",
       "      <td>18</td>\n",
       "      <td>9</td>\n",
       "      <td>5</td>\n",
       "    </tr>\n",
       "  </tbody>\n",
       "</table>\n",
       "</div>"
      ],
      "text/plain": [
       "                 total  proposed  since 2020\n",
       "Fourier Transf.     10         7           1\n",
       "Wavelet Transf.     12         9           3\n",
       "CCA                  9         6           4\n",
       "ICA                 36        17          11\n",
       "PCA                 18         9           5"
      ]
     },
     "execution_count": 61,
     "metadata": {},
     "output_type": "execute_result"
    }
   ],
   "source": [
    "distr = (pipelines_annotated_df[pipelines_annotated_df[\"year\"] >= 2020].groupby(\"Reference\").agg(\"count\")[\n",
    "    ['Fourier Transf.', 'Wavelet Transf.', 'Welch', 'LSP', 'PCC', 'CCA', 'ICA', 'NMF', 'PCA', 't-SNE', 'EMD', 'IVA', 'CSP', 'Other.1']\n",
    "        ]>0).sum(axis=0)\n",
    "distr[\"Other\"] = distr[\"Other.1\"]\n",
    "\n",
    "distr[\"Other\"] += distr[\"Welch\"]\n",
    "distr[\"Other\"] += distr[\"LSP\"]\n",
    "distr[\"Other\"] += distr[\"PCC\"]\n",
    "distr[\"Other\"] += distr[\"NMF\"]\n",
    "distr[\"Other\"] += distr[\"t-SNE\"]\n",
    "distr[\"Other\"] += distr[\"IVA\"]\n",
    "distr[\"Other\"] += distr[\"CSP\"]\n",
    "[distr.pop(key) for key in ['Welch', 'LSP', 'PCC', 'NMF', 't-SNE', 'IVA', 'CSP', 'Other.1']]\n",
    "\n",
    "# store in df_decomp\n",
    "df_decomp[\"since 2020\"] = distr\n",
    "df_decomp.head()"
   ]
  },
  {
   "attachments": {},
   "cell_type": "markdown",
   "id": "b5870f25",
   "metadata": {},
   "source": [
    "#### Decomposition methods (number of publications with fit pipelines of the type)"
   ]
  },
  {
   "cell_type": "code",
   "execution_count": 62,
   "id": "499903f2",
   "metadata": {},
   "outputs": [
    {
     "data": {
      "text/html": [
       "<div>\n",
       "<style scoped>\n",
       "    .dataframe tbody tr th:only-of-type {\n",
       "        vertical-align: middle;\n",
       "    }\n",
       "\n",
       "    .dataframe tbody tr th {\n",
       "        vertical-align: top;\n",
       "    }\n",
       "\n",
       "    .dataframe thead th {\n",
       "        text-align: right;\n",
       "    }\n",
       "</style>\n",
       "<table border=\"1\" class=\"dataframe\">\n",
       "  <thead>\n",
       "    <tr style=\"text-align: right;\">\n",
       "      <th></th>\n",
       "      <th>total</th>\n",
       "      <th>proposed</th>\n",
       "      <th>since 2020</th>\n",
       "      <th>fit</th>\n",
       "    </tr>\n",
       "  </thead>\n",
       "  <tbody>\n",
       "    <tr>\n",
       "      <th>Fourier Transf.</th>\n",
       "      <td>10</td>\n",
       "      <td>7</td>\n",
       "      <td>1</td>\n",
       "      <td>5</td>\n",
       "    </tr>\n",
       "    <tr>\n",
       "      <th>Wavelet Transf.</th>\n",
       "      <td>12</td>\n",
       "      <td>9</td>\n",
       "      <td>3</td>\n",
       "      <td>6</td>\n",
       "    </tr>\n",
       "    <tr>\n",
       "      <th>CCA</th>\n",
       "      <td>9</td>\n",
       "      <td>6</td>\n",
       "      <td>4</td>\n",
       "      <td>5</td>\n",
       "    </tr>\n",
       "    <tr>\n",
       "      <th>ICA</th>\n",
       "      <td>36</td>\n",
       "      <td>17</td>\n",
       "      <td>11</td>\n",
       "      <td>17</td>\n",
       "    </tr>\n",
       "    <tr>\n",
       "      <th>PCA</th>\n",
       "      <td>18</td>\n",
       "      <td>9</td>\n",
       "      <td>5</td>\n",
       "      <td>9</td>\n",
       "    </tr>\n",
       "  </tbody>\n",
       "</table>\n",
       "</div>"
      ],
      "text/plain": [
       "                 total  proposed  since 2020  fit\n",
       "Fourier Transf.     10         7           1    5\n",
       "Wavelet Transf.     12         9           3    6\n",
       "CCA                  9         6           4    5\n",
       "ICA                 36        17          11   17\n",
       "PCA                 18         9           5    9"
      ]
     },
     "execution_count": 62,
     "metadata": {},
     "output_type": "execute_result"
    }
   ],
   "source": [
    "distr = (pipelines_annotated_df[pipelines_annotated_df[\"fit score (0-2)\"] == 2].groupby(\"Reference\").agg(\"count\")[\n",
    "    ['Fourier Transf.', 'Wavelet Transf.', 'Welch', 'LSP', 'PCC', 'CCA', 'ICA', 'NMF', 'PCA', 't-SNE', 'EMD', 'IVA', 'CSP', 'Other.1']\n",
    "        ]>0).sum(axis=0)\n",
    "distr[\"Other\"] = distr[\"Other.1\"]\n",
    "\n",
    "distr[\"Other\"] += distr[\"Welch\"]\n",
    "distr[\"Other\"] += distr[\"LSP\"]\n",
    "distr[\"Other\"] += distr[\"PCC\"]\n",
    "distr[\"Other\"] += distr[\"NMF\"]\n",
    "distr[\"Other\"] += distr[\"t-SNE\"]\n",
    "distr[\"Other\"] += distr[\"IVA\"]\n",
    "distr[\"Other\"] += distr[\"CSP\"]\n",
    "[distr.pop(key) for key in ['Welch', 'LSP', 'PCC', 'NMF', 't-SNE', 'IVA', 'CSP', 'Other.1']]\n",
    "\n",
    "# store in df_decomp\n",
    "df_decomp[\"fit\"] = distr\n",
    "df_decomp.head()"
   ]
  },
  {
   "attachments": {},
   "cell_type": "markdown",
   "id": "a0eb08e6",
   "metadata": {},
   "source": [
    "#### Decomposition methods (number of publications with online capable pipelines of the type)"
   ]
  },
  {
   "cell_type": "code",
   "execution_count": 63,
   "id": "89283606",
   "metadata": {},
   "outputs": [
    {
     "data": {
      "text/html": [
       "<div>\n",
       "<style scoped>\n",
       "    .dataframe tbody tr th:only-of-type {\n",
       "        vertical-align: middle;\n",
       "    }\n",
       "\n",
       "    .dataframe tbody tr th {\n",
       "        vertical-align: top;\n",
       "    }\n",
       "\n",
       "    .dataframe thead th {\n",
       "        text-align: right;\n",
       "    }\n",
       "</style>\n",
       "<table border=\"1\" class=\"dataframe\">\n",
       "  <thead>\n",
       "    <tr style=\"text-align: right;\">\n",
       "      <th></th>\n",
       "      <th>total</th>\n",
       "      <th>proposed</th>\n",
       "      <th>since 2020</th>\n",
       "      <th>fit</th>\n",
       "      <th>online</th>\n",
       "    </tr>\n",
       "  </thead>\n",
       "  <tbody>\n",
       "    <tr>\n",
       "      <th>Fourier Transf.</th>\n",
       "      <td>10</td>\n",
       "      <td>7</td>\n",
       "      <td>1</td>\n",
       "      <td>5</td>\n",
       "      <td>6</td>\n",
       "    </tr>\n",
       "    <tr>\n",
       "      <th>Wavelet Transf.</th>\n",
       "      <td>12</td>\n",
       "      <td>9</td>\n",
       "      <td>3</td>\n",
       "      <td>6</td>\n",
       "      <td>5</td>\n",
       "    </tr>\n",
       "    <tr>\n",
       "      <th>CCA</th>\n",
       "      <td>9</td>\n",
       "      <td>6</td>\n",
       "      <td>4</td>\n",
       "      <td>5</td>\n",
       "      <td>2</td>\n",
       "    </tr>\n",
       "    <tr>\n",
       "      <th>ICA</th>\n",
       "      <td>36</td>\n",
       "      <td>17</td>\n",
       "      <td>11</td>\n",
       "      <td>17</td>\n",
       "      <td>10</td>\n",
       "    </tr>\n",
       "    <tr>\n",
       "      <th>PCA</th>\n",
       "      <td>18</td>\n",
       "      <td>9</td>\n",
       "      <td>5</td>\n",
       "      <td>9</td>\n",
       "      <td>4</td>\n",
       "    </tr>\n",
       "  </tbody>\n",
       "</table>\n",
       "</div>"
      ],
      "text/plain": [
       "                 total  proposed  since 2020  fit  online\n",
       "Fourier Transf.     10         7           1    5       6\n",
       "Wavelet Transf.     12         9           3    6       5\n",
       "CCA                  9         6           4    5       2\n",
       "ICA                 36        17          11   17      10\n",
       "PCA                 18         9           5    9       4"
      ]
     },
     "execution_count": 63,
     "metadata": {},
     "output_type": "execute_result"
    }
   ],
   "source": [
    "distr = (pipelines_annotated_df[pipelines_annotated_df[\"online score (0-2)\"] == 2].groupby(\"Reference\").agg(\"count\")[\n",
    "    ['Fourier Transf.', 'Wavelet Transf.', 'Welch', 'LSP', 'PCC', 'CCA', 'ICA', 'NMF', 'PCA', 't-SNE', 'EMD', 'IVA', 'CSP', 'Other.1']\n",
    "        ]>0).sum(axis=0)\n",
    "distr[\"Other\"] = distr[\"Other.1\"]\n",
    "\n",
    "distr[\"Other\"] += distr[\"Welch\"]\n",
    "distr[\"Other\"] += distr[\"LSP\"]\n",
    "distr[\"Other\"] += distr[\"PCC\"]\n",
    "distr[\"Other\"] += distr[\"NMF\"]\n",
    "distr[\"Other\"] += distr[\"t-SNE\"]\n",
    "distr[\"Other\"] += distr[\"IVA\"]\n",
    "distr[\"Other\"] += distr[\"CSP\"]\n",
    "[distr.pop(key) for key in ['Welch', 'LSP', 'PCC', 'NMF', 't-SNE', 'IVA', 'CSP', 'Other.1']]\n",
    "\n",
    "# store in df_decomp\n",
    "df_decomp[\"online\"] = distr\n",
    "df_decomp.head()"
   ]
  },
  {
   "attachments": {},
   "cell_type": "markdown",
   "id": "b7f2db3d",
   "metadata": {},
   "source": [
    "### Plot the stacked barplot"
   ]
  },
  {
   "cell_type": "code",
   "execution_count": 64,
   "id": "9e7408cf",
   "metadata": {},
   "outputs": [
    {
     "name": "stdout",
     "output_type": "stream",
     "text": [
      "Fourier Transf.: \tsample_count=1, \treference_count=10, \tp_value=0.01\n",
      "Wavelet Transf.: \tsample_count=3, \treference_count=12, \tp_value=0.438\n",
      "CCA: \tsample_count=4, \treference_count=9, \tp_value=0.984\n",
      "ICA: \tsample_count=11, \treference_count=36, \tp_value=0.896\n",
      "PCA: \tsample_count=5, \treference_count=18, \tp_value=0.665\n",
      "EMD: \tsample_count=4, \treference_count=8, \tp_value=0.995\n",
      "Other: \tsample_count=3, \treference_count=27, \tp_value=0.0\n"
     ]
    },
    {
     "data": {
      "text/plain": [
       "[0.01, 0.438, 0.984, 0.896, 0.665, 0.995, 0.0]"
      ]
     },
     "execution_count": 64,
     "metadata": {},
     "output_type": "execute_result"
    }
   ],
   "source": [
    "def statistic(x, y, axis=0):\n",
    "    return np.mean(x, axis=axis) - np.mean(y, axis=axis)\n",
    "\n",
    "def bootstrap_test_multiple(references, samples, alternative=\"less\", n_resamples=1_000, verbose=0):\n",
    "    significances = []\n",
    "    for key in references.index:\n",
    "        total_bools = np.array([1] * references[key] + [0] * (references.sum() - references[key]))\n",
    "        sample_bools = [1] * samples[key] + [0] * (samples.sum() - samples[key])\n",
    "        diffs = np.zeros(n_resamples)\n",
    "        for idx in range(n_resamples):\n",
    "            sampled_orig = np.random.choice(total_bools, size=len(total_bools), replace=True)\n",
    "            diff = statistic(sampled_orig, sample_bools)\n",
    "            if diff > 0:\n",
    "                diffs[idx] = 1\n",
    "        if alternative == \"less\":\n",
    "            pvalue = np.round(1.0 -np.mean(diffs), 6)\n",
    "        else:\n",
    "            pvalue = np.round(np.mean(diffs), 6)\n",
    "        significances.append(pvalue)\n",
    "\n",
    "        if verbose >= 1:\n",
    "            print(f\"{key}: \\tsample_count={samples[key]}, \\treference_count={references[key]}, \\tp_value={pvalue}\")\n",
    "    return significances\n",
    "\n",
    "bootstrap_test_multiple(df_decomp[\"total\"], df_decomp[\"since 2020\"], alternative=\"less\", n_resamples=1_000, verbose=1)"
   ]
  },
  {
   "cell_type": "code",
   "execution_count": 65,
   "id": "7e70b5f5",
   "metadata": {},
   "outputs": [],
   "source": [
    "# calculate the p-values to all cases\n",
    "p_values_proposed = bootstrap_test_multiple(df_decomp[\"total\"], df_decomp[\"proposed\"], alternative=\"greater\", n_resamples=10_000)\n",
    "p_values_2020 = bootstrap_test_multiple(df_decomp[\"total\"], df_decomp[\"since 2020\"], alternative=\"greater\", n_resamples=10_000)\n",
    "p_values_fit = bootstrap_test_multiple(df_decomp[\"total\"], df_decomp[\"fit\"], alternative=\"greater\", n_resamples=10_000)\n",
    "p_values_online = bootstrap_test_multiple(df_decomp[\"total\"], df_decomp[\"online\"], alternative=\"greater\", n_resamples=10_000)\n",
    "\n",
    "p_values_proposed_less = bootstrap_test_multiple(df_decomp[\"total\"], df_decomp[\"proposed\"], alternative=\"less\", n_resamples=10_000)\n",
    "p_values_2020_less = bootstrap_test_multiple(df_decomp[\"total\"], df_decomp[\"since 2020\"], alternative=\"less\", n_resamples=10_000)\n",
    "p_values_fit_less = bootstrap_test_multiple(df_decomp[\"total\"], df_decomp[\"fit\"], alternative=\"less\", n_resamples=10_000)\n",
    "p_values_online_less = bootstrap_test_multiple(df_decomp[\"total\"], df_decomp[\"online\"], alternative=\"less\", n_resamples=10_000)"
   ]
  },
  {
   "cell_type": "code",
   "execution_count": 66,
   "id": "1d77eca6",
   "metadata": {},
   "outputs": [],
   "source": [
    "# annotate the significances\n",
    "ALPHA = 0.1  #0.05\n",
    "sig_char = \">\"\n",
    "sig_neg_char = \"<\"\n",
    "insig_char = \" \"\n",
    "\n",
    "significances_proposed = [sig_neg_char if p_values_proposed_less[idx] <= ALPHA else char \n",
    "                          for idx, char in enumerate([sig_char if p_values_proposed[idx] <= ALPHA else insig_char for idx in range(len(df_decomp))])]\n",
    "significances_2020 = [sig_neg_char if p_values_2020_less[idx] <= ALPHA else char \n",
    "                      for idx, char in enumerate([sig_char if p_values_2020[idx] <= ALPHA else insig_char for idx in range(len(df_decomp))])]\n",
    "significances_fit = [sig_neg_char if p_values_fit_less[idx] <= ALPHA else char \n",
    "                     for idx, char in enumerate([sig_char if p_values_fit[idx] <= ALPHA else insig_char for idx in range(len(df_decomp))])]\n",
    "significances_online = [sig_neg_char if p_values_online_less[idx] <= ALPHA else char \n",
    "                        for idx, char in enumerate([sig_char if p_values_online[idx] <= ALPHA else insig_char for idx in range(len(df_decomp))])]\n"
   ]
  },
  {
   "cell_type": "code",
   "execution_count": 67,
   "id": "d759b8b0",
   "metadata": {},
   "outputs": [
    {
     "data": {
      "image/png": "[encoded data removed]",
      "text/plain": [
       "<Figure size 432x576 with 1 Axes>"
      ]
     },
     "metadata": {
      "needs_background": "light"
     },
     "output_type": "display_data"
    }
   ],
   "source": [
    "# Plot the results\n",
    "fig = df_decomp.T.plot(kind='bar', stacked=True, figsize=(6,8))\n",
    "text_init_height = -1.1\n",
    "\n",
    "# Print the significance levels\n",
    "cumsum = text_init_height\n",
    "for idx, val in enumerate(df_decomp[\"proposed\"]):\n",
    "    cumsum += val/2\n",
    "    plt.text(0.9725, cumsum, significances_proposed[idx], fontweight=\"bold\")\n",
    "    cumsum += val/2\n",
    "cumsum = text_init_height\n",
    "for idx, val in enumerate(df_decomp[\"since 2020\"]):\n",
    "    cumsum += val/2\n",
    "    plt.text(1.9725, cumsum, significances_2020[idx], fontweight=\"bold\")\n",
    "    cumsum += val/2\n",
    "cumsum = text_init_height\n",
    "for idx, val in enumerate(df_decomp[\"fit\"]):\n",
    "    cumsum += val/2\n",
    "    plt.text(2.9725, cumsum, significances_fit[idx], fontweight=\"bold\")\n",
    "    cumsum += val/2\n",
    "cumsum = text_init_height\n",
    "for idx, val in enumerate(df_decomp[\"online\"]):\n",
    "    cumsum += val/2\n",
    "    plt.text(3.9725, cumsum, significances_online[idx], fontweight=\"bold\")\n",
    "    cumsum += val/2\n",
    "\n",
    "# plot layout\n",
    "plt.title(\"Number of Decomposition Methods\")\n",
    "plt.ylabel(\"Number of publications\")\n",
    "plt.xticks(rotation=0)\n",
    "plt.legend(labels, loc=\"upper right\")\n",
    "plt.show()"
   ]
  },
  {
   "cell_type": "code",
   "execution_count": null,
   "id": "db782f02",
   "metadata": {},
   "outputs": [],
   "source": []
  },
  {
   "cell_type": "markdown",
   "id": "407bc0a4-90cc-45fa-94eb-018944992abe",
   "metadata": {},
   "source": [
    "#### ICA flavors methods (total)"
   ]
  },
  {
   "cell_type": "code",
   "execution_count": 68,
   "id": "720baff1-0469-4f51-9d1b-36e259328a19",
   "metadata": {},
   "outputs": [],
   "source": [
    "ica_map = {\n",
    "    \"Fast ICA\": \"FastICA\",\n",
    "    \"ICA-\": \"wICA\",\n",
    "    \"w-ICA\": \"wICA\"\n",
    "}\n",
    "    \n",
    "\n",
    "def extract_flavor(x):\n",
    "    x = str(x).split(\"\\t\")[-1]\n",
    "    if str(x) == \"nan\":\n",
    "        return list()\n",
    "    flavors = list()\n",
    "    for m in str(x).split(\",\"):\n",
    "        for method in m.split(\"+\"):\n",
    "            r = method.split(\":\")[-1].strip()\n",
    "            if not r.isnumeric() and r != \"ICA\":\n",
    "                flavors.append(\n",
    "                    ica_map.get(r, r)\n",
    "                )\n",
    "            else:\n",
    "                flavors.append(\"unspecified\")\n",
    "    return flavors\n",
    "\n",
    "pipelines_annotated_df[\"Ref+ICA\"] = pipelines_annotated_df.index + \"\\t\" + pipelines_annotated_df[\"ICA\"]\n",
    "flavors = list(map(extract_flavor, pipelines_annotated_df[\"Ref+ICA\"].unique()))\n",
    "flavors = [f for sublist in flavors for f in sublist]"
   ]
  },
  {
   "cell_type": "code",
   "execution_count": 69,
   "id": "b8d691a2",
   "metadata": {},
   "outputs": [
    {
     "data": {
      "text/plain": [
       "(array(['AMICA', 'CCA', 'CUDAICA', 'EAWICA', 'ERICA', 'FastICA',\n",
       "        'Fourier-ICA', 'ICA-W', 'IMICA', 'Infomax', 'InfomaxICA', 'JADE',\n",
       "        'MCCA', 'SCICA', 'TDSEP', 'extended Infomax', 'unspecified',\n",
       "        'wICA'], dtype='<U16'),\n",
       " array([ 8,  1,  1,  1,  1,  8,  1,  1,  1,  2,  7,  2,  1,  1,  3,  3, 13,\n",
       "         9]))"
      ]
     },
     "execution_count": 69,
     "metadata": {},
     "output_type": "execute_result"
    }
   ],
   "source": [
    "np.unique(flavors, return_counts=True)"
   ]
  },
  {
   "cell_type": "code",
   "execution_count": 70,
   "id": "12270a3a-5bf9-4cb4-9978-f91791aaf618",
   "metadata": {},
   "outputs": [
    {
     "data": {
      "image/png": "[encoded data removed]",
      "text/plain": [
       "<Figure size 432x288 with 1 Axes>"
      ]
     },
     "metadata": {},
     "output_type": "display_data"
    },
    {
     "data": {
      "text/plain": [
       "'Most common ICA methods.'"
      ]
     },
     "execution_count": 70,
     "metadata": {},
     "output_type": "execute_result"
    }
   ],
   "source": [
    "threshold = 3\n",
    "labels, counts = np.unique(flavors, return_counts=True)\n",
    "labels = [f\"{f}: {counts[i]}\" for i, f in enumerate(labels)]\n",
    "\n",
    "labels.append(\"Other\")\n",
    "counts = list(counts)\n",
    "counts.append(0)\n",
    "droplist = []\n",
    "for i, c in enumerate(counts):\n",
    "    if c < threshold:\n",
    "        counts[-1] += c\n",
    "        droplist.append(i)\n",
    "labels = [lab for i, lab in enumerate(labels) if i not in droplist]\n",
    "counts = [c for i, c in enumerate(counts) if i not in droplist]\n",
    "labels[-1] = f\"Other: {counts[-1]}\"\n",
    "\n",
    "plt.pie(sorted(counts), \n",
    "        labels=[lab for _, lab in sorted(zip(counts, labels))])\n",
    "plt.title(f\"Most common ICA flavors\")\n",
    "plt.show()\n",
    "\"Most common ICA methods.\""
   ]
  },
  {
   "cell_type": "code",
   "execution_count": null,
   "id": "d133e114",
   "metadata": {},
   "outputs": [],
   "source": []
  },
  {
   "attachments": {},
   "cell_type": "markdown",
   "id": "efb1cb86-2306-49bf-a1dd-4459380caa51",
   "metadata": {},
   "source": [
    "#### Artefact detection and correction methods (total number of publications using them)"
   ]
  },
  {
   "cell_type": "code",
   "execution_count": 71,
   "id": "5564fbc3-2f3a-48e3-9e54-7a80aed5577d",
   "metadata": {},
   "outputs": [
    {
     "data": {
      "text/html": [
       "<div>\n",
       "<style scoped>\n",
       "    .dataframe tbody tr th:only-of-type {\n",
       "        vertical-align: middle;\n",
       "    }\n",
       "\n",
       "    .dataframe tbody tr th {\n",
       "        vertical-align: top;\n",
       "    }\n",
       "\n",
       "    .dataframe thead th {\n",
       "        text-align: right;\n",
       "    }\n",
       "</style>\n",
       "<table border=\"1\" class=\"dataframe\">\n",
       "  <thead>\n",
       "    <tr style=\"text-align: right;\">\n",
       "      <th></th>\n",
       "      <th>total</th>\n",
       "    </tr>\n",
       "  </thead>\n",
       "  <tbody>\n",
       "    <tr>\n",
       "      <th>Linear Regression</th>\n",
       "      <td>3</td>\n",
       "    </tr>\n",
       "    <tr>\n",
       "      <th>DA</th>\n",
       "      <td>3</td>\n",
       "    </tr>\n",
       "    <tr>\n",
       "      <th>SVM</th>\n",
       "      <td>4</td>\n",
       "    </tr>\n",
       "    <tr>\n",
       "      <th>Spatial sph. spline</th>\n",
       "      <td>4</td>\n",
       "    </tr>\n",
       "    <tr>\n",
       "      <th>Other</th>\n",
       "      <td>23</td>\n",
       "    </tr>\n",
       "  </tbody>\n",
       "</table>\n",
       "</div>"
      ],
      "text/plain": [
       "                     total\n",
       "Linear Regression        3\n",
       "DA                       3\n",
       "SVM                      4\n",
       "Spatial sph. spline      4\n",
       "Other                   23"
      ]
     },
     "execution_count": 71,
     "metadata": {},
     "output_type": "execute_result"
    }
   ],
   "source": [
    "distr = (pipelines_annotated_df.groupby(\"Reference\").agg(\"count\")[\n",
    "    ['Linear Regression', 'DA', 'SVM', 'Spatial sph. spline', 'GMM', 'Other.2', 'Autoencoder', 'GAN', 'Other.3']\n",
    "        ]>0).sum(axis=0)\n",
    "distr[\"Other\"] = distr[\"Other.2\"] + distr[\"Other.3\"]\n",
    "# distr[\"CSP\"] = distr[\"CSP.1\"]\n",
    "\n",
    "distr[\"Other\"] += distr[\"GMM\"]\n",
    "distr[\"Other\"] += distr[\"Autoencoder\"]\n",
    "distr[\"Other\"] += distr[\"GAN\"]\n",
    "[distr.pop(key) for key in distr.keys() if key in ['GMM', 'Autoencoder', 'GAN', 'Other.2', 'Other.3']]\n",
    "\n",
    "# store in df_decomp\n",
    "df_decomp = pd.DataFrame(data=distr, columns=[\"total\"])\n",
    "df_decomp.head()"
   ]
  },
  {
   "cell_type": "code",
   "execution_count": 72,
   "id": "c132af61-e702-4edd-9ff6-58345e49307a",
   "metadata": {},
   "outputs": [],
   "source": [
    "colors = {\n",
    "    'Linear Regression': \"C1\",\n",
    "     'SVM': \"C2\",\n",
    "     'Spatial sph. spline': \"C3\",\n",
    "     'CSP': \"C4\",\n",
    "     'DA': \"C5\",\n",
    "     'Other': \"C6\",\n",
    "}"
   ]
  },
  {
   "cell_type": "code",
   "execution_count": 73,
   "id": "b2a54f0a-f3d8-4801-8ae0-6ab5feb88bfe",
   "metadata": {
    "tags": []
   },
   "outputs": [
    {
     "data": {
      "image/png": "[encoded data removed]",
      "text/plain": [
       "<Figure size 432x288 with 1 Axes>"
      ]
     },
     "metadata": {},
     "output_type": "display_data"
    },
    {
     "data": {
      "text/plain": [
       "'Number of publications pipelines with selected artifact methods, methods occuring only in one publications are ignored.'"
      ]
     },
     "execution_count": 73,
     "metadata": {},
     "output_type": "execute_result"
    }
   ],
   "source": [
    "labels = [f\"{p}: {v}\" for p,v in distr.items()]\n",
    "plt.pie(distr, labels=labels, colors=[colors[lab.split(\":\")[0]] for lab in labels])\n",
    "plt.title(f\"Most common artifact detection\\nmethods by number of papers\")\n",
    "plt.show()\n",
    "\"Number of publications pipelines with selected artifact methods, methods occuring only in one publications are ignored.\""
   ]
  },
  {
   "attachments": {},
   "cell_type": "markdown",
   "id": "b4f5ca1b-1628-4bf8-ac2c-b6d11c2fe8a8",
   "metadata": {},
   "source": [
    "#### Artefact detection and correction methods (proposed number of publications using them)"
   ]
  },
  {
   "cell_type": "code",
   "execution_count": 74,
   "id": "ae599a42-2d0f-4d32-9195-4e12c93f5088",
   "metadata": {},
   "outputs": [
    {
     "data": {
      "text/html": [
       "<div>\n",
       "<style scoped>\n",
       "    .dataframe tbody tr th:only-of-type {\n",
       "        vertical-align: middle;\n",
       "    }\n",
       "\n",
       "    .dataframe tbody tr th {\n",
       "        vertical-align: top;\n",
       "    }\n",
       "\n",
       "    .dataframe thead th {\n",
       "        text-align: right;\n",
       "    }\n",
       "</style>\n",
       "<table border=\"1\" class=\"dataframe\">\n",
       "  <thead>\n",
       "    <tr style=\"text-align: right;\">\n",
       "      <th></th>\n",
       "      <th>total</th>\n",
       "      <th>proposed</th>\n",
       "    </tr>\n",
       "  </thead>\n",
       "  <tbody>\n",
       "    <tr>\n",
       "      <th>Linear Regression</th>\n",
       "      <td>3</td>\n",
       "      <td>2</td>\n",
       "    </tr>\n",
       "    <tr>\n",
       "      <th>DA</th>\n",
       "      <td>3</td>\n",
       "      <td>1</td>\n",
       "    </tr>\n",
       "    <tr>\n",
       "      <th>SVM</th>\n",
       "      <td>4</td>\n",
       "      <td>3</td>\n",
       "    </tr>\n",
       "    <tr>\n",
       "      <th>Spatial sph. spline</th>\n",
       "      <td>4</td>\n",
       "      <td>3</td>\n",
       "    </tr>\n",
       "    <tr>\n",
       "      <th>Other</th>\n",
       "      <td>23</td>\n",
       "      <td>19</td>\n",
       "    </tr>\n",
       "  </tbody>\n",
       "</table>\n",
       "</div>"
      ],
      "text/plain": [
       "                     total  proposed\n",
       "Linear Regression        3         2\n",
       "DA                       3         1\n",
       "SVM                      4         3\n",
       "Spatial sph. spline      4         3\n",
       "Other                   23        19"
      ]
     },
     "execution_count": 74,
     "metadata": {},
     "output_type": "execute_result"
    }
   ],
   "source": [
    "distr = (pipelines_annotated_df[pipelines_annotated_df[\"is new\"] > 0].groupby(\"Reference\").agg(\"count\")[\n",
    "    ['Linear Regression', 'DA', 'SVM', 'Spatial sph. spline', 'GMM', 'Other.2', 'Autoencoder', 'GAN', 'Other.3']\n",
    "        ]>0).sum(axis=0)\n",
    "distr[\"Other\"] = distr[\"Other.2\"] + distr[\"Other.3\"]\n",
    "# distr[\"CSP\"] = distr[\"CSP.1\"]\n",
    "\n",
    "distr[\"Other\"] += distr[\"GMM\"]\n",
    "distr[\"Other\"] += distr[\"Autoencoder\"]\n",
    "distr[\"Other\"] += distr[\"GAN\"]\n",
    "[distr.pop(key) for key in distr.keys() if key in ['GMM', 'Autoencoder', 'GAN', 'CSP.1', 'Other.2', 'Other.3']]\n",
    "\n",
    "# store in df_decomp\n",
    "df_decomp[\"proposed\"] = distr\n",
    "df_decomp.head()"
   ]
  },
  {
   "attachments": {},
   "cell_type": "markdown",
   "id": "51a8c185",
   "metadata": {},
   "source": [
    "#### Artefact detection and correction methods (number of publications since 2020 using them)"
   ]
  },
  {
   "cell_type": "code",
   "execution_count": 75,
   "id": "2000b7f6",
   "metadata": {},
   "outputs": [
    {
     "data": {
      "text/html": [
       "<div>\n",
       "<style scoped>\n",
       "    .dataframe tbody tr th:only-of-type {\n",
       "        vertical-align: middle;\n",
       "    }\n",
       "\n",
       "    .dataframe tbody tr th {\n",
       "        vertical-align: top;\n",
       "    }\n",
       "\n",
       "    .dataframe thead th {\n",
       "        text-align: right;\n",
       "    }\n",
       "</style>\n",
       "<table border=\"1\" class=\"dataframe\">\n",
       "  <thead>\n",
       "    <tr style=\"text-align: right;\">\n",
       "      <th></th>\n",
       "      <th>total</th>\n",
       "      <th>proposed</th>\n",
       "      <th>since 2020</th>\n",
       "    </tr>\n",
       "  </thead>\n",
       "  <tbody>\n",
       "    <tr>\n",
       "      <th>Linear Regression</th>\n",
       "      <td>3</td>\n",
       "      <td>2</td>\n",
       "      <td>1</td>\n",
       "    </tr>\n",
       "    <tr>\n",
       "      <th>DA</th>\n",
       "      <td>3</td>\n",
       "      <td>1</td>\n",
       "      <td>0</td>\n",
       "    </tr>\n",
       "    <tr>\n",
       "      <th>SVM</th>\n",
       "      <td>4</td>\n",
       "      <td>3</td>\n",
       "      <td>2</td>\n",
       "    </tr>\n",
       "    <tr>\n",
       "      <th>Spatial sph. spline</th>\n",
       "      <td>4</td>\n",
       "      <td>3</td>\n",
       "      <td>3</td>\n",
       "    </tr>\n",
       "    <tr>\n",
       "      <th>Other</th>\n",
       "      <td>23</td>\n",
       "      <td>19</td>\n",
       "      <td>9</td>\n",
       "    </tr>\n",
       "  </tbody>\n",
       "</table>\n",
       "</div>"
      ],
      "text/plain": [
       "                     total  proposed  since 2020\n",
       "Linear Regression        3         2           1\n",
       "DA                       3         1           0\n",
       "SVM                      4         3           2\n",
       "Spatial sph. spline      4         3           3\n",
       "Other                   23        19           9"
      ]
     },
     "execution_count": 75,
     "metadata": {},
     "output_type": "execute_result"
    }
   ],
   "source": [
    "distr = (pipelines_annotated_df[pipelines_annotated_df[\"year\"] >= 2020].groupby(\"Reference\").agg(\"count\")[\n",
    "    ['Linear Regression', 'DA', 'SVM', 'Spatial sph. spline', 'GMM', 'Other.2', 'Autoencoder', 'GAN', 'Other.3']\n",
    "        ]>0).sum(axis=0)\n",
    "distr[\"Other\"] = distr[\"Other.2\"] + distr[\"Other.3\"]\n",
    "# distr[\"CSP\"] = distr[\"CSP.1\"]\n",
    "\n",
    "distr[\"Other\"] += distr[\"GMM\"]\n",
    "distr[\"Other\"] += distr[\"Autoencoder\"]\n",
    "distr[\"Other\"] += distr[\"GAN\"]\n",
    "[distr.pop(key) for key in distr.keys() if key in ['GMM', 'Autoencoder', 'GAN', 'CSP.1', 'Other.2', 'Other.3']]\n",
    "\n",
    "# store in df_decomp\n",
    "df_decomp[\"since 2020\"] = distr\n",
    "df_decomp.head()"
   ]
  },
  {
   "attachments": {},
   "cell_type": "markdown",
   "id": "4b70e844",
   "metadata": {},
   "source": [
    "#### Artefact detection and correction methods (number publications of fit pipelines using them)"
   ]
  },
  {
   "cell_type": "code",
   "execution_count": 76,
   "id": "db7cedfe",
   "metadata": {},
   "outputs": [
    {
     "data": {
      "text/html": [
       "<div>\n",
       "<style scoped>\n",
       "    .dataframe tbody tr th:only-of-type {\n",
       "        vertical-align: middle;\n",
       "    }\n",
       "\n",
       "    .dataframe tbody tr th {\n",
       "        vertical-align: top;\n",
       "    }\n",
       "\n",
       "    .dataframe thead th {\n",
       "        text-align: right;\n",
       "    }\n",
       "</style>\n",
       "<table border=\"1\" class=\"dataframe\">\n",
       "  <thead>\n",
       "    <tr style=\"text-align: right;\">\n",
       "      <th></th>\n",
       "      <th>total</th>\n",
       "      <th>proposed</th>\n",
       "      <th>since 2020</th>\n",
       "      <th>fit</th>\n",
       "    </tr>\n",
       "  </thead>\n",
       "  <tbody>\n",
       "    <tr>\n",
       "      <th>Linear Regression</th>\n",
       "      <td>3</td>\n",
       "      <td>2</td>\n",
       "      <td>1</td>\n",
       "      <td>1</td>\n",
       "    </tr>\n",
       "    <tr>\n",
       "      <th>DA</th>\n",
       "      <td>3</td>\n",
       "      <td>1</td>\n",
       "      <td>0</td>\n",
       "      <td>2</td>\n",
       "    </tr>\n",
       "    <tr>\n",
       "      <th>SVM</th>\n",
       "      <td>4</td>\n",
       "      <td>3</td>\n",
       "      <td>2</td>\n",
       "      <td>2</td>\n",
       "    </tr>\n",
       "    <tr>\n",
       "      <th>Spatial sph. spline</th>\n",
       "      <td>4</td>\n",
       "      <td>3</td>\n",
       "      <td>3</td>\n",
       "      <td>0</td>\n",
       "    </tr>\n",
       "    <tr>\n",
       "      <th>Other</th>\n",
       "      <td>23</td>\n",
       "      <td>19</td>\n",
       "      <td>9</td>\n",
       "      <td>13</td>\n",
       "    </tr>\n",
       "  </tbody>\n",
       "</table>\n",
       "</div>"
      ],
      "text/plain": [
       "                     total  proposed  since 2020  fit\n",
       "Linear Regression        3         2           1    1\n",
       "DA                       3         1           0    2\n",
       "SVM                      4         3           2    2\n",
       "Spatial sph. spline      4         3           3    0\n",
       "Other                   23        19           9   13"
      ]
     },
     "execution_count": 76,
     "metadata": {},
     "output_type": "execute_result"
    }
   ],
   "source": [
    "distr = (pipelines_annotated_df[pipelines_annotated_df[\"fit score (0-2)\"] == 2].groupby(\"Reference\").agg(\"count\")[\n",
    "    ['Linear Regression', 'DA', 'SVM', 'Spatial sph. spline', 'GMM', 'Other.2', 'Autoencoder', 'GAN', 'Other.3']\n",
    "        ]>0).sum(axis=0)\n",
    "distr[\"Other\"] = distr[\"Other.2\"] + distr[\"Other.3\"]\n",
    "# distr[\"CSP\"] = distr[\"CSP.1\"]\n",
    "\n",
    "distr[\"Other\"] += distr[\"GMM\"]\n",
    "distr[\"Other\"] += distr[\"Autoencoder\"]\n",
    "distr[\"Other\"] += distr[\"GAN\"]\n",
    "[distr.pop(key) for key in distr.keys() if key in ['GMM', 'Autoencoder', 'GAN', 'CSP.1', 'Other.2', 'Other.3']]\n",
    "\n",
    "# store in df_decomp\n",
    "df_decomp[\"fit\"] = distr\n",
    "df_decomp.head()"
   ]
  },
  {
   "attachments": {},
   "cell_type": "markdown",
   "id": "f03c7b19",
   "metadata": {},
   "source": [
    "#### Artefact detection and correction methods (number publications of online pipelines using them)"
   ]
  },
  {
   "cell_type": "code",
   "execution_count": 77,
   "id": "ae5b4f86",
   "metadata": {},
   "outputs": [
    {
     "data": {
      "text/html": [
       "<div>\n",
       "<style scoped>\n",
       "    .dataframe tbody tr th:only-of-type {\n",
       "        vertical-align: middle;\n",
       "    }\n",
       "\n",
       "    .dataframe tbody tr th {\n",
       "        vertical-align: top;\n",
       "    }\n",
       "\n",
       "    .dataframe thead th {\n",
       "        text-align: right;\n",
       "    }\n",
       "</style>\n",
       "<table border=\"1\" class=\"dataframe\">\n",
       "  <thead>\n",
       "    <tr style=\"text-align: right;\">\n",
       "      <th></th>\n",
       "      <th>total</th>\n",
       "      <th>proposed</th>\n",
       "      <th>since 2020</th>\n",
       "      <th>fit</th>\n",
       "      <th>online</th>\n",
       "    </tr>\n",
       "  </thead>\n",
       "  <tbody>\n",
       "    <tr>\n",
       "      <th>Linear Regression</th>\n",
       "      <td>3</td>\n",
       "      <td>2</td>\n",
       "      <td>1</td>\n",
       "      <td>1</td>\n",
       "      <td>0</td>\n",
       "    </tr>\n",
       "    <tr>\n",
       "      <th>DA</th>\n",
       "      <td>3</td>\n",
       "      <td>1</td>\n",
       "      <td>0</td>\n",
       "      <td>2</td>\n",
       "      <td>3</td>\n",
       "    </tr>\n",
       "    <tr>\n",
       "      <th>SVM</th>\n",
       "      <td>4</td>\n",
       "      <td>3</td>\n",
       "      <td>2</td>\n",
       "      <td>2</td>\n",
       "      <td>1</td>\n",
       "    </tr>\n",
       "    <tr>\n",
       "      <th>Spatial sph. spline</th>\n",
       "      <td>4</td>\n",
       "      <td>3</td>\n",
       "      <td>3</td>\n",
       "      <td>0</td>\n",
       "      <td>1</td>\n",
       "    </tr>\n",
       "    <tr>\n",
       "      <th>Other</th>\n",
       "      <td>23</td>\n",
       "      <td>19</td>\n",
       "      <td>9</td>\n",
       "      <td>13</td>\n",
       "      <td>5</td>\n",
       "    </tr>\n",
       "  </tbody>\n",
       "</table>\n",
       "</div>"
      ],
      "text/plain": [
       "                     total  proposed  since 2020  fit  online\n",
       "Linear Regression        3         2           1    1       0\n",
       "DA                       3         1           0    2       3\n",
       "SVM                      4         3           2    2       1\n",
       "Spatial sph. spline      4         3           3    0       1\n",
       "Other                   23        19           9   13       5"
      ]
     },
     "execution_count": 77,
     "metadata": {},
     "output_type": "execute_result"
    }
   ],
   "source": [
    "distr = (pipelines_annotated_df[pipelines_annotated_df[\"online score (0-2)\"] == 2].groupby(\"Reference\").agg(\"count\")[\n",
    "    ['Linear Regression', 'DA', 'SVM', 'Spatial sph. spline', 'GMM', 'Other.2', 'Autoencoder', 'GAN', 'Other.3']\n",
    "        ]>0).sum(axis=0)\n",
    "distr[\"Other\"] = distr[\"Other.2\"] + distr[\"Other.3\"]\n",
    "# distr[\"CSP\"] = distr[\"CSP.1\"]\n",
    "\n",
    "distr[\"Other\"] += distr[\"GMM\"]\n",
    "distr[\"Other\"] += distr[\"Autoencoder\"]\n",
    "distr[\"Other\"] += distr[\"GAN\"]\n",
    "[distr.pop(key) for key in distr.keys() if key in ['GMM', 'Autoencoder', 'GAN', 'CSP.1', 'Other.2', 'Other.3']]\n",
    "\n",
    "# store in df_decomp\n",
    "df_decomp[\"online\"] = distr\n",
    "df_decomp.head()"
   ]
  },
  {
   "cell_type": "markdown",
   "id": "eea886bf",
   "metadata": {},
   "source": [
    "### Plot the stacked barplot"
   ]
  },
  {
   "cell_type": "code",
   "execution_count": 78,
   "id": "8eed9bd5",
   "metadata": {},
   "outputs": [],
   "source": [
    "# calculate the p-values to all cases\n",
    "p_values_proposed = bootstrap_test_multiple(df_decomp[\"total\"], df_decomp[\"proposed\"], alternative=\"greater\", n_resamples=10_000)\n",
    "p_values_2020 = bootstrap_test_multiple(df_decomp[\"total\"], df_decomp[\"since 2020\"], alternative=\"greater\", n_resamples=10_000)\n",
    "p_values_fit = bootstrap_test_multiple(df_decomp[\"total\"], df_decomp[\"fit\"], alternative=\"greater\", n_resamples=10_000)\n",
    "p_values_online = bootstrap_test_multiple(df_decomp[\"total\"], df_decomp[\"online\"], alternative=\"greater\", n_resamples=10_000)\n",
    "\n",
    "p_values_proposed_less = bootstrap_test_multiple(df_decomp[\"total\"], df_decomp[\"proposed\"], alternative=\"less\", n_resamples=10_000)\n",
    "p_values_2020_less = bootstrap_test_multiple(df_decomp[\"total\"], df_decomp[\"since 2020\"], alternative=\"less\", n_resamples=10_000)\n",
    "p_values_fit_less = bootstrap_test_multiple(df_decomp[\"total\"], df_decomp[\"fit\"], alternative=\"less\", n_resamples=10_000)\n",
    "p_values_online_less = bootstrap_test_multiple(df_decomp[\"total\"], df_decomp[\"online\"], alternative=\"less\", n_resamples=10_000)"
   ]
  },
  {
   "cell_type": "code",
   "execution_count": 79,
   "id": "3de59785",
   "metadata": {},
   "outputs": [],
   "source": [
    "# annotate the significances\n",
    "ALPHA = 0.05\n",
    "sig_char = \">\"\n",
    "sig_neg_char = \"<\"\n",
    "insig_char = \" \"\n",
    "\n",
    "significances_proposed = [sig_neg_char if p_values_proposed_less[idx] <= ALPHA else char \n",
    "                          for idx, char in enumerate([sig_char if p_values_proposed[idx] <= ALPHA else insig_char for idx in range(len(df_decomp))])]\n",
    "significances_2020 = [sig_neg_char if p_values_2020_less[idx] <= ALPHA else char \n",
    "                      for idx, char in enumerate([sig_char if p_values_2020[idx] <= ALPHA else insig_char for idx in range(len(df_decomp))])]\n",
    "significances_fit = [sig_neg_char if p_values_fit_less[idx] <= ALPHA else char \n",
    "                     for idx, char in enumerate([sig_char if p_values_fit[idx] <= ALPHA else insig_char for idx in range(len(df_decomp))])]\n",
    "significances_online = [sig_neg_char if p_values_online_less[idx] <= ALPHA else char \n",
    "                        for idx, char in enumerate([sig_char if p_values_online[idx] <= ALPHA else insig_char for idx in range(len(df_decomp))])]\n"
   ]
  },
  {
   "cell_type": "code",
   "execution_count": 80,
   "id": "7c59a88b",
   "metadata": {},
   "outputs": [
    {
     "data": {
      "image/png": "[encoded data removed]",
      "text/plain": [
       "<Figure size 432x432 with 1 Axes>"
      ]
     },
     "metadata": {
      "needs_background": "light"
     },
     "output_type": "display_data"
    }
   ],
   "source": [
    "# Plot the results\n",
    "fig = df_decomp.T.plot(kind='bar', stacked=True, figsize=(6,6))\n",
    "\n",
    "# Print the significance levels\n",
    "cumsum = -0.4\n",
    "for idx, val in enumerate(df_decomp[\"proposed\"]):\n",
    "    cumsum += val/2\n",
    "    plt.text(0.9725, cumsum, significances_proposed[idx], fontweight=\"bold\")\n",
    "    cumsum += val/2\n",
    "cumsum = -0.85\n",
    "for idx, val in enumerate(df_decomp[\"since 2020\"]):\n",
    "    cumsum += val/2\n",
    "    plt.text(1.9725, cumsum, significances_2020[idx], fontweight=\"bold\")\n",
    "    cumsum += val/2\n",
    "cumsum = -0.4\n",
    "for idx, val in enumerate(df_decomp[\"fit\"]):\n",
    "    if val > 0:\n",
    "        cumsum += val/2\n",
    "        plt.text(2.9725, cumsum, significances_fit[idx], fontweight=\"bold\")\n",
    "        cumsum += val/2\n",
    "cumsum = -0.4\n",
    "for idx, val in enumerate(df_decomp[\"online\"]):\n",
    "    if val > 0:\n",
    "        cumsum += val/2\n",
    "        plt.text(3.9725, cumsum, significances_online[idx], fontweight=\"bold\")\n",
    "        cumsum += val/2\n",
    "\n",
    "# plot layout\n",
    "plt.title(\"Number of Artifact Detection Methods\")\n",
    "plt.ylabel(\"Number of publications\")\n",
    "plt.xticks(rotation=0)\n",
    "plt.legend(labels, loc=\"upper right\")\n",
    "plt.show()"
   ]
  },
  {
   "cell_type": "code",
   "execution_count": null,
   "id": "c4d5afed-91d0-4e6f-b3f6-5f70a79bdcda",
   "metadata": {},
   "outputs": [],
   "source": []
  },
  {
   "cell_type": "markdown",
   "id": "f96ae714-8366-4c81-b79b-67b4cbb73ccc",
   "metadata": {},
   "source": [
    "#### Special methods (total number of publications using them)"
   ]
  },
  {
   "cell_type": "code",
   "execution_count": 81,
   "id": "bd527cff-3336-4c78-8474-a5e6e4dcad1e",
   "metadata": {},
   "outputs": [
    {
     "data": {
      "text/html": [
       "<div>\n",
       "<style scoped>\n",
       "    .dataframe tbody tr th:only-of-type {\n",
       "        vertical-align: middle;\n",
       "    }\n",
       "\n",
       "    .dataframe tbody tr th {\n",
       "        vertical-align: top;\n",
       "    }\n",
       "\n",
       "    .dataframe thead th {\n",
       "        text-align: right;\n",
       "    }\n",
       "</style>\n",
       "<table border=\"1\" class=\"dataframe\">\n",
       "  <thead>\n",
       "    <tr style=\"text-align: right;\">\n",
       "      <th></th>\n",
       "      <th>total</th>\n",
       "    </tr>\n",
       "  </thead>\n",
       "  <tbody>\n",
       "    <tr>\n",
       "      <th>MARA</th>\n",
       "      <td>4</td>\n",
       "    </tr>\n",
       "    <tr>\n",
       "      <th>FASTER</th>\n",
       "      <td>8</td>\n",
       "    </tr>\n",
       "    <tr>\n",
       "      <th>ADJUST</th>\n",
       "      <td>8</td>\n",
       "    </tr>\n",
       "    <tr>\n",
       "      <th>Other</th>\n",
       "      <td>14</td>\n",
       "    </tr>\n",
       "  </tbody>\n",
       "</table>\n",
       "</div>"
      ],
      "text/plain": [
       "        total\n",
       "MARA        4\n",
       "FASTER      8\n",
       "ADJUST      8\n",
       "Other      14"
      ]
     },
     "execution_count": 81,
     "metadata": {},
     "output_type": "execute_result"
    }
   ],
   "source": [
    "distr = (pipelines_annotated_df.groupby(\"Reference\").agg(\"count\")[\n",
    "    ['MARA', 'DSS', 'DFA', 'FASTER', 'ADJUST', 'HAPPE', 'ERASE', 'Other.4']\n",
    "        ]>0).sum(axis=0)\n",
    "distr[\"Other\"] = distr[\"Other.4\"]\n",
    "\n",
    "distr[\"Other\"] += distr[\"DSS\"]\n",
    "distr[\"Other\"] += distr[\"DFA\"]\n",
    "distr[\"Other\"] += distr[\"HAPPE\"]\n",
    "distr[\"Other\"] += distr[\"ERASE\"]\n",
    "[distr.pop(key) for key in distr.keys() if key in ['DSS', 'DFA', 'HAPPE', 'ERASE', 'Other.4']]\n",
    "\n",
    "# store in df_decomp\n",
    "df_decomp = pd.DataFrame(data=distr, columns=[\"total\"])\n",
    "df_decomp.head()"
   ]
  },
  {
   "cell_type": "code",
   "execution_count": 82,
   "id": "d4598d79-96f1-480a-8d5e-6cd054135c5a",
   "metadata": {
    "tags": []
   },
   "outputs": [
    {
     "data": {
      "image/png": "[encoded data removed]",
      "text/plain": [
       "<Figure size 432x288 with 1 Axes>"
      ]
     },
     "metadata": {},
     "output_type": "display_data"
    },
    {
     "data": {
      "text/plain": [
       "'Number of publications pipelines with selected special methods an subpipelines, methods occuring only in one publications are ignored.'"
      ]
     },
     "execution_count": 82,
     "metadata": {},
     "output_type": "execute_result"
    }
   ],
   "source": [
    "labels = [f\"{p}: {v}\" for p,v in distr.items()]\n",
    "plt.pie(distr, labels=labels)\n",
    "plt.title(f\"Most common special EEG methods and subpipelines\")\n",
    "plt.show()\n",
    "\"Number of publications pipelines with selected special methods an subpipelines, methods occuring only in one publications are ignored.\""
   ]
  },
  {
   "cell_type": "markdown",
   "id": "a9bd6043",
   "metadata": {},
   "source": [
    "#### Artefact detection and correction methods (proposed number of publications using them)"
   ]
  },
  {
   "cell_type": "code",
   "execution_count": 83,
   "id": "4e928bbe",
   "metadata": {},
   "outputs": [
    {
     "data": {
      "text/html": [
       "<div>\n",
       "<style scoped>\n",
       "    .dataframe tbody tr th:only-of-type {\n",
       "        vertical-align: middle;\n",
       "    }\n",
       "\n",
       "    .dataframe tbody tr th {\n",
       "        vertical-align: top;\n",
       "    }\n",
       "\n",
       "    .dataframe thead th {\n",
       "        text-align: right;\n",
       "    }\n",
       "</style>\n",
       "<table border=\"1\" class=\"dataframe\">\n",
       "  <thead>\n",
       "    <tr style=\"text-align: right;\">\n",
       "      <th></th>\n",
       "      <th>total</th>\n",
       "      <th>proposed</th>\n",
       "    </tr>\n",
       "  </thead>\n",
       "  <tbody>\n",
       "    <tr>\n",
       "      <th>MARA</th>\n",
       "      <td>4</td>\n",
       "      <td>2</td>\n",
       "    </tr>\n",
       "    <tr>\n",
       "      <th>FASTER</th>\n",
       "      <td>8</td>\n",
       "      <td>3</td>\n",
       "    </tr>\n",
       "    <tr>\n",
       "      <th>ADJUST</th>\n",
       "      <td>8</td>\n",
       "      <td>2</td>\n",
       "    </tr>\n",
       "    <tr>\n",
       "      <th>Other</th>\n",
       "      <td>14</td>\n",
       "      <td>10</td>\n",
       "    </tr>\n",
       "  </tbody>\n",
       "</table>\n",
       "</div>"
      ],
      "text/plain": [
       "        total  proposed\n",
       "MARA        4         2\n",
       "FASTER      8         3\n",
       "ADJUST      8         2\n",
       "Other      14        10"
      ]
     },
     "execution_count": 83,
     "metadata": {},
     "output_type": "execute_result"
    }
   ],
   "source": [
    "distr = (pipelines_annotated_df[pipelines_annotated_df[\"is new\"] > 0].groupby(\"Reference\").agg(\"count\")[\n",
    "    ['MARA', 'DSS', 'DFA', 'FASTER', 'ADJUST', 'HAPPE', 'ERASE', 'Other.4']\n",
    "        ]>0).sum(axis=0)\n",
    "distr[\"Other\"] = distr[\"Other.4\"]\n",
    "\n",
    "distr[\"Other\"] += distr[\"DSS\"]\n",
    "distr[\"Other\"] += distr[\"DFA\"]\n",
    "distr[\"Other\"] += distr[\"HAPPE\"]\n",
    "distr[\"Other\"] += distr[\"ERASE\"]\n",
    "[distr.pop(key) for key in distr.keys() if key in ['DSS', 'DFA', 'HAPPE', 'ERASE', 'Other.4']]\n",
    "\n",
    "# store in df_decomp\n",
    "df_decomp[\"proposed\"] = distr\n",
    "df_decomp.head()"
   ]
  },
  {
   "cell_type": "markdown",
   "id": "ca2633ea",
   "metadata": {},
   "source": [
    "#### Artefact detection and correction methods (number of publications since 2020 using them)"
   ]
  },
  {
   "cell_type": "code",
   "execution_count": 84,
   "id": "eeab1f31",
   "metadata": {},
   "outputs": [
    {
     "data": {
      "text/html": [
       "<div>\n",
       "<style scoped>\n",
       "    .dataframe tbody tr th:only-of-type {\n",
       "        vertical-align: middle;\n",
       "    }\n",
       "\n",
       "    .dataframe tbody tr th {\n",
       "        vertical-align: top;\n",
       "    }\n",
       "\n",
       "    .dataframe thead th {\n",
       "        text-align: right;\n",
       "    }\n",
       "</style>\n",
       "<table border=\"1\" class=\"dataframe\">\n",
       "  <thead>\n",
       "    <tr style=\"text-align: right;\">\n",
       "      <th></th>\n",
       "      <th>total</th>\n",
       "      <th>proposed</th>\n",
       "      <th>since 2020</th>\n",
       "    </tr>\n",
       "  </thead>\n",
       "  <tbody>\n",
       "    <tr>\n",
       "      <th>MARA</th>\n",
       "      <td>4</td>\n",
       "      <td>2</td>\n",
       "      <td>2</td>\n",
       "    </tr>\n",
       "    <tr>\n",
       "      <th>FASTER</th>\n",
       "      <td>8</td>\n",
       "      <td>3</td>\n",
       "      <td>3</td>\n",
       "    </tr>\n",
       "    <tr>\n",
       "      <th>ADJUST</th>\n",
       "      <td>8</td>\n",
       "      <td>2</td>\n",
       "      <td>4</td>\n",
       "    </tr>\n",
       "    <tr>\n",
       "      <th>Other</th>\n",
       "      <td>14</td>\n",
       "      <td>10</td>\n",
       "      <td>6</td>\n",
       "    </tr>\n",
       "  </tbody>\n",
       "</table>\n",
       "</div>"
      ],
      "text/plain": [
       "        total  proposed  since 2020\n",
       "MARA        4         2           2\n",
       "FASTER      8         3           3\n",
       "ADJUST      8         2           4\n",
       "Other      14        10           6"
      ]
     },
     "execution_count": 84,
     "metadata": {},
     "output_type": "execute_result"
    }
   ],
   "source": [
    "distr = (pipelines_annotated_df[pipelines_annotated_df[\"year\"] >= 2020].groupby(\"Reference\").agg(\"count\")[\n",
    "    ['MARA', 'DSS', 'DFA', 'FASTER', 'ADJUST', 'HAPPE', 'ERASE', 'Other.4']\n",
    "        ]>0).sum(axis=0)\n",
    "distr[\"Other\"] = distr[\"Other.4\"]\n",
    "\n",
    "distr[\"Other\"] += distr[\"DSS\"]\n",
    "distr[\"Other\"] += distr[\"DFA\"]\n",
    "distr[\"Other\"] += distr[\"HAPPE\"]\n",
    "distr[\"Other\"] += distr[\"ERASE\"]\n",
    "[distr.pop(key) for key in distr.keys() if key in ['DSS', 'DFA', 'HAPPE', 'ERASE', 'Other.4']]\n",
    "\n",
    "# store in df_decomp\n",
    "df_decomp[\"since 2020\"] = distr\n",
    "df_decomp.head()"
   ]
  },
  {
   "cell_type": "markdown",
   "id": "3ba6ed52",
   "metadata": {},
   "source": [
    "#### Artefact detection and correction methods (number publications of fit pipelines using them)"
   ]
  },
  {
   "cell_type": "code",
   "execution_count": 85,
   "id": "09e56c55",
   "metadata": {},
   "outputs": [
    {
     "data": {
      "text/html": [
       "<div>\n",
       "<style scoped>\n",
       "    .dataframe tbody tr th:only-of-type {\n",
       "        vertical-align: middle;\n",
       "    }\n",
       "\n",
       "    .dataframe tbody tr th {\n",
       "        vertical-align: top;\n",
       "    }\n",
       "\n",
       "    .dataframe thead th {\n",
       "        text-align: right;\n",
       "    }\n",
       "</style>\n",
       "<table border=\"1\" class=\"dataframe\">\n",
       "  <thead>\n",
       "    <tr style=\"text-align: right;\">\n",
       "      <th></th>\n",
       "      <th>total</th>\n",
       "      <th>proposed</th>\n",
       "      <th>since 2020</th>\n",
       "      <th>fit</th>\n",
       "    </tr>\n",
       "  </thead>\n",
       "  <tbody>\n",
       "    <tr>\n",
       "      <th>MARA</th>\n",
       "      <td>4</td>\n",
       "      <td>2</td>\n",
       "      <td>2</td>\n",
       "      <td>0</td>\n",
       "    </tr>\n",
       "    <tr>\n",
       "      <th>FASTER</th>\n",
       "      <td>8</td>\n",
       "      <td>3</td>\n",
       "      <td>3</td>\n",
       "      <td>3</td>\n",
       "    </tr>\n",
       "    <tr>\n",
       "      <th>ADJUST</th>\n",
       "      <td>8</td>\n",
       "      <td>2</td>\n",
       "      <td>4</td>\n",
       "      <td>3</td>\n",
       "    </tr>\n",
       "    <tr>\n",
       "      <th>Other</th>\n",
       "      <td>14</td>\n",
       "      <td>10</td>\n",
       "      <td>6</td>\n",
       "      <td>6</td>\n",
       "    </tr>\n",
       "  </tbody>\n",
       "</table>\n",
       "</div>"
      ],
      "text/plain": [
       "        total  proposed  since 2020  fit\n",
       "MARA        4         2           2    0\n",
       "FASTER      8         3           3    3\n",
       "ADJUST      8         2           4    3\n",
       "Other      14        10           6    6"
      ]
     },
     "execution_count": 85,
     "metadata": {},
     "output_type": "execute_result"
    }
   ],
   "source": [
    "distr = (pipelines_annotated_df[pipelines_annotated_df[\"fit score (0-2)\"] == 2].groupby(\"Reference\").agg(\"count\")[\n",
    "    ['MARA', 'DSS', 'DFA', 'FASTER', 'ADJUST', 'HAPPE', 'ERASE', 'Other.4']\n",
    "        ]>0).sum(axis=0)\n",
    "distr[\"Other\"] = distr[\"Other.4\"]\n",
    "\n",
    "distr[\"Other\"] += distr[\"DSS\"]\n",
    "distr[\"Other\"] += distr[\"DFA\"]\n",
    "distr[\"Other\"] += distr[\"HAPPE\"]\n",
    "distr[\"Other\"] += distr[\"ERASE\"]\n",
    "[distr.pop(key) for key in distr.keys() if key in ['DSS', 'DFA', 'HAPPE', 'ERASE', 'Other.4']]\n",
    "\n",
    "# store in df_decomp\n",
    "df_decomp[\"fit\"] = distr\n",
    "df_decomp.head()"
   ]
  },
  {
   "cell_type": "markdown",
   "id": "bbb129b8",
   "metadata": {},
   "source": [
    "#### Artefact detection and correction methods (number publications of online pipelines using them)"
   ]
  },
  {
   "cell_type": "code",
   "execution_count": 86,
   "id": "80127458",
   "metadata": {},
   "outputs": [
    {
     "data": {
      "text/html": [
       "<div>\n",
       "<style scoped>\n",
       "    .dataframe tbody tr th:only-of-type {\n",
       "        vertical-align: middle;\n",
       "    }\n",
       "\n",
       "    .dataframe tbody tr th {\n",
       "        vertical-align: top;\n",
       "    }\n",
       "\n",
       "    .dataframe thead th {\n",
       "        text-align: right;\n",
       "    }\n",
       "</style>\n",
       "<table border=\"1\" class=\"dataframe\">\n",
       "  <thead>\n",
       "    <tr style=\"text-align: right;\">\n",
       "      <th></th>\n",
       "      <th>total</th>\n",
       "      <th>proposed</th>\n",
       "      <th>since 2020</th>\n",
       "      <th>fit</th>\n",
       "      <th>online</th>\n",
       "    </tr>\n",
       "  </thead>\n",
       "  <tbody>\n",
       "    <tr>\n",
       "      <th>MARA</th>\n",
       "      <td>4</td>\n",
       "      <td>2</td>\n",
       "      <td>2</td>\n",
       "      <td>0</td>\n",
       "      <td>0</td>\n",
       "    </tr>\n",
       "    <tr>\n",
       "      <th>FASTER</th>\n",
       "      <td>8</td>\n",
       "      <td>3</td>\n",
       "      <td>3</td>\n",
       "      <td>3</td>\n",
       "      <td>2</td>\n",
       "    </tr>\n",
       "    <tr>\n",
       "      <th>ADJUST</th>\n",
       "      <td>8</td>\n",
       "      <td>2</td>\n",
       "      <td>4</td>\n",
       "      <td>3</td>\n",
       "      <td>1</td>\n",
       "    </tr>\n",
       "    <tr>\n",
       "      <th>Other</th>\n",
       "      <td>14</td>\n",
       "      <td>10</td>\n",
       "      <td>6</td>\n",
       "      <td>6</td>\n",
       "      <td>2</td>\n",
       "    </tr>\n",
       "  </tbody>\n",
       "</table>\n",
       "</div>"
      ],
      "text/plain": [
       "        total  proposed  since 2020  fit  online\n",
       "MARA        4         2           2    0       0\n",
       "FASTER      8         3           3    3       2\n",
       "ADJUST      8         2           4    3       1\n",
       "Other      14        10           6    6       2"
      ]
     },
     "execution_count": 86,
     "metadata": {},
     "output_type": "execute_result"
    }
   ],
   "source": [
    "distr = (pipelines_annotated_df[pipelines_annotated_df[\"online score (0-2)\"] == 2].groupby(\"Reference\").agg(\"count\")[\n",
    "    ['MARA', 'DSS', 'DFA', 'FASTER', 'ADJUST', 'HAPPE', 'ERASE', 'Other.4']\n",
    "        ]>0).sum(axis=0)\n",
    "distr[\"Other\"] = distr[\"Other.4\"]\n",
    "\n",
    "distr[\"Other\"] += distr[\"DSS\"]\n",
    "distr[\"Other\"] += distr[\"DFA\"]\n",
    "distr[\"Other\"] += distr[\"HAPPE\"]\n",
    "distr[\"Other\"] += distr[\"ERASE\"]\n",
    "[distr.pop(key) for key in distr.keys() if key in ['DSS', 'DFA', 'HAPPE', 'ERASE', 'Other.4']]\n",
    "\n",
    "# store in df_decomp\n",
    "df_decomp[\"online\"] = distr\n",
    "df_decomp.head()"
   ]
  },
  {
   "cell_type": "markdown",
   "id": "b467727e",
   "metadata": {},
   "source": [
    "### Plot the stacked barplot"
   ]
  },
  {
   "cell_type": "code",
   "execution_count": 87,
   "id": "0d72f1a5",
   "metadata": {},
   "outputs": [],
   "source": [
    "# calculate the p-values to all cases\n",
    "p_values_proposed = bootstrap_test_multiple(df_decomp[\"total\"], df_decomp[\"proposed\"], alternative=\"greater\", n_resamples=10_000)\n",
    "p_values_2020 = bootstrap_test_multiple(df_decomp[\"total\"], df_decomp[\"since 2020\"], alternative=\"greater\", n_resamples=10_000)\n",
    "p_values_fit = bootstrap_test_multiple(df_decomp[\"total\"], df_decomp[\"fit\"], alternative=\"greater\", n_resamples=10_000)\n",
    "p_values_online = bootstrap_test_multiple(df_decomp[\"total\"], df_decomp[\"online\"], alternative=\"greater\", n_resamples=10_000)\n",
    "\n",
    "p_values_proposed_less = bootstrap_test_multiple(df_decomp[\"total\"], df_decomp[\"proposed\"], alternative=\"less\", n_resamples=10_000)\n",
    "p_values_2020_less = bootstrap_test_multiple(df_decomp[\"total\"], df_decomp[\"since 2020\"], alternative=\"less\", n_resamples=10_000)\n",
    "p_values_fit_less = bootstrap_test_multiple(df_decomp[\"total\"], df_decomp[\"fit\"], alternative=\"less\", n_resamples=10_000)\n",
    "p_values_online_less = bootstrap_test_multiple(df_decomp[\"total\"], df_decomp[\"online\"], alternative=\"less\", n_resamples=10_000)"
   ]
  },
  {
   "cell_type": "code",
   "execution_count": 88,
   "id": "53cb830c",
   "metadata": {},
   "outputs": [],
   "source": [
    "# annotate the significances\n",
    "ALPHA = 0.05\n",
    "sig_char = \">\"\n",
    "sig_neg_char = \"<\"\n",
    "insig_char = \" \"\n",
    "\n",
    "significances_proposed = [sig_neg_char if p_values_proposed_less[idx] <= ALPHA else char \n",
    "                          for idx, char in enumerate([sig_char if p_values_proposed[idx] <= ALPHA else insig_char for idx in range(len(df_decomp))])]\n",
    "significances_2020 = [sig_neg_char if p_values_2020_less[idx] <= ALPHA else char \n",
    "                      for idx, char in enumerate([sig_char if p_values_2020[idx] <= ALPHA else insig_char for idx in range(len(df_decomp))])]\n",
    "significances_fit = [sig_neg_char if p_values_fit_less[idx] <= ALPHA else char \n",
    "                     for idx, char in enumerate([sig_char if p_values_fit[idx] <= ALPHA else insig_char for idx in range(len(df_decomp))])]\n",
    "significances_online = [sig_neg_char if p_values_online_less[idx] <= ALPHA else char \n",
    "                        for idx, char in enumerate([sig_char if p_values_online[idx] <= ALPHA else insig_char for idx in range(len(df_decomp))])]\n"
   ]
  },
  {
   "cell_type": "code",
   "execution_count": 89,
   "id": "1d3b839a",
   "metadata": {},
   "outputs": [
    {
     "data": {
      "image/png": "[encoded data removed]",
      "text/plain": [
       "<Figure size 432x360 with 1 Axes>"
      ]
     },
     "metadata": {
      "needs_background": "light"
     },
     "output_type": "display_data"
    }
   ],
   "source": [
    "# Plot the results\n",
    "fig = df_decomp.T.plot(kind='bar', stacked=True, figsize=(6,5))\n",
    "\n",
    "# Print the significance levels\n",
    "cumsum = -0.4\n",
    "for idx, val in enumerate(df_decomp[\"proposed\"]):\n",
    "    cumsum += val/2\n",
    "    plt.text(0.9725, cumsum, significances_proposed[idx], fontweight=\"bold\")\n",
    "    cumsum += val/2\n",
    "cumsum = -0.85\n",
    "for idx, val in enumerate(df_decomp[\"since 2020\"]):\n",
    "    cumsum += val/2\n",
    "    plt.text(1.9725, cumsum, significances_2020[idx], fontweight=\"bold\")\n",
    "    cumsum += val/2\n",
    "cumsum = -0.4\n",
    "for idx, val in enumerate(df_decomp[\"fit\"]):\n",
    "    if val > 0:\n",
    "        cumsum += val/2\n",
    "        plt.text(2.9725, cumsum, significances_fit[idx], fontweight=\"bold\")\n",
    "        cumsum += val/2\n",
    "cumsum = -0.4\n",
    "for idx, val in enumerate(df_decomp[\"online\"]):\n",
    "    if val > 0:\n",
    "        cumsum += val/2\n",
    "        plt.text(3.9725, cumsum, significances_online[idx], fontweight=\"bold\")\n",
    "        cumsum += val/2\n",
    "\n",
    "# plot layout\n",
    "plt.title(\"Number of Special Methods and Subpipelines\")\n",
    "plt.ylabel(\"Number of publications\")\n",
    "plt.xticks(rotation=0)\n",
    "plt.legend(labels, loc=\"upper right\")\n",
    "plt.show()"
   ]
  },
  {
   "cell_type": "code",
   "execution_count": null,
   "id": "48540003-ec9d-4f04-9943-2ebcde3407d3",
   "metadata": {},
   "outputs": [],
   "source": []
  },
  {
   "attachments": {},
   "cell_type": "markdown",
   "id": "35a3b48c",
   "metadata": {},
   "source": [
    "## Find publications that compare ICA with another method group"
   ]
  },
  {
   "cell_type": "code",
   "execution_count": 90,
   "id": "cf2649e0",
   "metadata": {},
   "outputs": [],
   "source": [
    "ica_refs = set(pipelines_annotated_df[~pipelines_annotated_df[\"ICA\"].isnull()].groupby(\"Reference\").agg(\"count\").index)"
   ]
  },
  {
   "cell_type": "code",
   "execution_count": 91,
   "id": "aff80b1b",
   "metadata": {},
   "outputs": [
    {
     "data": {
      "text/plain": [
       "set()"
      ]
     },
     "execution_count": 91,
     "metadata": {},
     "output_type": "execute_result"
    }
   ],
   "source": [
    "ica_refs.intersection(\n",
    "    set(pipelines_annotated_df[~pipelines_annotated_df[\"EMD\"].isnull()].groupby(\"Reference\").agg(\"count\").index)\n",
    "    ).difference({\"Chen14\", \"Dai21\", \"Saini20\"})  # remove some as there are no comparisions"
   ]
  },
  {
   "cell_type": "code",
   "execution_count": 93,
   "id": "f23cae23",
   "metadata": {},
   "outputs": [
    {
     "data": {
      "text/plain": [
       "{'Chen14', 'Dai21'}"
      ]
     },
     "execution_count": 93,
     "metadata": {},
     "output_type": "execute_result"
    }
   ],
   "source": [
    "ica_refs.intersection(\n",
    "    set(pipelines_annotated_df[~pipelines_annotated_df[\"CCA\"].isnull()].groupby(\"Reference\").agg(\"count\").index)\n",
    ").difference({\"Nordin20\"})  # remove some as there are no comparisions"
   ]
  },
  {
   "cell_type": "code",
   "execution_count": 92,
   "id": "446d85f0",
   "metadata": {},
   "outputs": [
    {
     "data": {
      "text/plain": [
       "{'Arad18', 'Gordon15', 'Rosanne21'}"
      ]
     },
     "execution_count": 92,
     "metadata": {},
     "output_type": "execute_result"
    }
   ],
   "source": [
    "ica_refs.intersection(\n",
    "    set(pipelines_annotated_df[~pipelines_annotated_df[\"PCA\"].isnull()].groupby(\"Reference\").agg(\"count\").index)\n",
    ").difference({\"Nordin20\", \"Anders20\", 'Gabard-Durnam18', \"Flo22\", 'Sebek18', 'Tamburro18', \"McMenamin10\", \"Winkler11\"})  # remove some as there are no comparisions"
   ]
  },
  {
   "cell_type": "code",
   "execution_count": 94,
   "id": "689d26b0",
   "metadata": {},
   "outputs": [
    {
     "data": {
      "text/plain": [
       "set()"
      ]
     },
     "execution_count": 94,
     "metadata": {},
     "output_type": "execute_result"
    }
   ],
   "source": [
    "ica_refs.intersection(\n",
    "    set(pipelines_annotated_df[~pipelines_annotated_df[\"CSP\"].isnull()].groupby(\"Reference\").agg(\"count\").index)\n",
    ").difference({\"Winkler11\"})  # remove some as there are no comparisions"
   ]
  },
  {
   "cell_type": "code",
   "execution_count": null,
   "id": "b1187417",
   "metadata": {},
   "outputs": [],
   "source": []
  }
 ],
 "metadata": {
  "kernelspec": {
   "display_name": "Python 3 (ipykernel)",
   "language": "python",
   "name": "python3"
  },
  "language_info": {
   "codemirror_mode": {
    "name": "ipython",
    "version": 3
   },
   "file_extension": ".py",
   "mimetype": "text/x-python",
   "name": "python",
   "nbconvert_exporter": "python",
   "pygments_lexer": "ipython3",
   "version": "3.10.5"
  }
 },
 "nbformat": 4,
 "nbformat_minor": 5
}
